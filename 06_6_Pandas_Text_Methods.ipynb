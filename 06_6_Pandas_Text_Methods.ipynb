{
  "nbformat": 4,
  "nbformat_minor": 0,
  "metadata": {
    "colab": {
      "name": "06_6_Pandas_Text_Methods.ipynb",
      "provenance": [],
      "authorship_tag": "ABX9TyOSSUwO5dqnnotFNVF/BuoJ",
      "include_colab_link": true
    },
    "kernelspec": {
      "name": "python3",
      "display_name": "Python 3"
    },
    "language_info": {
      "name": "python"
    }
  },
  "cells": [
    {
      "cell_type": "markdown",
      "metadata": {
        "id": "view-in-github",
        "colab_type": "text"
      },
      "source": [
        "<a href=\"https://colab.research.google.com/github/sahil301290/Python-for-Data-Science/blob/main/06_6_Pandas_Text_Methods.ipynb\" target=\"_parent\"><img src=\"https://colab.research.google.com/assets/colab-badge.svg\" alt=\"Open In Colab\"/></a>"
      ]
    },
    {
      "cell_type": "markdown",
      "metadata": {
        "id": "2wWhfxZJuV5X"
      },
      "source": [
        "#Agenda\n",
        "\n",
        "###1. Using String Functions with Pandas\n",
        "\n",
        "###2. Using custom apply() call"
      ]
    },
    {
      "cell_type": "markdown",
      "metadata": {
        "id": "VaXZhI-UuipU"
      },
      "source": [
        "###Using String Function with Pandas"
      ]
    },
    {
      "cell_type": "markdown",
      "metadata": {
        "id": "jVm-zeMZmg7w"
      },
      "source": [
        "Text needs to be cleaned or manipulated.\n",
        "\n",
        "We can use custom apply() function, however, there are many in-build string method calls.\n",
        "\n",
        "https://pandas.pydata.org/pandas-docs/stable/user_guide/text.html"
      ]
    },
    {
      "cell_type": "markdown",
      "metadata": {
        "id": "PL4MmoSTnDYz"
      },
      "source": [
        "There are two ways to store text data in pandas:\n",
        "\n",
        "- object -dtype NumPy array.\n",
        "\n",
        "- StringDtype extension type.\n",
        "\n",
        "We recommend using StringDtype to store text data."
      ]
    },
    {
      "cell_type": "code",
      "metadata": {
        "id": "dxZZkt6Cl9bR"
      },
      "source": [
        "import pandas as pd\n",
        "import numpy as np"
      ],
      "execution_count": 1,
      "outputs": []
    },
    {
      "cell_type": "code",
      "metadata": {
        "id": "yVzgYj7Knht4"
      },
      "source": [
        "text = 'i am sahil'"
      ],
      "execution_count": 2,
      "outputs": []
    },
    {
      "cell_type": "code",
      "metadata": {
        "colab": {
          "base_uri": "https://localhost:8080/"
        },
        "id": "5sB4xM8Domms",
        "outputId": "7cc3a5d4-be1e-49a1-f4dc-fd34fa70a806"
      },
      "source": [
        "text.isdigit()"
      ],
      "execution_count": 3,
      "outputs": [
        {
          "output_type": "execute_result",
          "data": {
            "text/plain": [
              "False"
            ]
          },
          "metadata": {
            "tags": []
          },
          "execution_count": 3
        }
      ]
    },
    {
      "cell_type": "code",
      "metadata": {
        "colab": {
          "base_uri": "https://localhost:8080/"
        },
        "id": "FLCXxCwAnmEI",
        "outputId": "ed2e0704-3199-4150-b7a8-279b45635162"
      },
      "source": [
        "text.split(' ')"
      ],
      "execution_count": 4,
      "outputs": [
        {
          "output_type": "execute_result",
          "data": {
            "text/plain": [
              "['i', 'am', 'sahil']"
            ]
          },
          "metadata": {
            "tags": []
          },
          "execution_count": 4
        }
      ]
    },
    {
      "cell_type": "code",
      "metadata": {
        "colab": {
          "base_uri": "https://localhost:8080/"
        },
        "id": "MYNc88aZod0e",
        "outputId": "5e81da6e-3528-48c5-9e27-fed2b0dcc45e"
      },
      "source": [
        "a = '5'\n",
        "a.isdigit()"
      ],
      "execution_count": 5,
      "outputs": [
        {
          "output_type": "execute_result",
          "data": {
            "text/plain": [
              "True"
            ]
          },
          "metadata": {
            "tags": []
          },
          "execution_count": 5
        }
      ]
    },
    {
      "cell_type": "code",
      "metadata": {
        "colab": {
          "base_uri": "https://localhost:8080/"
        },
        "id": "C6ZyJZfontIm",
        "outputId": "5c7c8668-f466-46e8-e71d-458e9c40a734"
      },
      "source": [
        "names = pd.Series(['abdsf', 'basfd', 'cefe', 'dwwef', '34'])\n",
        "names"
      ],
      "execution_count": 6,
      "outputs": [
        {
          "output_type": "execute_result",
          "data": {
            "text/plain": [
              "0    abdsf\n",
              "1    basfd\n",
              "2     cefe\n",
              "3    dwwef\n",
              "4       34\n",
              "dtype: object"
            ]
          },
          "metadata": {
            "tags": []
          },
          "execution_count": 6
        }
      ]
    },
    {
      "cell_type": "code",
      "metadata": {
        "colab": {
          "base_uri": "https://localhost:8080/"
        },
        "id": "IWjnRcfJoMaA",
        "outputId": "2c809049-6106-4215-e6bc-46f3e734b729"
      },
      "source": [
        "names.str.upper()"
      ],
      "execution_count": 7,
      "outputs": [
        {
          "output_type": "execute_result",
          "data": {
            "text/plain": [
              "0    ABDSF\n",
              "1    BASFD\n",
              "2     CEFE\n",
              "3    DWWEF\n",
              "4       34\n",
              "dtype: object"
            ]
          },
          "metadata": {
            "tags": []
          },
          "execution_count": 7
        }
      ]
    },
    {
      "cell_type": "code",
      "metadata": {
        "colab": {
          "base_uri": "https://localhost:8080/"
        },
        "id": "QaC_a_CZoR4v",
        "outputId": "e610ffac-5837-4c87-d098-c55d2538bcef"
      },
      "source": [
        "names"
      ],
      "execution_count": 8,
      "outputs": [
        {
          "output_type": "execute_result",
          "data": {
            "text/plain": [
              "0    abdsf\n",
              "1    basfd\n",
              "2     cefe\n",
              "3    dwwef\n",
              "4       34\n",
              "dtype: object"
            ]
          },
          "metadata": {
            "tags": []
          },
          "execution_count": 8
        }
      ]
    },
    {
      "cell_type": "code",
      "metadata": {
        "colab": {
          "base_uri": "https://localhost:8080/"
        },
        "id": "RhX6W4gDoVgE",
        "outputId": "81a88a82-5ea0-4ccf-e0ae-29bfdace745f"
      },
      "source": [
        "names.str.isdigit()"
      ],
      "execution_count": 9,
      "outputs": [
        {
          "output_type": "execute_result",
          "data": {
            "text/plain": [
              "0    False\n",
              "1    False\n",
              "2    False\n",
              "3    False\n",
              "4     True\n",
              "dtype: bool"
            ]
          },
          "metadata": {
            "tags": []
          },
          "execution_count": 9
        }
      ]
    },
    {
      "cell_type": "code",
      "metadata": {
        "colab": {
          "base_uri": "https://localhost:8080/"
        },
        "id": "VLXiPFO5o8iJ",
        "outputId": "0f2fce5e-694d-45c1-f617-f8aa1002df2e"
      },
      "source": [
        "fintech = ['GOOG,AMZN,APPL','HDFC,JPM,BRK']\n",
        "len(fintech)"
      ],
      "execution_count": 10,
      "outputs": [
        {
          "output_type": "execute_result",
          "data": {
            "text/plain": [
              "2"
            ]
          },
          "metadata": {
            "tags": []
          },
          "execution_count": 10
        }
      ]
    },
    {
      "cell_type": "code",
      "metadata": {
        "colab": {
          "base_uri": "https://localhost:8080/"
        },
        "id": "1IstvcBnpi9x",
        "outputId": "63621e6b-c5e0-4c08-975e-37c1ceea1a50"
      },
      "source": [
        "ticks = pd.Series(fintech)\n",
        "ticks"
      ],
      "execution_count": 11,
      "outputs": [
        {
          "output_type": "execute_result",
          "data": {
            "text/plain": [
              "0    GOOG,AMZN,APPL\n",
              "1      HDFC,JPM,BRK\n",
              "dtype: object"
            ]
          },
          "metadata": {
            "tags": []
          },
          "execution_count": 11
        }
      ]
    },
    {
      "cell_type": "code",
      "metadata": {
        "colab": {
          "base_uri": "https://localhost:8080/"
        },
        "id": "NOV1_YQKpok1",
        "outputId": "e9fc8d7d-ecdc-4c68-f862-41aadbb7a7f4"
      },
      "source": [
        "tech = 'GOOG,AMZN,APPL'\n",
        "tech.split(',')"
      ],
      "execution_count": 12,
      "outputs": [
        {
          "output_type": "execute_result",
          "data": {
            "text/plain": [
              "['GOOG', 'AMZN', 'APPL']"
            ]
          },
          "metadata": {
            "tags": []
          },
          "execution_count": 12
        }
      ]
    },
    {
      "cell_type": "code",
      "metadata": {
        "colab": {
          "base_uri": "https://localhost:8080/"
        },
        "id": "IW8dvmTkpt02",
        "outputId": "2b2dfc7e-33d3-4730-d7ac-bea03fed65d2"
      },
      "source": [
        "ticks.str.split(',').str[0]"
      ],
      "execution_count": 13,
      "outputs": [
        {
          "output_type": "execute_result",
          "data": {
            "text/plain": [
              "0    GOOG\n",
              "1    HDFC\n",
              "dtype: object"
            ]
          },
          "metadata": {
            "tags": []
          },
          "execution_count": 13
        }
      ]
    },
    {
      "cell_type": "code",
      "metadata": {
        "colab": {
          "base_uri": "https://localhost:8080/",
          "height": 110
        },
        "id": "-S6-NajRqQZc",
        "outputId": "b828c98b-f90c-4d03-b45c-29344eb49200"
      },
      "source": [
        "ticks.str.split(',', expand = True)"
      ],
      "execution_count": 14,
      "outputs": [
        {
          "output_type": "execute_result",
          "data": {
            "text/html": [
              "<div>\n",
              "<style scoped>\n",
              "    .dataframe tbody tr th:only-of-type {\n",
              "        vertical-align: middle;\n",
              "    }\n",
              "\n",
              "    .dataframe tbody tr th {\n",
              "        vertical-align: top;\n",
              "    }\n",
              "\n",
              "    .dataframe thead th {\n",
              "        text-align: right;\n",
              "    }\n",
              "</style>\n",
              "<table border=\"1\" class=\"dataframe\">\n",
              "  <thead>\n",
              "    <tr style=\"text-align: right;\">\n",
              "      <th></th>\n",
              "      <th>0</th>\n",
              "      <th>1</th>\n",
              "      <th>2</th>\n",
              "    </tr>\n",
              "  </thead>\n",
              "  <tbody>\n",
              "    <tr>\n",
              "      <th>0</th>\n",
              "      <td>GOOG</td>\n",
              "      <td>AMZN</td>\n",
              "      <td>APPL</td>\n",
              "    </tr>\n",
              "    <tr>\n",
              "      <th>1</th>\n",
              "      <td>HDFC</td>\n",
              "      <td>JPM</td>\n",
              "      <td>BRK</td>\n",
              "    </tr>\n",
              "  </tbody>\n",
              "</table>\n",
              "</div>"
            ],
            "text/plain": [
              "      0     1     2\n",
              "0  GOOG  AMZN  APPL\n",
              "1  HDFC   JPM   BRK"
            ]
          },
          "metadata": {
            "tags": []
          },
          "execution_count": 14
        }
      ]
    },
    {
      "cell_type": "markdown",
      "metadata": {
        "id": "9iPVsSfZrcLe"
      },
      "source": [
        "Stacking String Calls"
      ]
    },
    {
      "cell_type": "code",
      "metadata": {
        "colab": {
          "base_uri": "https://localhost:8080/"
        },
        "id": "TMQbsNouqlkY",
        "outputId": "7916fd88-3bf5-4348-ed85-883f532e16e6"
      },
      "source": [
        "RandomNames = pd.Series(['sdfsd   ', '  wegw   ', 'sdfs:sdvs'])\n",
        "RandomNames"
      ],
      "execution_count": 15,
      "outputs": [
        {
          "output_type": "execute_result",
          "data": {
            "text/plain": [
              "0     sdfsd   \n",
              "1      wegw   \n",
              "2    sdfs:sdvs\n",
              "dtype: object"
            ]
          },
          "metadata": {
            "tags": []
          },
          "execution_count": 15
        }
      ]
    },
    {
      "cell_type": "code",
      "metadata": {
        "colab": {
          "base_uri": "https://localhost:8080/"
        },
        "id": "3NlmvZR-s0SC",
        "outputId": "72bf7902-f476-4ce9-80a7-124881cf777b"
      },
      "source": [
        "RandomNames.str.replace(':','')#.str.strip().str.capitalize()"
      ],
      "execution_count": 16,
      "outputs": [
        {
          "output_type": "execute_result",
          "data": {
            "text/plain": [
              "0     sdfsd   \n",
              "1      wegw   \n",
              "2     sdfssdvs\n",
              "dtype: object"
            ]
          },
          "metadata": {
            "tags": []
          },
          "execution_count": 16
        }
      ]
    },
    {
      "cell_type": "markdown",
      "metadata": {
        "id": "u9UEGpDYtmqo"
      },
      "source": [
        "#Using custom apply() call"
      ]
    },
    {
      "cell_type": "code",
      "metadata": {
        "id": "t7nCx5SMtCV7"
      },
      "source": [
        "def clean(name):\n",
        "  name = name.replace(':','')\n",
        "  name = name.strip()\n",
        "  name = name.capitalize()\n",
        "  return name"
      ],
      "execution_count": 17,
      "outputs": []
    },
    {
      "cell_type": "code",
      "metadata": {
        "colab": {
          "base_uri": "https://localhost:8080/"
        },
        "id": "3Y4DbBZrt2Sa",
        "outputId": "9d1b8966-eb23-4538-fc08-7b5a38c76c35"
      },
      "source": [
        "RandomNames.apply(clean)"
      ],
      "execution_count": 18,
      "outputs": [
        {
          "output_type": "execute_result",
          "data": {
            "text/plain": [
              "0       Sdfsd\n",
              "1        Wegw\n",
              "2    Sdfssdvs\n",
              "dtype: object"
            ]
          },
          "metadata": {
            "tags": []
          },
          "execution_count": 18
        }
      ]
    },
    {
      "cell_type": "markdown",
      "metadata": {
        "id": "TwhWQmo4u7A9"
      },
      "source": [
        "End of code"
      ]
    }
  ]
}