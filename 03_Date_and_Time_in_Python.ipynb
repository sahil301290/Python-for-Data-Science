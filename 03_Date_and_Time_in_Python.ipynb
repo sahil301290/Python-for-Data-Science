{
  "nbformat": 4,
  "nbformat_minor": 0,
  "metadata": {
    "colab": {
      "name": "03_Date_and_Time_in_Python.ipynb",
      "provenance": [],
      "authorship_tag": "ABX9TyMl4YzgWgocpXW8bffhC6X9",
      "include_colab_link": true
    },
    "kernelspec": {
      "name": "python3",
      "display_name": "Python 3"
    },
    "language_info": {
      "name": "python"
    }
  },
  "cells": [
    {
      "cell_type": "markdown",
      "metadata": {
        "id": "view-in-github",
        "colab_type": "text"
      },
      "source": [
        "<a href=\"https://colab.research.google.com/github/sahil301290/Python-for-Data-Science/blob/main/03_Date_and_Time_in_Python.ipynb\" target=\"_parent\"><img src=\"https://colab.research.google.com/assets/colab-badge.svg\" alt=\"Open In Colab\"/></a>"
      ]
    },
    {
      "cell_type": "markdown",
      "metadata": {
        "id": "CvY5RVyxhnsj"
      },
      "source": [
        "#Date, Time and Timezones in Python"
      ]
    },
    {
      "cell_type": "markdown",
      "metadata": {
        "id": "sIbmCdgLntL1"
      },
      "source": [
        "###Date"
      ]
    },
    {
      "cell_type": "code",
      "metadata": {
        "id": "XrPTSubclKWe"
      },
      "source": [
        "#Imports\n",
        "import datetime"
      ],
      "execution_count": 1,
      "outputs": []
    },
    {
      "cell_type": "code",
      "metadata": {
        "colab": {
          "base_uri": "https://localhost:8080/"
        },
        "id": "jQjCB4s1hylo",
        "outputId": "b0fb4edb-83ea-498f-fe8e-f299842b3187"
      },
      "source": [
        "#Passing particular date\n",
        "D = datetime.date(2021, 1, 26)    #format yyyy, mm, dd\n",
        "print(D)"
      ],
      "execution_count": 2,
      "outputs": [
        {
          "output_type": "stream",
          "text": [
            "2021-01-26\n"
          ],
          "name": "stdout"
        }
      ]
    },
    {
      "cell_type": "code",
      "metadata": {
        "colab": {
          "base_uri": "https://localhost:8080/"
        },
        "id": "ENAX5aGph-lj",
        "outputId": "646849ca-86f5-419c-9bc1-1b4041b2c321"
      },
      "source": [
        "today = datetime.date.today()\n",
        "print(today)"
      ],
      "execution_count": 3,
      "outputs": [
        {
          "output_type": "stream",
          "text": [
            "2021-05-26\n"
          ],
          "name": "stdout"
        }
      ]
    },
    {
      "cell_type": "code",
      "metadata": {
        "colab": {
          "base_uri": "https://localhost:8080/"
        },
        "id": "EuinZbO6ih9-",
        "outputId": "68e6b965-32ea-4aac-8e7b-0947c498210c"
      },
      "source": [
        "print(today.year)\n",
        "print(today.month)\n",
        "print(today.day)"
      ],
      "execution_count": 4,
      "outputs": [
        {
          "output_type": "stream",
          "text": [
            "2021\n",
            "5\n",
            "26\n"
          ],
          "name": "stdout"
        }
      ]
    },
    {
      "cell_type": "code",
      "metadata": {
        "colab": {
          "base_uri": "https://localhost:8080/"
        },
        "id": "eoyul4-NisyB",
        "outputId": "e96a7823-b06e-44e7-e2a8-6e03fa9b8eca"
      },
      "source": [
        "#Printing the week day\n",
        "print(today.weekday())      #Monday - 0,..., Sunday - 6\n",
        "print(today.isoweekday())   #Monday - 1,..., Sunday - 7"
      ],
      "execution_count": 5,
      "outputs": [
        {
          "output_type": "stream",
          "text": [
            "2\n",
            "3\n"
          ],
          "name": "stdout"
        }
      ]
    },
    {
      "cell_type": "code",
      "metadata": {
        "colab": {
          "base_uri": "https://localhost:8080/"
        },
        "id": "Y4S-zipwj-Cf",
        "outputId": "46312e41-3bb6-478d-b3cb-c228672d6aa3"
      },
      "source": [
        "#Finding which date it will be before or after few days\n",
        "t_delta = datetime.timedelta(days = 10)\n",
        "print(today - t_delta)\n",
        "print(today + t_delta)"
      ],
      "execution_count": 6,
      "outputs": [
        {
          "output_type": "stream",
          "text": [
            "2021-05-16\n",
            "2021-06-05\n"
          ],
          "name": "stdout"
        }
      ]
    },
    {
      "cell_type": "code",
      "metadata": {
        "colab": {
          "base_uri": "https://localhost:8080/"
        },
        "id": "LzetE7lukcZA",
        "outputId": "294fb4da-4f18-4f84-a2c6-b5455d488626"
      },
      "source": [
        "last_holiday  = datetime.date(2021, 6, 30)\n",
        "holidays_left = last_holiday - today\n",
        "print(holidays_left.days)\n",
        "print(holidays_left.total_seconds())"
      ],
      "execution_count": 7,
      "outputs": [
        {
          "output_type": "stream",
          "text": [
            "35\n",
            "3024000.0\n"
          ],
          "name": "stdout"
        }
      ]
    },
    {
      "cell_type": "markdown",
      "metadata": {
        "id": "uZtL_ZEXnxmN"
      },
      "source": [
        "###Time"
      ]
    },
    {
      "cell_type": "code",
      "metadata": {
        "colab": {
          "base_uri": "https://localhost:8080/"
        },
        "id": "pTHi9Wq1m6UL",
        "outputId": "1145a3f6-90e8-467e-e560-6f232a7aae4a"
      },
      "source": [
        "today = datetime.time(10,30,20,1000)\n",
        "print(today)"
      ],
      "execution_count": 8,
      "outputs": [
        {
          "output_type": "stream",
          "text": [
            "10:30:20.001000\n"
          ],
          "name": "stdout"
        }
      ]
    },
    {
      "cell_type": "code",
      "metadata": {
        "colab": {
          "base_uri": "https://localhost:8080/"
        },
        "id": "n24SO0iWoBP0",
        "outputId": "c2e9d0ca-0d3d-4920-a9f6-015509e67b77"
      },
      "source": [
        "print(today.hour)\n",
        "print(today.minute)\n",
        "print(today.second)\n",
        "print(today.microsecond)"
      ],
      "execution_count": 9,
      "outputs": [
        {
          "output_type": "stream",
          "text": [
            "10\n",
            "30\n",
            "20\n",
            "1000\n"
          ],
          "name": "stdout"
        }
      ]
    },
    {
      "cell_type": "code",
      "metadata": {
        "colab": {
          "base_uri": "https://localhost:8080/"
        },
        "id": "-YwP1062oMqL",
        "outputId": "d9616360-3d42-4392-e01f-02ceb2eb8a02"
      },
      "source": [
        "#Combined datetime\n",
        "today = datetime.datetime(2021, 4, 30, 10, 30, 20, 1000)\n",
        "print(today)"
      ],
      "execution_count": 10,
      "outputs": [
        {
          "output_type": "stream",
          "text": [
            "2021-04-30 10:30:20.001000\n"
          ],
          "name": "stdout"
        }
      ]
    },
    {
      "cell_type": "code",
      "metadata": {
        "colab": {
          "base_uri": "https://localhost:8080/"
        },
        "id": "MutUYoRDozK7",
        "outputId": "5a5e5177-b0af-4844-f53f-f8b9ebf6af4f"
      },
      "source": [
        "print(today.year)\n",
        "print(today.month)\n",
        "print(today.day)\n",
        "print(today.hour)\n",
        "print(today.minute)\n",
        "print(today.second)\n",
        "print(today.microsecond)"
      ],
      "execution_count": 11,
      "outputs": [
        {
          "output_type": "stream",
          "text": [
            "2021\n",
            "4\n",
            "30\n",
            "10\n",
            "30\n",
            "20\n",
            "1000\n"
          ],
          "name": "stdout"
        }
      ]
    },
    {
      "cell_type": "code",
      "metadata": {
        "colab": {
          "base_uri": "https://localhost:8080/"
        },
        "id": "kEnVfPDCu2YN",
        "outputId": "1db28e76-3f30-4401-c8a8-16321db2c733"
      },
      "source": [
        "time_delta = datetime.timedelta(days=10)\n",
        "print(today + time_delta)"
      ],
      "execution_count": 12,
      "outputs": [
        {
          "output_type": "stream",
          "text": [
            "2021-05-10 10:30:20.001000\n"
          ],
          "name": "stdout"
        }
      ]
    },
    {
      "cell_type": "code",
      "metadata": {
        "colab": {
          "base_uri": "https://localhost:8080/"
        },
        "id": "1QAhCDg_vMv2",
        "outputId": "cfbd14a8-aa25-4f70-9945-fc06459988a1"
      },
      "source": [
        "time_delta = datetime.timedelta(hours = 20)   #Similarly, it can be done for minutes, seconds, and microseconds\n",
        "print(today)\n",
        "print(today + time_delta)"
      ],
      "execution_count": 13,
      "outputs": [
        {
          "output_type": "stream",
          "text": [
            "2021-04-30 10:30:20.001000\n",
            "2021-05-01 06:30:20.001000\n"
          ],
          "name": "stdout"
        }
      ]
    },
    {
      "cell_type": "code",
      "metadata": {
        "colab": {
          "base_uri": "https://localhost:8080/"
        },
        "id": "KfHdM05sxFGv",
        "outputId": "74127139-6f84-45a1-a6e2-9499a028bf23"
      },
      "source": [
        "dt_today = datetime.datetime.today()\n",
        "print(dt_today)\n",
        "dt_now = datetime.datetime.now()\n",
        "print(dt_now)\n",
        "dt_utc = datetime.datetime.utcnow()\n",
        "print(dt_utc)"
      ],
      "execution_count": 14,
      "outputs": [
        {
          "output_type": "stream",
          "text": [
            "2021-05-26 14:38:32.083019\n",
            "2021-05-26 14:38:32.084993\n",
            "2021-05-26 14:38:32.086082\n"
          ],
          "name": "stdout"
        }
      ]
    },
    {
      "cell_type": "markdown",
      "metadata": {
        "id": "hJbaVv4d2JAJ"
      },
      "source": [
        "Time Zones in Python"
      ]
    },
    {
      "cell_type": "code",
      "metadata": {
        "id": "c3EYBfVEyJ_g"
      },
      "source": [
        "import pytz     #Python TimeZone Library"
      ],
      "execution_count": 15,
      "outputs": []
    },
    {
      "cell_type": "code",
      "metadata": {
        "colab": {
          "base_uri": "https://localhost:8080/"
        },
        "id": "h3XkXeXd2pp3",
        "outputId": "d2920daa-163b-4c94-c91f-ea9c169c2b07"
      },
      "source": [
        "dt = datetime.datetime(2021, 5, 26, 19, 10, 10, tzinfo = pytz.UTC)\n",
        "print(dt)"
      ],
      "execution_count": 16,
      "outputs": [
        {
          "output_type": "stream",
          "text": [
            "2021-05-26 19:10:10+00:00\n"
          ],
          "name": "stdout"
        }
      ]
    },
    {
      "cell_type": "code",
      "metadata": {
        "colab": {
          "base_uri": "https://localhost:8080/"
        },
        "id": "0_tit-9M3H86",
        "outputId": "a9c6ac87-dbec-4afd-c90b-0c97f82280d8"
      },
      "source": [
        "dt_utcnow = datetime.datetime.now(tz = pytz.UTC)\n",
        "print(dt_utcnow) "
      ],
      "execution_count": 17,
      "outputs": [
        {
          "output_type": "stream",
          "text": [
            "2021-05-26 14:38:32.124509+00:00\n"
          ],
          "name": "stdout"
        }
      ]
    },
    {
      "cell_type": "code",
      "metadata": {
        "colab": {
          "base_uri": "https://localhost:8080/"
        },
        "id": "LbB7hAuY62No",
        "outputId": "4cbf3ef0-cc5c-4da8-cedb-1d7576dccd65"
      },
      "source": [
        "#set(pytz.all_timezones_set)\n",
        "'Asia/Kolkata' in set(pytz.all_timezones_set)"
      ],
      "execution_count": 18,
      "outputs": [
        {
          "output_type": "execute_result",
          "data": {
            "text/plain": [
              "False"
            ]
          },
          "metadata": {
            "tags": []
          },
          "execution_count": 18
        }
      ]
    },
    {
      "cell_type": "code",
      "metadata": {
        "colab": {
          "base_uri": "https://localhost:8080/"
        },
        "id": "BTuc-pcL4LRC",
        "outputId": "745203b1-3426-496b-8120-fa6289b12321"
      },
      "source": [
        "dt_India = dt_utcnow.astimezone(pytz.timezone('Asia/Kolkata'))\n",
        "print(dt_India)"
      ],
      "execution_count": 19,
      "outputs": [
        {
          "output_type": "stream",
          "text": [
            "2021-05-26 20:08:32.124509+05:30\n"
          ],
          "name": "stdout"
        }
      ]
    },
    {
      "cell_type": "code",
      "metadata": {
        "colab": {
          "base_uri": "https://localhost:8080/"
        },
        "id": "YtpgYWVL4UvB",
        "outputId": "2504b678-f7ad-4552-9a3e-8f656a536c20"
      },
      "source": [
        "print(dt_India.isoformat())"
      ],
      "execution_count": 20,
      "outputs": [
        {
          "output_type": "stream",
          "text": [
            "2021-05-26T20:08:32.124509+05:30\n"
          ],
          "name": "stdout"
        }
      ]
    },
    {
      "cell_type": "code",
      "metadata": {
        "colab": {
          "base_uri": "https://localhost:8080/"
        },
        "id": "2sEoRQEU7-zE",
        "outputId": "3bf15c3e-92fd-47c1-ff2a-599c942e8eb7"
      },
      "source": [
        "print(dt_India.strftime('%d.%m.%Y'))    "
      ],
      "execution_count": 21,
      "outputs": [
        {
          "output_type": "stream",
          "text": [
            "26.05.2021\n"
          ],
          "name": "stdout"
        }
      ]
    },
    {
      "cell_type": "code",
      "metadata": {
        "colab": {
          "base_uri": "https://localhost:8080/"
        },
        "id": "Fu_e5f2Y8yAD",
        "outputId": "47bac8d6-0801-4e07-b148-0f0de56fc96a"
      },
      "source": [
        "dt_str = '26.05.2021'\n",
        "dt = datetime.datetime.strptime(dt_str, '%d.%m.%Y')   #Strptime python is used to convert string to datetime object\n",
        "print(dt)"
      ],
      "execution_count": 22,
      "outputs": [
        {
          "output_type": "stream",
          "text": [
            "2021-05-26 00:00:00\n"
          ],
          "name": "stdout"
        }
      ]
    },
    {
      "cell_type": "markdown",
      "metadata": {
        "id": "rd65Qo_pEQHt"
      },
      "source": [
        "###Problem Statement\n",
        "\n",
        "Lets say you shifted in the apartment on 10th Jan 2017.\n",
        "\n",
        "Write a program to find total months/years you have stayed in your apartment till date."
      ]
    },
    {
      "cell_type": "code",
      "metadata": {
        "colab": {
          "base_uri": "https://localhost:8080/"
        },
        "id": "6D5VPpwhEPmR",
        "outputId": "a505728a-b11e-46b5-9f84-f813d98ddac9"
      },
      "source": [
        "startdate = datetime.date(2017, 1, 10)\n",
        "todaydate = datetime.date.today()\n",
        "print(startdate, todaydate)"
      ],
      "execution_count": 23,
      "outputs": [
        {
          "output_type": "stream",
          "text": [
            "2017-01-10 2021-05-26\n"
          ],
          "name": "stdout"
        }
      ]
    },
    {
      "cell_type": "code",
      "metadata": {
        "colab": {
          "base_uri": "https://localhost:8080/"
        },
        "id": "15Xam5W6FnZr",
        "outputId": "9b275f90-c215-45b9-a3c5-e8b60c1ca0d2"
      },
      "source": [
        "(todaydate - startdate).days"
      ],
      "execution_count": 24,
      "outputs": [
        {
          "output_type": "execute_result",
          "data": {
            "text/plain": [
              "1597"
            ]
          },
          "metadata": {
            "tags": []
          },
          "execution_count": 24
        }
      ]
    },
    {
      "cell_type": "code",
      "metadata": {
        "colab": {
          "base_uri": "https://localhost:8080/"
        },
        "id": "Ac_ztZqqFzqr",
        "outputId": "679981a9-f961-48e2-b938-63276a3f9ede"
      },
      "source": [
        "num_months = (todaydate.year - startdate.year) * 12 + (todaydate.month - startdate.month)\n",
        "print(num_months)"
      ],
      "execution_count": 25,
      "outputs": [
        {
          "output_type": "stream",
          "text": [
            "52\n"
          ],
          "name": "stdout"
        }
      ]
    },
    {
      "cell_type": "code",
      "metadata": {
        "colab": {
          "base_uri": "https://localhost:8080/"
        },
        "id": "MDUHdyfTGJyE",
        "outputId": "6991c68f-82c0-4172-afaf-04ad5180c84a"
      },
      "source": [
        "num_years = num_months/12\n",
        "round(num_years,2)"
      ],
      "execution_count": 26,
      "outputs": [
        {
          "output_type": "execute_result",
          "data": {
            "text/plain": [
              "4.33"
            ]
          },
          "metadata": {
            "tags": []
          },
          "execution_count": 26
        }
      ]
    }
  ]
}