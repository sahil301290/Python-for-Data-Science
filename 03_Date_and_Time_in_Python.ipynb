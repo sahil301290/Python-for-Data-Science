{
  "nbformat": 4,
  "nbformat_minor": 0,
  "metadata": {
    "colab": {
      "name": "03_Date_and_Time_in_Python.ipynb",
      "provenance": [],
      "authorship_tag": "ABX9TyPjVImWA4brjjbRFdKfrnoj",
      "include_colab_link": true
    },
    "kernelspec": {
      "name": "python3",
      "display_name": "Python 3"
    },
    "language_info": {
      "name": "python"
    }
  },
  "cells": [
    {
      "cell_type": "markdown",
      "metadata": {
        "id": "view-in-github",
        "colab_type": "text"
      },
      "source": [
        "<a href=\"https://colab.research.google.com/github/sahil301290/Python-for-Data-Science/blob/main/03_Date_and_Time_in_Python.ipynb\" target=\"_parent\"><img src=\"https://colab.research.google.com/assets/colab-badge.svg\" alt=\"Open In Colab\"/></a>"
      ]
    },
    {
      "cell_type": "markdown",
      "metadata": {
        "id": "CvY5RVyxhnsj"
      },
      "source": [
        "#Date, Time and Timezones in Python"
      ]
    },
    {
      "cell_type": "markdown",
      "metadata": {
        "id": "sIbmCdgLntL1"
      },
      "source": [
        "###Date"
      ]
    },
    {
      "cell_type": "code",
      "metadata": {
        "id": "XrPTSubclKWe"
      },
      "source": [
        "#Imports\n",
        "import datetime"
      ],
      "execution_count": 1,
      "outputs": []
    },
    {
      "cell_type": "code",
      "metadata": {
        "colab": {
          "base_uri": "https://localhost:8080/"
        },
        "id": "jQjCB4s1hylo",
        "outputId": "28b1f767-4ce6-4471-d173-221b89493b99"
      },
      "source": [
        "#Passing particular date\n",
        "D = datetime.date(2021, 1, 26)    #format yyyy, mm, dd\n",
        "print(D)"
      ],
      "execution_count": 2,
      "outputs": [
        {
          "output_type": "stream",
          "text": [
            "2021-01-26\n"
          ],
          "name": "stdout"
        }
      ]
    },
    {
      "cell_type": "code",
      "metadata": {
        "colab": {
          "base_uri": "https://localhost:8080/"
        },
        "id": "ENAX5aGph-lj",
        "outputId": "a62b4f73-3f6f-4e26-c6f6-eea79084db2a"
      },
      "source": [
        "today = datetime.date.today()\n",
        "print(today)"
      ],
      "execution_count": 3,
      "outputs": [
        {
          "output_type": "stream",
          "text": [
            "2021-05-26\n"
          ],
          "name": "stdout"
        }
      ]
    },
    {
      "cell_type": "code",
      "metadata": {
        "colab": {
          "base_uri": "https://localhost:8080/"
        },
        "id": "EuinZbO6ih9-",
        "outputId": "ae2cf8b8-18ab-4f69-c7bc-029ea9825ca2"
      },
      "source": [
        "print(today.year)\n",
        "print(today.month)\n",
        "print(today.day)"
      ],
      "execution_count": 4,
      "outputs": [
        {
          "output_type": "stream",
          "text": [
            "2021\n",
            "5\n",
            "26\n"
          ],
          "name": "stdout"
        }
      ]
    },
    {
      "cell_type": "code",
      "metadata": {
        "colab": {
          "base_uri": "https://localhost:8080/"
        },
        "id": "eoyul4-NisyB",
        "outputId": "ca358e8d-a3be-4ae8-f7cd-1c4be39d01d8"
      },
      "source": [
        "#Printing the week day\n",
        "print(today.weekday())      #Monday - 0,..., Sunday - 6\n",
        "print(today.isoweekday())   #Monday - 1,..., Sunday - 7"
      ],
      "execution_count": 5,
      "outputs": [
        {
          "output_type": "stream",
          "text": [
            "2\n",
            "3\n"
          ],
          "name": "stdout"
        }
      ]
    },
    {
      "cell_type": "code",
      "metadata": {
        "colab": {
          "base_uri": "https://localhost:8080/"
        },
        "id": "Y4S-zipwj-Cf",
        "outputId": "8198f951-d570-42dc-8ee7-2f59adb2bd5c"
      },
      "source": [
        "#Finding which date it will be before or after few days\n",
        "t_delta = datetime.timedelta(days = 10)\n",
        "print(today - t_delta)\n",
        "print(today + t_delta)"
      ],
      "execution_count": 6,
      "outputs": [
        {
          "output_type": "stream",
          "text": [
            "2021-05-16\n",
            "2021-06-05\n"
          ],
          "name": "stdout"
        }
      ]
    },
    {
      "cell_type": "code",
      "metadata": {
        "colab": {
          "base_uri": "https://localhost:8080/"
        },
        "id": "LzetE7lukcZA",
        "outputId": "909c0777-3228-4572-c55c-95ac46e44024"
      },
      "source": [
        "last_holiday  = datetime.date(2021, 6, 30)\n",
        "holidays_left = last_holiday - today\n",
        "print(holidays_left)\n",
        "print(holidays_left.days)\n",
        "print(holidays_left.total_seconds())"
      ],
      "execution_count": 7,
      "outputs": [
        {
          "output_type": "stream",
          "text": [
            "35 days, 0:00:00\n",
            "35\n",
            "3024000.0\n"
          ],
          "name": "stdout"
        }
      ]
    },
    {
      "cell_type": "markdown",
      "metadata": {
        "id": "uZtL_ZEXnxmN"
      },
      "source": [
        "###Time"
      ]
    },
    {
      "cell_type": "code",
      "metadata": {
        "colab": {
          "base_uri": "https://localhost:8080/"
        },
        "id": "pTHi9Wq1m6UL",
        "outputId": "e1b70683-f773-45a7-ad03-cdd7aab3ebbd"
      },
      "source": [
        "today = datetime.time(10,30,20,1000)\n",
        "print(today)"
      ],
      "execution_count": 9,
      "outputs": [
        {
          "output_type": "stream",
          "text": [
            "10:30:20.001000\n"
          ],
          "name": "stdout"
        }
      ]
    },
    {
      "cell_type": "code",
      "metadata": {
        "colab": {
          "base_uri": "https://localhost:8080/"
        },
        "id": "n24SO0iWoBP0",
        "outputId": "2847b84b-5d17-4e0b-e53d-378a1664abe2"
      },
      "source": [
        "print(today.hour)\n",
        "print(today.minute)\n",
        "print(today.second)\n",
        "print(today.microsecond)"
      ],
      "execution_count": 10,
      "outputs": [
        {
          "output_type": "stream",
          "text": [
            "10\n",
            "30\n",
            "20\n",
            "1000\n"
          ],
          "name": "stdout"
        }
      ]
    },
    {
      "cell_type": "code",
      "metadata": {
        "colab": {
          "base_uri": "https://localhost:8080/"
        },
        "id": "-YwP1062oMqL",
        "outputId": "d128c890-06a7-404e-ccb9-dda7f4161b7c"
      },
      "source": [
        "#Combined datetime\n",
        "today = datetime.datetime(2021, 4, 30, 10, 30, 20, 1000)\n",
        "print(today)"
      ],
      "execution_count": 11,
      "outputs": [
        {
          "output_type": "stream",
          "text": [
            "2021-04-30 10:30:20.001000\n"
          ],
          "name": "stdout"
        }
      ]
    },
    {
      "cell_type": "code",
      "metadata": {
        "colab": {
          "base_uri": "https://localhost:8080/"
        },
        "id": "MutUYoRDozK7",
        "outputId": "99072661-81f7-403f-8325-29d0a809f7b6"
      },
      "source": [
        "print(today.year)\n",
        "print(today.month)\n",
        "print(today.day)\n",
        "print(today.hour)\n",
        "print(today.minute)\n",
        "print(today.second)\n",
        "print(today.microsecond)"
      ],
      "execution_count": 12,
      "outputs": [
        {
          "output_type": "stream",
          "text": [
            "2021\n",
            "4\n",
            "30\n",
            "10\n",
            "30\n",
            "20\n",
            "1000\n"
          ],
          "name": "stdout"
        }
      ]
    },
    {
      "cell_type": "code",
      "metadata": {
        "colab": {
          "base_uri": "https://localhost:8080/"
        },
        "id": "kEnVfPDCu2YN",
        "outputId": "43bf5742-fc99-4b1b-ea87-80237ead9b71"
      },
      "source": [
        "time_delta = datetime.timedelta(days=10)\n",
        "print(today + time_delta)"
      ],
      "execution_count": 13,
      "outputs": [
        {
          "output_type": "stream",
          "text": [
            "2021-05-10 10:30:20.001000\n"
          ],
          "name": "stdout"
        }
      ]
    },
    {
      "cell_type": "code",
      "metadata": {
        "colab": {
          "base_uri": "https://localhost:8080/"
        },
        "id": "1QAhCDg_vMv2",
        "outputId": "02037b05-717b-4d8d-95e9-c67ed939cf00"
      },
      "source": [
        "time_delta = datetime.timedelta(hours = 20)   #Similarly, it can be done for minutes, seconds, and microseconds\n",
        "print(today)\n",
        "print(today + time_delta)"
      ],
      "execution_count": 14,
      "outputs": [
        {
          "output_type": "stream",
          "text": [
            "2021-04-30 10:30:20.001000\n",
            "2021-05-01 06:30:20.001000\n"
          ],
          "name": "stdout"
        }
      ]
    },
    {
      "cell_type": "code",
      "metadata": {
        "colab": {
          "base_uri": "https://localhost:8080/"
        },
        "id": "KfHdM05sxFGv",
        "outputId": "c524154c-1064-4338-ac8a-069a407f593d"
      },
      "source": [
        "dt_today = datetime.datetime.today()\n",
        "print(dt_today)\n",
        "dt_now = datetime.datetime.now()\n",
        "print(dt_now)\n",
        "dt_utc = datetime.datetime.utcnow()\n",
        "print(dt_utc)"
      ],
      "execution_count": 15,
      "outputs": [
        {
          "output_type": "stream",
          "text": [
            "2021-05-26 16:03:57.148533\n",
            "2021-05-26 16:03:57.149688\n",
            "2021-05-26 16:03:57.150233\n"
          ],
          "name": "stdout"
        }
      ]
    },
    {
      "cell_type": "markdown",
      "metadata": {
        "id": "hJbaVv4d2JAJ"
      },
      "source": [
        "Time Zones in Python"
      ]
    },
    {
      "cell_type": "code",
      "metadata": {
        "id": "c3EYBfVEyJ_g"
      },
      "source": [
        "import pytz     #Python TimeZone Library"
      ],
      "execution_count": 16,
      "outputs": []
    },
    {
      "cell_type": "code",
      "metadata": {
        "colab": {
          "base_uri": "https://localhost:8080/"
        },
        "id": "h3XkXeXd2pp3",
        "outputId": "0e211116-4d2b-4e86-d086-836a2d8e2c22"
      },
      "source": [
        "dt = datetime.datetime(2021, 5, 26, 19, 10, 10, tzinfo = pytz.UTC)\n",
        "print(dt)"
      ],
      "execution_count": 17,
      "outputs": [
        {
          "output_type": "stream",
          "text": [
            "2021-05-26 19:10:10+00:00\n"
          ],
          "name": "stdout"
        }
      ]
    },
    {
      "cell_type": "code",
      "metadata": {
        "colab": {
          "base_uri": "https://localhost:8080/"
        },
        "id": "0_tit-9M3H86",
        "outputId": "2e519a7f-f4fb-41f3-c461-f0e2fafd36c4"
      },
      "source": [
        "dt_utcnow = datetime.datetime.now(tz = pytz.UTC)\n",
        "print(dt_utcnow) "
      ],
      "execution_count": 18,
      "outputs": [
        {
          "output_type": "stream",
          "text": [
            "2021-05-26 16:07:55.631976+00:00\n"
          ],
          "name": "stdout"
        }
      ]
    },
    {
      "cell_type": "code",
      "metadata": {
        "colab": {
          "base_uri": "https://localhost:8080/"
        },
        "id": "LbB7hAuY62No",
        "outputId": "df6e165c-03c2-4b4d-bc47-82c74299d72f"
      },
      "source": [
        "#pytz.all_timezones_set\n",
        "'Asia/Kolkata' in set(pytz.all_timezones_set)"
      ],
      "execution_count": 23,
      "outputs": [
        {
          "output_type": "execute_result",
          "data": {
            "text/plain": [
              "True"
            ]
          },
          "metadata": {
            "tags": []
          },
          "execution_count": 23
        }
      ]
    },
    {
      "cell_type": "code",
      "metadata": {
        "colab": {
          "base_uri": "https://localhost:8080/"
        },
        "id": "BTuc-pcL4LRC",
        "outputId": "b8c7f202-ff76-4445-a730-76a3e818ddf9"
      },
      "source": [
        "dt_India = dt_utcnow.astimezone(pytz.timezone('Asia/Kolkata'))\n",
        "print(dt_India)"
      ],
      "execution_count": 24,
      "outputs": [
        {
          "output_type": "stream",
          "text": [
            "2021-05-26 21:37:55.631976+05:30\n"
          ],
          "name": "stdout"
        }
      ]
    },
    {
      "cell_type": "code",
      "metadata": {
        "colab": {
          "base_uri": "https://localhost:8080/"
        },
        "id": "YtpgYWVL4UvB",
        "outputId": "b6b11302-f8ae-48b4-b2ca-edf1cd490d3a"
      },
      "source": [
        "print(dt_India.isoformat())"
      ],
      "execution_count": 25,
      "outputs": [
        {
          "output_type": "stream",
          "text": [
            "2021-05-26T21:37:55.631976+05:30\n"
          ],
          "name": "stdout"
        }
      ]
    },
    {
      "cell_type": "code",
      "metadata": {
        "colab": {
          "base_uri": "https://localhost:8080/"
        },
        "id": "2sEoRQEU7-zE",
        "outputId": "f3a3ab29-4705-460f-946d-c40830f96679"
      },
      "source": [
        "print(dt_India.strftime('%d.%m.%Y'))    "
      ],
      "execution_count": 26,
      "outputs": [
        {
          "output_type": "stream",
          "text": [
            "26.05.2021\n"
          ],
          "name": "stdout"
        }
      ]
    },
    {
      "cell_type": "code",
      "metadata": {
        "colab": {
          "base_uri": "https://localhost:8080/"
        },
        "id": "Fu_e5f2Y8yAD",
        "outputId": "e89c2177-aa2a-4853-ba1e-88f6e5f91d15"
      },
      "source": [
        "dt_str = '26.05.2021'\n",
        "dt = datetime.datetime.strptime(dt_str, '%d.%m.%Y')   #Strptime python is used to convert string to datetime object\n",
        "print(dt)"
      ],
      "execution_count": 27,
      "outputs": [
        {
          "output_type": "stream",
          "text": [
            "2021-05-26 00:00:00\n"
          ],
          "name": "stdout"
        }
      ]
    },
    {
      "cell_type": "markdown",
      "metadata": {
        "id": "rd65Qo_pEQHt"
      },
      "source": [
        "###Problem Statement\n",
        "\n",
        "Lets say you shifted in the apartment on 10th Jan 2017.\n",
        "\n",
        "Write a program to find total months/years you have stayed in your apartment till date."
      ]
    },
    {
      "cell_type": "code",
      "metadata": {
        "colab": {
          "base_uri": "https://localhost:8080/"
        },
        "id": "6D5VPpwhEPmR",
        "outputId": "e9513947-4ae2-4afc-9c1d-2d7c600295c8"
      },
      "source": [
        "startdate = datetime.date(2017, 1, 10)\n",
        "todaydate = datetime.date.today()\n",
        "print(startdate, todaydate)"
      ],
      "execution_count": 28,
      "outputs": [
        {
          "output_type": "stream",
          "text": [
            "2017-01-10 2021-05-26\n"
          ],
          "name": "stdout"
        }
      ]
    },
    {
      "cell_type": "code",
      "metadata": {
        "colab": {
          "base_uri": "https://localhost:8080/"
        },
        "id": "15Xam5W6FnZr",
        "outputId": "1bde9e61-f60f-4772-cdbd-e585af734af2"
      },
      "source": [
        "(todaydate - startdate).days"
      ],
      "execution_count": 29,
      "outputs": [
        {
          "output_type": "execute_result",
          "data": {
            "text/plain": [
              "1597"
            ]
          },
          "metadata": {
            "tags": []
          },
          "execution_count": 29
        }
      ]
    },
    {
      "cell_type": "code",
      "metadata": {
        "colab": {
          "base_uri": "https://localhost:8080/"
        },
        "id": "Ac_ztZqqFzqr",
        "outputId": "cbe22023-5e07-4742-b2e2-697518adbc34"
      },
      "source": [
        "num_months = (todaydate.year - startdate.year) * 12 + (todaydate.month - startdate.month)\n",
        "print(num_months)"
      ],
      "execution_count": 30,
      "outputs": [
        {
          "output_type": "stream",
          "text": [
            "52\n"
          ],
          "name": "stdout"
        }
      ]
    },
    {
      "cell_type": "code",
      "metadata": {
        "colab": {
          "base_uri": "https://localhost:8080/"
        },
        "id": "MDUHdyfTGJyE",
        "outputId": "4c45d6a7-ba2d-4829-a6d9-3ad5a3c5aa98"
      },
      "source": [
        "num_years = num_months/12\n",
        "round(num_years,2)"
      ],
      "execution_count": 31,
      "outputs": [
        {
          "output_type": "execute_result",
          "data": {
            "text/plain": [
              "4.33"
            ]
          },
          "metadata": {
            "tags": []
          },
          "execution_count": 31
        }
      ]
    }
  ]
}