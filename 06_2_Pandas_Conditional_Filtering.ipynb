{
  "nbformat": 4,
  "nbformat_minor": 0,
  "metadata": {
    "colab": {
      "name": "06_2 Pandas_Conditional_Filtering.ipynb",
      "provenance": [],
      "authorship_tag": "ABX9TyNDtw1YoaPNR4sS43hHGu4O",
      "include_colab_link": true
    },
    "kernelspec": {
      "name": "python3",
      "display_name": "Python 3"
    },
    "language_info": {
      "name": "python"
    }
  },
  "cells": [
    {
      "cell_type": "markdown",
      "metadata": {
        "id": "view-in-github",
        "colab_type": "text"
      },
      "source": [
        "<a href=\"https://colab.research.google.com/github/sahil301290/Python-for-Data-Science/blob/main/06_2_Pandas_Conditional_Filtering.ipynb\" target=\"_parent\"><img src=\"https://colab.research.google.com/assets/colab-badge.svg\" alt=\"Open In Colab\"/></a>"
      ]
    },
    {
      "cell_type": "markdown",
      "metadata": {
        "id": "aK35Qaxy6PKS"
      },
      "source": [
        "##Introduction to Conditional Filtering"
      ]
    },
    {
      "cell_type": "markdown",
      "metadata": {
        "id": "oR4i4_fCT_46"
      },
      "source": [
        "In data analysis, our datasets are large enough that we don't filter out data based on locations, instead, we do it based on a condition.\n",
        "\n",
        "Conditional Filtering allows us to select rows based on a condition on column.\n",
        "\n",
        "Hence, we should focus on organizing our data."
      ]
    },
    {
      "cell_type": "code",
      "metadata": {
        "id": "kQCyIDplVIp6"
      },
      "source": [
        "import numpy as np\n",
        "import pandas as pd"
      ],
      "execution_count": 1,
      "outputs": []
    },
    {
      "cell_type": "markdown",
      "metadata": {
        "id": "lLJ-gwmFVtBj"
      },
      "source": [
        "Columns are features\n",
        "\n",
        "Rows are instances of data\n",
        "\n"
      ]
    },
    {
      "cell_type": "code",
      "metadata": {
        "colab": {
          "base_uri": "https://localhost:8080/",
          "height": 141
        },
        "id": "jS5zPxLFTyuh",
        "outputId": "4ba4c0d3-424c-4b64-8653-01531cb17fcf"
      },
      "source": [
        "myindex = ['India', 'USA', 'Canada']\n",
        "mydata = [[1947,1390, 10], [1776, 33, 20], [1867, 20, 12]]\n",
        "mycolumns = ['Independence', 'Population', 'GDP']\n",
        "df = pd.DataFrame(data = mydata, index = myindex, columns = mycolumns)\n",
        "df"
      ],
      "execution_count": 2,
      "outputs": [
        {
          "output_type": "execute_result",
          "data": {
            "text/html": [
              "<div>\n",
              "<style scoped>\n",
              "    .dataframe tbody tr th:only-of-type {\n",
              "        vertical-align: middle;\n",
              "    }\n",
              "\n",
              "    .dataframe tbody tr th {\n",
              "        vertical-align: top;\n",
              "    }\n",
              "\n",
              "    .dataframe thead th {\n",
              "        text-align: right;\n",
              "    }\n",
              "</style>\n",
              "<table border=\"1\" class=\"dataframe\">\n",
              "  <thead>\n",
              "    <tr style=\"text-align: right;\">\n",
              "      <th></th>\n",
              "      <th>Independence</th>\n",
              "      <th>Population</th>\n",
              "      <th>GDP</th>\n",
              "    </tr>\n",
              "  </thead>\n",
              "  <tbody>\n",
              "    <tr>\n",
              "      <th>India</th>\n",
              "      <td>1947</td>\n",
              "      <td>1390</td>\n",
              "      <td>10</td>\n",
              "    </tr>\n",
              "    <tr>\n",
              "      <th>USA</th>\n",
              "      <td>1776</td>\n",
              "      <td>33</td>\n",
              "      <td>20</td>\n",
              "    </tr>\n",
              "    <tr>\n",
              "      <th>Canada</th>\n",
              "      <td>1867</td>\n",
              "      <td>20</td>\n",
              "      <td>12</td>\n",
              "    </tr>\n",
              "  </tbody>\n",
              "</table>\n",
              "</div>"
            ],
            "text/plain": [
              "        Independence  Population  GDP\n",
              "India           1947        1390   10\n",
              "USA             1776          33   20\n",
              "Canada          1867          20   12"
            ]
          },
          "metadata": {
            "tags": []
          },
          "execution_count": 2
        }
      ]
    },
    {
      "cell_type": "markdown",
      "metadata": {
        "id": "7dJX-eiCYXqj"
      },
      "source": [
        "Which countries have Population more than X?\n",
        "\n",
        "Which countries have GDP less than Y?\n",
        "\n",
        "Which country got the independence first?"
      ]
    },
    {
      "cell_type": "code",
      "metadata": {
        "colab": {
          "base_uri": "https://localhost:8080/"
        },
        "id": "d5CwfrcBVXns",
        "outputId": "ba009f64-9d5a-48d2-ffa5-980f43070588"
      },
      "source": [
        "#Which countries have population greater than 30?\n",
        "df['Population']>30\n",
        "#df[df['Population']>30]"
      ],
      "execution_count": 3,
      "outputs": [
        {
          "output_type": "execute_result",
          "data": {
            "text/plain": [
              "India      True\n",
              "USA        True\n",
              "Canada    False\n",
              "Name: Population, dtype: bool"
            ]
          },
          "metadata": {
            "tags": []
          },
          "execution_count": 3
        }
      ]
    },
    {
      "cell_type": "markdown",
      "metadata": {
        "id": "MT4IEnT0Zg90"
      },
      "source": [
        "Key steps:\n",
        "- Grab the column for comparison\n",
        "- Perform a comparison to get series of boolean values\n",
        "- Pass that series of boolean values into DataFrame"
      ]
    },
    {
      "cell_type": "markdown",
      "metadata": {
        "id": "OIl-GL4OZ208"
      },
      "source": [
        "Conditional Filtering\n",
        "- Filter by Single Condition\n",
        "- Filter by Multiple Condition\n",
        "- Check against multiple possible values"
      ]
    },
    {
      "cell_type": "markdown",
      "metadata": {
        "id": "LzOsOF0G30IG"
      },
      "source": [
        "Reading dataset: https://www.kaggle.com/ranjeetjain3/seaborn-tips-dataset"
      ]
    },
    {
      "cell_type": "code",
      "metadata": {
        "id": "pQcymXFxZEW0",
        "colab": {
          "base_uri": "https://localhost:8080/",
          "height": 203
        },
        "outputId": "a3757d1a-bdc5-4ed5-d646-1f07d046b974"
      },
      "source": [
        "df = pd.read_csv('tips.csv')\n",
        "df.head()"
      ],
      "execution_count": 4,
      "outputs": [
        {
          "output_type": "execute_result",
          "data": {
            "text/html": [
              "<div>\n",
              "<style scoped>\n",
              "    .dataframe tbody tr th:only-of-type {\n",
              "        vertical-align: middle;\n",
              "    }\n",
              "\n",
              "    .dataframe tbody tr th {\n",
              "        vertical-align: top;\n",
              "    }\n",
              "\n",
              "    .dataframe thead th {\n",
              "        text-align: right;\n",
              "    }\n",
              "</style>\n",
              "<table border=\"1\" class=\"dataframe\">\n",
              "  <thead>\n",
              "    <tr style=\"text-align: right;\">\n",
              "      <th></th>\n",
              "      <th>total_bill</th>\n",
              "      <th>tip</th>\n",
              "      <th>sex</th>\n",
              "      <th>smoker</th>\n",
              "      <th>day</th>\n",
              "      <th>time</th>\n",
              "      <th>size</th>\n",
              "    </tr>\n",
              "  </thead>\n",
              "  <tbody>\n",
              "    <tr>\n",
              "      <th>0</th>\n",
              "      <td>16.99</td>\n",
              "      <td>1.01</td>\n",
              "      <td>Female</td>\n",
              "      <td>No</td>\n",
              "      <td>Sun</td>\n",
              "      <td>Dinner</td>\n",
              "      <td>2</td>\n",
              "    </tr>\n",
              "    <tr>\n",
              "      <th>1</th>\n",
              "      <td>10.34</td>\n",
              "      <td>1.66</td>\n",
              "      <td>Male</td>\n",
              "      <td>No</td>\n",
              "      <td>Sun</td>\n",
              "      <td>Dinner</td>\n",
              "      <td>3</td>\n",
              "    </tr>\n",
              "    <tr>\n",
              "      <th>2</th>\n",
              "      <td>21.01</td>\n",
              "      <td>3.50</td>\n",
              "      <td>Male</td>\n",
              "      <td>No</td>\n",
              "      <td>Sun</td>\n",
              "      <td>Dinner</td>\n",
              "      <td>3</td>\n",
              "    </tr>\n",
              "    <tr>\n",
              "      <th>3</th>\n",
              "      <td>23.68</td>\n",
              "      <td>3.31</td>\n",
              "      <td>Male</td>\n",
              "      <td>No</td>\n",
              "      <td>Sun</td>\n",
              "      <td>Dinner</td>\n",
              "      <td>2</td>\n",
              "    </tr>\n",
              "    <tr>\n",
              "      <th>4</th>\n",
              "      <td>24.59</td>\n",
              "      <td>3.61</td>\n",
              "      <td>Female</td>\n",
              "      <td>No</td>\n",
              "      <td>Sun</td>\n",
              "      <td>Dinner</td>\n",
              "      <td>4</td>\n",
              "    </tr>\n",
              "  </tbody>\n",
              "</table>\n",
              "</div>"
            ],
            "text/plain": [
              "   total_bill   tip     sex smoker  day    time  size\n",
              "0       16.99  1.01  Female     No  Sun  Dinner     2\n",
              "1       10.34  1.66    Male     No  Sun  Dinner     3\n",
              "2       21.01  3.50    Male     No  Sun  Dinner     3\n",
              "3       23.68  3.31    Male     No  Sun  Dinner     2\n",
              "4       24.59  3.61  Female     No  Sun  Dinner     4"
            ]
          },
          "metadata": {
            "tags": []
          },
          "execution_count": 4
        }
      ]
    },
    {
      "cell_type": "markdown",
      "metadata": {
        "id": "QCDGPkEa_eVL"
      },
      "source": [
        "Adding random numbers with Heading of \"Aadhar Number\" of every person in the dataframe"
      ]
    },
    {
      "cell_type": "code",
      "metadata": {
        "colab": {
          "base_uri": "https://localhost:8080/"
        },
        "id": "2EFUjNNA_npf",
        "outputId": "7eb3316c-0061-4327-c9cb-4f57e24c907e"
      },
      "source": [
        "Aadhar_Number = np.random.randint(100000000000, 999999999999, len(df))\n",
        "Aadhar_Number"
      ],
      "execution_count": 5,
      "outputs": [
        {
          "output_type": "execute_result",
          "data": {
            "text/plain": [
              "array([988570798439, 704978009810, 247681557945, 264536142568,\n",
              "       435259271933, 678415459164, 586644504057, 917916745188,\n",
              "       958768253912, 161285106957, 218829432664, 358597310957,\n",
              "       204808159105, 314226442295, 893484418709, 819941857519,\n",
              "       586327886141, 674608102707, 282459128391, 256764614701,\n",
              "       925863765203, 628325541029, 914403001198, 443764599341,\n",
              "       190834725676, 733275823349, 936160653101, 348925747043,\n",
              "       773644180733, 380268243319, 794592891280, 288644875746,\n",
              "       493331464415, 705015534662, 721910271503, 823529037321,\n",
              "       306394405467, 485190521009, 314185743261, 116493301889,\n",
              "       854339633133, 297200506614, 401124136611, 376604046367,\n",
              "       739884220874, 713790967830, 848128078053, 496963648546,\n",
              "       702972767586, 465422618257, 124739016861, 921574862383,\n",
              "       540756694077, 667144014171, 624166231775, 709372079906,\n",
              "       961357682127, 953873768086, 339752121740, 433035530724,\n",
              "       174475791273, 843049139398, 538656682006, 860570444759,\n",
              "       311567260316, 636438373266, 770889702609, 306500647581,\n",
              "       724604128763, 505506826872, 252219564473, 602986853830,\n",
              "       723155375629, 316574818963, 596616866268, 540862715545,\n",
              "       408650238706, 369829150644, 947315772945, 709993521741,\n",
              "       161305847745, 193053468999, 637290746816, 336763269673,\n",
              "       899677773467, 976297716822, 759445668893, 255932515320,\n",
              "       612766905209, 123963906904, 706453125521, 418318545162,\n",
              "       743619637928, 701215617727, 310708658826, 978955749864,\n",
              "       994175575879, 600371438646, 744639237895, 566957163470,\n",
              "       390733187246, 701340872993, 631966024886, 420542581266,\n",
              "       306527879968, 973431532666, 987346456986, 276671928542,\n",
              "       380486207706, 464034742821, 361219156733, 217444599125,\n",
              "       407169715084, 898766983816, 697406673627, 610490236448,\n",
              "       770613288712, 439217228802, 498630098886, 289431495034,\n",
              "       836980991009, 405364366543, 152115852474, 595142744680,\n",
              "       833899570891, 501602536036, 682699974109, 149609298916,\n",
              "       111458347763, 509440648562, 667394043252, 494350953812,\n",
              "       542847970986, 467449283512, 881068742058, 207099460637,\n",
              "       447692363389, 925151523854, 951986352703, 538172587882,\n",
              "       104097808072, 390347789189, 860638290289, 980156477617,\n",
              "       144160836113, 138650785670, 581851314316, 245738482031,\n",
              "       415267590856, 901926576161, 857312973956, 935634552731,\n",
              "       299208371346, 227398175218, 466527889436, 821857251373,\n",
              "       469174814331, 132575905771, 452402458716, 841473827299,\n",
              "       450430568357, 664382239674, 690642022231, 755337919832,\n",
              "       719316999419, 944055614086, 178456493632, 797854977274,\n",
              "       976261350269, 328437631778, 262086152866, 315718925649,\n",
              "       432635379736, 977778735936, 230055285636, 921408233567,\n",
              "       631333547085, 525885663753, 616811674753, 627423425947,\n",
              "       826414363750, 764143378767, 219931343583, 494431390604,\n",
              "       900295919016, 454451866736, 171558130471, 546769519333,\n",
              "       896194454339, 976636350185, 365321049186, 915509064982,\n",
              "       561833647541, 651029469102, 262236425175, 465510670140,\n",
              "       694132474377, 937254095726, 855221361248, 644527708009,\n",
              "       750811959424, 469870720184, 412260871997, 699674645493,\n",
              "       615288663227, 390356200360, 653243591311, 792999226903,\n",
              "       375987049491, 162247188506, 803173789582, 918529235117,\n",
              "       181663571451, 452274786438, 287704267227, 305188920416,\n",
              "       166962488549, 737798541477, 298474695490, 353694918122,\n",
              "       896019107285, 644772165909, 673690211388, 401519685613,\n",
              "       737574350640, 362364064034, 118751388409, 737074106309,\n",
              "       305705292268, 736716067127, 432199815115, 292777801990,\n",
              "       462725034602, 202254792080, 594431949104, 670324473433,\n",
              "       477690927699, 196661124391, 942880169005, 375401151059,\n",
              "       125866245699, 309704363004, 907962982031, 975329159303])"
            ]
          },
          "metadata": {
            "tags": []
          },
          "execution_count": 5
        }
      ]
    },
    {
      "cell_type": "code",
      "metadata": {
        "colab": {
          "base_uri": "https://localhost:8080/",
          "height": 203
        },
        "id": "akPPrviTAVoD",
        "outputId": "cc716f97-c891-4e8c-8615-87361c8f46dd"
      },
      "source": [
        "df['Aadhar_Number'] = pd.DataFrame(Aadhar_Number)\n",
        "df.head()"
      ],
      "execution_count": 6,
      "outputs": [
        {
          "output_type": "execute_result",
          "data": {
            "text/html": [
              "<div>\n",
              "<style scoped>\n",
              "    .dataframe tbody tr th:only-of-type {\n",
              "        vertical-align: middle;\n",
              "    }\n",
              "\n",
              "    .dataframe tbody tr th {\n",
              "        vertical-align: top;\n",
              "    }\n",
              "\n",
              "    .dataframe thead th {\n",
              "        text-align: right;\n",
              "    }\n",
              "</style>\n",
              "<table border=\"1\" class=\"dataframe\">\n",
              "  <thead>\n",
              "    <tr style=\"text-align: right;\">\n",
              "      <th></th>\n",
              "      <th>total_bill</th>\n",
              "      <th>tip</th>\n",
              "      <th>sex</th>\n",
              "      <th>smoker</th>\n",
              "      <th>day</th>\n",
              "      <th>time</th>\n",
              "      <th>size</th>\n",
              "      <th>Aadhar_Number</th>\n",
              "    </tr>\n",
              "  </thead>\n",
              "  <tbody>\n",
              "    <tr>\n",
              "      <th>0</th>\n",
              "      <td>16.99</td>\n",
              "      <td>1.01</td>\n",
              "      <td>Female</td>\n",
              "      <td>No</td>\n",
              "      <td>Sun</td>\n",
              "      <td>Dinner</td>\n",
              "      <td>2</td>\n",
              "      <td>988570798439</td>\n",
              "    </tr>\n",
              "    <tr>\n",
              "      <th>1</th>\n",
              "      <td>10.34</td>\n",
              "      <td>1.66</td>\n",
              "      <td>Male</td>\n",
              "      <td>No</td>\n",
              "      <td>Sun</td>\n",
              "      <td>Dinner</td>\n",
              "      <td>3</td>\n",
              "      <td>704978009810</td>\n",
              "    </tr>\n",
              "    <tr>\n",
              "      <th>2</th>\n",
              "      <td>21.01</td>\n",
              "      <td>3.50</td>\n",
              "      <td>Male</td>\n",
              "      <td>No</td>\n",
              "      <td>Sun</td>\n",
              "      <td>Dinner</td>\n",
              "      <td>3</td>\n",
              "      <td>247681557945</td>\n",
              "    </tr>\n",
              "    <tr>\n",
              "      <th>3</th>\n",
              "      <td>23.68</td>\n",
              "      <td>3.31</td>\n",
              "      <td>Male</td>\n",
              "      <td>No</td>\n",
              "      <td>Sun</td>\n",
              "      <td>Dinner</td>\n",
              "      <td>2</td>\n",
              "      <td>264536142568</td>\n",
              "    </tr>\n",
              "    <tr>\n",
              "      <th>4</th>\n",
              "      <td>24.59</td>\n",
              "      <td>3.61</td>\n",
              "      <td>Female</td>\n",
              "      <td>No</td>\n",
              "      <td>Sun</td>\n",
              "      <td>Dinner</td>\n",
              "      <td>4</td>\n",
              "      <td>435259271933</td>\n",
              "    </tr>\n",
              "  </tbody>\n",
              "</table>\n",
              "</div>"
            ],
            "text/plain": [
              "   total_bill   tip     sex smoker  day    time  size  Aadhar_Number\n",
              "0       16.99  1.01  Female     No  Sun  Dinner     2   988570798439\n",
              "1       10.34  1.66    Male     No  Sun  Dinner     3   704978009810\n",
              "2       21.01  3.50    Male     No  Sun  Dinner     3   247681557945\n",
              "3       23.68  3.31    Male     No  Sun  Dinner     2   264536142568\n",
              "4       24.59  3.61  Female     No  Sun  Dinner     4   435259271933"
            ]
          },
          "metadata": {
            "tags": []
          },
          "execution_count": 6
        }
      ]
    },
    {
      "cell_type": "markdown",
      "metadata": {
        "id": "1gnjO7r6513H"
      },
      "source": [
        "###Filter by Single Condition"
      ]
    },
    {
      "cell_type": "code",
      "metadata": {
        "colab": {
          "base_uri": "https://localhost:8080/"
        },
        "id": "kHBr7L_-4UCO",
        "outputId": "552011e6-170d-496c-cd21-ef436106cf17"
      },
      "source": [
        "df['total_bill']"
      ],
      "execution_count": 7,
      "outputs": [
        {
          "output_type": "execute_result",
          "data": {
            "text/plain": [
              "0      16.99\n",
              "1      10.34\n",
              "2      21.01\n",
              "3      23.68\n",
              "4      24.59\n",
              "       ...  \n",
              "239    29.03\n",
              "240    27.18\n",
              "241    22.67\n",
              "242    17.82\n",
              "243    18.78\n",
              "Name: total_bill, Length: 244, dtype: float64"
            ]
          },
          "metadata": {
            "tags": []
          },
          "execution_count": 7
        }
      ]
    },
    {
      "cell_type": "code",
      "metadata": {
        "id": "Ea7GeBhM4gDs"
      },
      "source": [
        "#Give all rows where total bill is greater than 45\n",
        "bool_series = df['total_bill'] > 45"
      ],
      "execution_count": 8,
      "outputs": []
    },
    {
      "cell_type": "code",
      "metadata": {
        "colab": {
          "base_uri": "https://localhost:8080/",
          "height": 203
        },
        "id": "IN7Ub2gl4lME",
        "outputId": "a411bd11-a2f5-48c3-d74d-49f1fe12dd0b"
      },
      "source": [
        "df[bool_series]"
      ],
      "execution_count": 9,
      "outputs": [
        {
          "output_type": "execute_result",
          "data": {
            "text/html": [
              "<div>\n",
              "<style scoped>\n",
              "    .dataframe tbody tr th:only-of-type {\n",
              "        vertical-align: middle;\n",
              "    }\n",
              "\n",
              "    .dataframe tbody tr th {\n",
              "        vertical-align: top;\n",
              "    }\n",
              "\n",
              "    .dataframe thead th {\n",
              "        text-align: right;\n",
              "    }\n",
              "</style>\n",
              "<table border=\"1\" class=\"dataframe\">\n",
              "  <thead>\n",
              "    <tr style=\"text-align: right;\">\n",
              "      <th></th>\n",
              "      <th>total_bill</th>\n",
              "      <th>tip</th>\n",
              "      <th>sex</th>\n",
              "      <th>smoker</th>\n",
              "      <th>day</th>\n",
              "      <th>time</th>\n",
              "      <th>size</th>\n",
              "      <th>Aadhar_Number</th>\n",
              "    </tr>\n",
              "  </thead>\n",
              "  <tbody>\n",
              "    <tr>\n",
              "      <th>59</th>\n",
              "      <td>48.27</td>\n",
              "      <td>6.73</td>\n",
              "      <td>Male</td>\n",
              "      <td>No</td>\n",
              "      <td>Sat</td>\n",
              "      <td>Dinner</td>\n",
              "      <td>4</td>\n",
              "      <td>433035530724</td>\n",
              "    </tr>\n",
              "    <tr>\n",
              "      <th>156</th>\n",
              "      <td>48.17</td>\n",
              "      <td>5.00</td>\n",
              "      <td>Male</td>\n",
              "      <td>No</td>\n",
              "      <td>Sun</td>\n",
              "      <td>Dinner</td>\n",
              "      <td>6</td>\n",
              "      <td>469174814331</td>\n",
              "    </tr>\n",
              "    <tr>\n",
              "      <th>170</th>\n",
              "      <td>50.81</td>\n",
              "      <td>10.00</td>\n",
              "      <td>Male</td>\n",
              "      <td>Yes</td>\n",
              "      <td>Sat</td>\n",
              "      <td>Dinner</td>\n",
              "      <td>3</td>\n",
              "      <td>262086152866</td>\n",
              "    </tr>\n",
              "    <tr>\n",
              "      <th>182</th>\n",
              "      <td>45.35</td>\n",
              "      <td>3.50</td>\n",
              "      <td>Male</td>\n",
              "      <td>Yes</td>\n",
              "      <td>Sun</td>\n",
              "      <td>Dinner</td>\n",
              "      <td>3</td>\n",
              "      <td>219931343583</td>\n",
              "    </tr>\n",
              "    <tr>\n",
              "      <th>212</th>\n",
              "      <td>48.33</td>\n",
              "      <td>9.00</td>\n",
              "      <td>Male</td>\n",
              "      <td>No</td>\n",
              "      <td>Sat</td>\n",
              "      <td>Dinner</td>\n",
              "      <td>4</td>\n",
              "      <td>181663571451</td>\n",
              "    </tr>\n",
              "  </tbody>\n",
              "</table>\n",
              "</div>"
            ],
            "text/plain": [
              "     total_bill    tip   sex smoker  day    time  size  Aadhar_Number\n",
              "59        48.27   6.73  Male     No  Sat  Dinner     4   433035530724\n",
              "156       48.17   5.00  Male     No  Sun  Dinner     6   469174814331\n",
              "170       50.81  10.00  Male    Yes  Sat  Dinner     3   262086152866\n",
              "182       45.35   3.50  Male    Yes  Sun  Dinner     3   219931343583\n",
              "212       48.33   9.00  Male     No  Sat  Dinner     4   181663571451"
            ]
          },
          "metadata": {
            "tags": []
          },
          "execution_count": 9
        }
      ]
    },
    {
      "cell_type": "code",
      "metadata": {
        "colab": {
          "base_uri": "https://localhost:8080/",
          "height": 203
        },
        "id": "lO4aj3Jo41b2",
        "outputId": "88acbee6-35cc-41f3-dd67-008d7d4313a0"
      },
      "source": [
        "df[df['total_bill'] > 45]"
      ],
      "execution_count": 10,
      "outputs": [
        {
          "output_type": "execute_result",
          "data": {
            "text/html": [
              "<div>\n",
              "<style scoped>\n",
              "    .dataframe tbody tr th:only-of-type {\n",
              "        vertical-align: middle;\n",
              "    }\n",
              "\n",
              "    .dataframe tbody tr th {\n",
              "        vertical-align: top;\n",
              "    }\n",
              "\n",
              "    .dataframe thead th {\n",
              "        text-align: right;\n",
              "    }\n",
              "</style>\n",
              "<table border=\"1\" class=\"dataframe\">\n",
              "  <thead>\n",
              "    <tr style=\"text-align: right;\">\n",
              "      <th></th>\n",
              "      <th>total_bill</th>\n",
              "      <th>tip</th>\n",
              "      <th>sex</th>\n",
              "      <th>smoker</th>\n",
              "      <th>day</th>\n",
              "      <th>time</th>\n",
              "      <th>size</th>\n",
              "      <th>Aadhar_Number</th>\n",
              "    </tr>\n",
              "  </thead>\n",
              "  <tbody>\n",
              "    <tr>\n",
              "      <th>59</th>\n",
              "      <td>48.27</td>\n",
              "      <td>6.73</td>\n",
              "      <td>Male</td>\n",
              "      <td>No</td>\n",
              "      <td>Sat</td>\n",
              "      <td>Dinner</td>\n",
              "      <td>4</td>\n",
              "      <td>433035530724</td>\n",
              "    </tr>\n",
              "    <tr>\n",
              "      <th>156</th>\n",
              "      <td>48.17</td>\n",
              "      <td>5.00</td>\n",
              "      <td>Male</td>\n",
              "      <td>No</td>\n",
              "      <td>Sun</td>\n",
              "      <td>Dinner</td>\n",
              "      <td>6</td>\n",
              "      <td>469174814331</td>\n",
              "    </tr>\n",
              "    <tr>\n",
              "      <th>170</th>\n",
              "      <td>50.81</td>\n",
              "      <td>10.00</td>\n",
              "      <td>Male</td>\n",
              "      <td>Yes</td>\n",
              "      <td>Sat</td>\n",
              "      <td>Dinner</td>\n",
              "      <td>3</td>\n",
              "      <td>262086152866</td>\n",
              "    </tr>\n",
              "    <tr>\n",
              "      <th>182</th>\n",
              "      <td>45.35</td>\n",
              "      <td>3.50</td>\n",
              "      <td>Male</td>\n",
              "      <td>Yes</td>\n",
              "      <td>Sun</td>\n",
              "      <td>Dinner</td>\n",
              "      <td>3</td>\n",
              "      <td>219931343583</td>\n",
              "    </tr>\n",
              "    <tr>\n",
              "      <th>212</th>\n",
              "      <td>48.33</td>\n",
              "      <td>9.00</td>\n",
              "      <td>Male</td>\n",
              "      <td>No</td>\n",
              "      <td>Sat</td>\n",
              "      <td>Dinner</td>\n",
              "      <td>4</td>\n",
              "      <td>181663571451</td>\n",
              "    </tr>\n",
              "  </tbody>\n",
              "</table>\n",
              "</div>"
            ],
            "text/plain": [
              "     total_bill    tip   sex smoker  day    time  size  Aadhar_Number\n",
              "59        48.27   6.73  Male     No  Sat  Dinner     4   433035530724\n",
              "156       48.17   5.00  Male     No  Sun  Dinner     6   469174814331\n",
              "170       50.81  10.00  Male    Yes  Sat  Dinner     3   262086152866\n",
              "182       45.35   3.50  Male    Yes  Sun  Dinner     3   219931343583\n",
              "212       48.33   9.00  Male     No  Sat  Dinner     4   181663571451"
            ]
          },
          "metadata": {
            "tags": []
          },
          "execution_count": 10
        }
      ]
    },
    {
      "cell_type": "code",
      "metadata": {
        "colab": {
          "base_uri": "https://localhost:8080/",
          "height": 417
        },
        "id": "Qgs8NgGh486m",
        "outputId": "a9790d71-1f29-432b-dac7-be64ea5f8d77"
      },
      "source": [
        "#Give all rows where sex is Male\n",
        "df[df['sex'] == 'Male']"
      ],
      "execution_count": 11,
      "outputs": [
        {
          "output_type": "execute_result",
          "data": {
            "text/html": [
              "<div>\n",
              "<style scoped>\n",
              "    .dataframe tbody tr th:only-of-type {\n",
              "        vertical-align: middle;\n",
              "    }\n",
              "\n",
              "    .dataframe tbody tr th {\n",
              "        vertical-align: top;\n",
              "    }\n",
              "\n",
              "    .dataframe thead th {\n",
              "        text-align: right;\n",
              "    }\n",
              "</style>\n",
              "<table border=\"1\" class=\"dataframe\">\n",
              "  <thead>\n",
              "    <tr style=\"text-align: right;\">\n",
              "      <th></th>\n",
              "      <th>total_bill</th>\n",
              "      <th>tip</th>\n",
              "      <th>sex</th>\n",
              "      <th>smoker</th>\n",
              "      <th>day</th>\n",
              "      <th>time</th>\n",
              "      <th>size</th>\n",
              "      <th>Aadhar_Number</th>\n",
              "    </tr>\n",
              "  </thead>\n",
              "  <tbody>\n",
              "    <tr>\n",
              "      <th>1</th>\n",
              "      <td>10.34</td>\n",
              "      <td>1.66</td>\n",
              "      <td>Male</td>\n",
              "      <td>No</td>\n",
              "      <td>Sun</td>\n",
              "      <td>Dinner</td>\n",
              "      <td>3</td>\n",
              "      <td>704978009810</td>\n",
              "    </tr>\n",
              "    <tr>\n",
              "      <th>2</th>\n",
              "      <td>21.01</td>\n",
              "      <td>3.50</td>\n",
              "      <td>Male</td>\n",
              "      <td>No</td>\n",
              "      <td>Sun</td>\n",
              "      <td>Dinner</td>\n",
              "      <td>3</td>\n",
              "      <td>247681557945</td>\n",
              "    </tr>\n",
              "    <tr>\n",
              "      <th>3</th>\n",
              "      <td>23.68</td>\n",
              "      <td>3.31</td>\n",
              "      <td>Male</td>\n",
              "      <td>No</td>\n",
              "      <td>Sun</td>\n",
              "      <td>Dinner</td>\n",
              "      <td>2</td>\n",
              "      <td>264536142568</td>\n",
              "    </tr>\n",
              "    <tr>\n",
              "      <th>5</th>\n",
              "      <td>25.29</td>\n",
              "      <td>4.71</td>\n",
              "      <td>Male</td>\n",
              "      <td>No</td>\n",
              "      <td>Sun</td>\n",
              "      <td>Dinner</td>\n",
              "      <td>4</td>\n",
              "      <td>678415459164</td>\n",
              "    </tr>\n",
              "    <tr>\n",
              "      <th>6</th>\n",
              "      <td>8.77</td>\n",
              "      <td>2.00</td>\n",
              "      <td>Male</td>\n",
              "      <td>No</td>\n",
              "      <td>Sun</td>\n",
              "      <td>Dinner</td>\n",
              "      <td>2</td>\n",
              "      <td>586644504057</td>\n",
              "    </tr>\n",
              "    <tr>\n",
              "      <th>...</th>\n",
              "      <td>...</td>\n",
              "      <td>...</td>\n",
              "      <td>...</td>\n",
              "      <td>...</td>\n",
              "      <td>...</td>\n",
              "      <td>...</td>\n",
              "      <td>...</td>\n",
              "      <td>...</td>\n",
              "    </tr>\n",
              "    <tr>\n",
              "      <th>236</th>\n",
              "      <td>12.60</td>\n",
              "      <td>1.00</td>\n",
              "      <td>Male</td>\n",
              "      <td>Yes</td>\n",
              "      <td>Sat</td>\n",
              "      <td>Dinner</td>\n",
              "      <td>2</td>\n",
              "      <td>477690927699</td>\n",
              "    </tr>\n",
              "    <tr>\n",
              "      <th>237</th>\n",
              "      <td>32.83</td>\n",
              "      <td>1.17</td>\n",
              "      <td>Male</td>\n",
              "      <td>Yes</td>\n",
              "      <td>Sat</td>\n",
              "      <td>Dinner</td>\n",
              "      <td>2</td>\n",
              "      <td>196661124391</td>\n",
              "    </tr>\n",
              "    <tr>\n",
              "      <th>239</th>\n",
              "      <td>29.03</td>\n",
              "      <td>5.92</td>\n",
              "      <td>Male</td>\n",
              "      <td>No</td>\n",
              "      <td>Sat</td>\n",
              "      <td>Dinner</td>\n",
              "      <td>3</td>\n",
              "      <td>375401151059</td>\n",
              "    </tr>\n",
              "    <tr>\n",
              "      <th>241</th>\n",
              "      <td>22.67</td>\n",
              "      <td>2.00</td>\n",
              "      <td>Male</td>\n",
              "      <td>Yes</td>\n",
              "      <td>Sat</td>\n",
              "      <td>Dinner</td>\n",
              "      <td>2</td>\n",
              "      <td>309704363004</td>\n",
              "    </tr>\n",
              "    <tr>\n",
              "      <th>242</th>\n",
              "      <td>17.82</td>\n",
              "      <td>1.75</td>\n",
              "      <td>Male</td>\n",
              "      <td>No</td>\n",
              "      <td>Sat</td>\n",
              "      <td>Dinner</td>\n",
              "      <td>2</td>\n",
              "      <td>907962982031</td>\n",
              "    </tr>\n",
              "  </tbody>\n",
              "</table>\n",
              "<p>157 rows × 8 columns</p>\n",
              "</div>"
            ],
            "text/plain": [
              "     total_bill   tip   sex smoker  day    time  size  Aadhar_Number\n",
              "1         10.34  1.66  Male     No  Sun  Dinner     3   704978009810\n",
              "2         21.01  3.50  Male     No  Sun  Dinner     3   247681557945\n",
              "3         23.68  3.31  Male     No  Sun  Dinner     2   264536142568\n",
              "5         25.29  4.71  Male     No  Sun  Dinner     4   678415459164\n",
              "6          8.77  2.00  Male     No  Sun  Dinner     2   586644504057\n",
              "..          ...   ...   ...    ...  ...     ...   ...            ...\n",
              "236       12.60  1.00  Male    Yes  Sat  Dinner     2   477690927699\n",
              "237       32.83  1.17  Male    Yes  Sat  Dinner     2   196661124391\n",
              "239       29.03  5.92  Male     No  Sat  Dinner     3   375401151059\n",
              "241       22.67  2.00  Male    Yes  Sat  Dinner     2   309704363004\n",
              "242       17.82  1.75  Male     No  Sat  Dinner     2   907962982031\n",
              "\n",
              "[157 rows x 8 columns]"
            ]
          },
          "metadata": {
            "tags": []
          },
          "execution_count": 11
        }
      ]
    },
    {
      "cell_type": "code",
      "metadata": {
        "colab": {
          "base_uri": "https://localhost:8080/",
          "height": 327
        },
        "id": "x-ExOzjk5LAb",
        "outputId": "91a8ebe9-9a69-43b2-b4bb-0795f5cc1da8"
      },
      "source": [
        "#Give all rows where size of party is >4\n",
        "df[df['size'] > 4]"
      ],
      "execution_count": 12,
      "outputs": [
        {
          "output_type": "execute_result",
          "data": {
            "text/html": [
              "<div>\n",
              "<style scoped>\n",
              "    .dataframe tbody tr th:only-of-type {\n",
              "        vertical-align: middle;\n",
              "    }\n",
              "\n",
              "    .dataframe tbody tr th {\n",
              "        vertical-align: top;\n",
              "    }\n",
              "\n",
              "    .dataframe thead th {\n",
              "        text-align: right;\n",
              "    }\n",
              "</style>\n",
              "<table border=\"1\" class=\"dataframe\">\n",
              "  <thead>\n",
              "    <tr style=\"text-align: right;\">\n",
              "      <th></th>\n",
              "      <th>total_bill</th>\n",
              "      <th>tip</th>\n",
              "      <th>sex</th>\n",
              "      <th>smoker</th>\n",
              "      <th>day</th>\n",
              "      <th>time</th>\n",
              "      <th>size</th>\n",
              "      <th>Aadhar_Number</th>\n",
              "    </tr>\n",
              "  </thead>\n",
              "  <tbody>\n",
              "    <tr>\n",
              "      <th>125</th>\n",
              "      <td>29.80</td>\n",
              "      <td>4.20</td>\n",
              "      <td>Female</td>\n",
              "      <td>No</td>\n",
              "      <td>Thur</td>\n",
              "      <td>Lunch</td>\n",
              "      <td>6</td>\n",
              "      <td>501602536036</td>\n",
              "    </tr>\n",
              "    <tr>\n",
              "      <th>141</th>\n",
              "      <td>34.30</td>\n",
              "      <td>6.70</td>\n",
              "      <td>Male</td>\n",
              "      <td>No</td>\n",
              "      <td>Thur</td>\n",
              "      <td>Lunch</td>\n",
              "      <td>6</td>\n",
              "      <td>390347789189</td>\n",
              "    </tr>\n",
              "    <tr>\n",
              "      <th>142</th>\n",
              "      <td>41.19</td>\n",
              "      <td>5.00</td>\n",
              "      <td>Male</td>\n",
              "      <td>No</td>\n",
              "      <td>Thur</td>\n",
              "      <td>Lunch</td>\n",
              "      <td>5</td>\n",
              "      <td>860638290289</td>\n",
              "    </tr>\n",
              "    <tr>\n",
              "      <th>143</th>\n",
              "      <td>27.05</td>\n",
              "      <td>5.00</td>\n",
              "      <td>Female</td>\n",
              "      <td>No</td>\n",
              "      <td>Thur</td>\n",
              "      <td>Lunch</td>\n",
              "      <td>6</td>\n",
              "      <td>980156477617</td>\n",
              "    </tr>\n",
              "    <tr>\n",
              "      <th>155</th>\n",
              "      <td>29.85</td>\n",
              "      <td>5.14</td>\n",
              "      <td>Female</td>\n",
              "      <td>No</td>\n",
              "      <td>Sun</td>\n",
              "      <td>Dinner</td>\n",
              "      <td>5</td>\n",
              "      <td>821857251373</td>\n",
              "    </tr>\n",
              "    <tr>\n",
              "      <th>156</th>\n",
              "      <td>48.17</td>\n",
              "      <td>5.00</td>\n",
              "      <td>Male</td>\n",
              "      <td>No</td>\n",
              "      <td>Sun</td>\n",
              "      <td>Dinner</td>\n",
              "      <td>6</td>\n",
              "      <td>469174814331</td>\n",
              "    </tr>\n",
              "    <tr>\n",
              "      <th>185</th>\n",
              "      <td>20.69</td>\n",
              "      <td>5.00</td>\n",
              "      <td>Male</td>\n",
              "      <td>No</td>\n",
              "      <td>Sun</td>\n",
              "      <td>Dinner</td>\n",
              "      <td>5</td>\n",
              "      <td>454451866736</td>\n",
              "    </tr>\n",
              "    <tr>\n",
              "      <th>187</th>\n",
              "      <td>30.46</td>\n",
              "      <td>2.00</td>\n",
              "      <td>Male</td>\n",
              "      <td>Yes</td>\n",
              "      <td>Sun</td>\n",
              "      <td>Dinner</td>\n",
              "      <td>5</td>\n",
              "      <td>546769519333</td>\n",
              "    </tr>\n",
              "    <tr>\n",
              "      <th>216</th>\n",
              "      <td>28.15</td>\n",
              "      <td>3.00</td>\n",
              "      <td>Male</td>\n",
              "      <td>Yes</td>\n",
              "      <td>Sat</td>\n",
              "      <td>Dinner</td>\n",
              "      <td>5</td>\n",
              "      <td>166962488549</td>\n",
              "    </tr>\n",
              "  </tbody>\n",
              "</table>\n",
              "</div>"
            ],
            "text/plain": [
              "     total_bill   tip     sex smoker   day    time  size  Aadhar_Number\n",
              "125       29.80  4.20  Female     No  Thur   Lunch     6   501602536036\n",
              "141       34.30  6.70    Male     No  Thur   Lunch     6   390347789189\n",
              "142       41.19  5.00    Male     No  Thur   Lunch     5   860638290289\n",
              "143       27.05  5.00  Female     No  Thur   Lunch     6   980156477617\n",
              "155       29.85  5.14  Female     No   Sun  Dinner     5   821857251373\n",
              "156       48.17  5.00    Male     No   Sun  Dinner     6   469174814331\n",
              "185       20.69  5.00    Male     No   Sun  Dinner     5   454451866736\n",
              "187       30.46  2.00    Male    Yes   Sun  Dinner     5   546769519333\n",
              "216       28.15  3.00    Male    Yes   Sat  Dinner     5   166962488549"
            ]
          },
          "metadata": {
            "tags": []
          },
          "execution_count": 12
        }
      ]
    },
    {
      "cell_type": "markdown",
      "metadata": {
        "id": "5xj-MX4T6dgo"
      },
      "source": [
        "###Filter by Multiple Condition\n",
        "\n",
        "AND (&) operator when BOTH conditions need to be true\n",
        "\n",
        "OR (|) operator when EITHER condition is true"
      ]
    },
    {
      "cell_type": "code",
      "metadata": {
        "id": "eE-kKrlN6t_p"
      },
      "source": [
        "#1 == 1 and 5 == 5 "
      ],
      "execution_count": 13,
      "outputs": []
    },
    {
      "cell_type": "code",
      "metadata": {
        "colab": {
          "base_uri": "https://localhost:8080/",
          "height": 296
        },
        "id": "xoE_TCQ27OUf",
        "outputId": "66ef908b-5483-4a2a-bf7a-091112f41ab6"
      },
      "source": [
        "#df[(df['total_bill'] > 40) AND (df['sex'] == 'Male')]\n",
        "df[(df['total_bill'] > 40) & (df['sex'] == 'Male')]"
      ],
      "execution_count": 14,
      "outputs": [
        {
          "output_type": "execute_result",
          "data": {
            "text/html": [
              "<div>\n",
              "<style scoped>\n",
              "    .dataframe tbody tr th:only-of-type {\n",
              "        vertical-align: middle;\n",
              "    }\n",
              "\n",
              "    .dataframe tbody tr th {\n",
              "        vertical-align: top;\n",
              "    }\n",
              "\n",
              "    .dataframe thead th {\n",
              "        text-align: right;\n",
              "    }\n",
              "</style>\n",
              "<table border=\"1\" class=\"dataframe\">\n",
              "  <thead>\n",
              "    <tr style=\"text-align: right;\">\n",
              "      <th></th>\n",
              "      <th>total_bill</th>\n",
              "      <th>tip</th>\n",
              "      <th>sex</th>\n",
              "      <th>smoker</th>\n",
              "      <th>day</th>\n",
              "      <th>time</th>\n",
              "      <th>size</th>\n",
              "      <th>Aadhar_Number</th>\n",
              "    </tr>\n",
              "  </thead>\n",
              "  <tbody>\n",
              "    <tr>\n",
              "      <th>59</th>\n",
              "      <td>48.27</td>\n",
              "      <td>6.73</td>\n",
              "      <td>Male</td>\n",
              "      <td>No</td>\n",
              "      <td>Sat</td>\n",
              "      <td>Dinner</td>\n",
              "      <td>4</td>\n",
              "      <td>433035530724</td>\n",
              "    </tr>\n",
              "    <tr>\n",
              "      <th>95</th>\n",
              "      <td>40.17</td>\n",
              "      <td>4.73</td>\n",
              "      <td>Male</td>\n",
              "      <td>Yes</td>\n",
              "      <td>Fri</td>\n",
              "      <td>Dinner</td>\n",
              "      <td>4</td>\n",
              "      <td>978955749864</td>\n",
              "    </tr>\n",
              "    <tr>\n",
              "      <th>142</th>\n",
              "      <td>41.19</td>\n",
              "      <td>5.00</td>\n",
              "      <td>Male</td>\n",
              "      <td>No</td>\n",
              "      <td>Thur</td>\n",
              "      <td>Lunch</td>\n",
              "      <td>5</td>\n",
              "      <td>860638290289</td>\n",
              "    </tr>\n",
              "    <tr>\n",
              "      <th>156</th>\n",
              "      <td>48.17</td>\n",
              "      <td>5.00</td>\n",
              "      <td>Male</td>\n",
              "      <td>No</td>\n",
              "      <td>Sun</td>\n",
              "      <td>Dinner</td>\n",
              "      <td>6</td>\n",
              "      <td>469174814331</td>\n",
              "    </tr>\n",
              "    <tr>\n",
              "      <th>170</th>\n",
              "      <td>50.81</td>\n",
              "      <td>10.00</td>\n",
              "      <td>Male</td>\n",
              "      <td>Yes</td>\n",
              "      <td>Sat</td>\n",
              "      <td>Dinner</td>\n",
              "      <td>3</td>\n",
              "      <td>262086152866</td>\n",
              "    </tr>\n",
              "    <tr>\n",
              "      <th>182</th>\n",
              "      <td>45.35</td>\n",
              "      <td>3.50</td>\n",
              "      <td>Male</td>\n",
              "      <td>Yes</td>\n",
              "      <td>Sun</td>\n",
              "      <td>Dinner</td>\n",
              "      <td>3</td>\n",
              "      <td>219931343583</td>\n",
              "    </tr>\n",
              "    <tr>\n",
              "      <th>184</th>\n",
              "      <td>40.55</td>\n",
              "      <td>3.00</td>\n",
              "      <td>Male</td>\n",
              "      <td>Yes</td>\n",
              "      <td>Sun</td>\n",
              "      <td>Dinner</td>\n",
              "      <td>2</td>\n",
              "      <td>900295919016</td>\n",
              "    </tr>\n",
              "    <tr>\n",
              "      <th>212</th>\n",
              "      <td>48.33</td>\n",
              "      <td>9.00</td>\n",
              "      <td>Male</td>\n",
              "      <td>No</td>\n",
              "      <td>Sat</td>\n",
              "      <td>Dinner</td>\n",
              "      <td>4</td>\n",
              "      <td>181663571451</td>\n",
              "    </tr>\n",
              "  </tbody>\n",
              "</table>\n",
              "</div>"
            ],
            "text/plain": [
              "     total_bill    tip   sex smoker   day    time  size  Aadhar_Number\n",
              "59        48.27   6.73  Male     No   Sat  Dinner     4   433035530724\n",
              "95        40.17   4.73  Male    Yes   Fri  Dinner     4   978955749864\n",
              "142       41.19   5.00  Male     No  Thur   Lunch     5   860638290289\n",
              "156       48.17   5.00  Male     No   Sun  Dinner     6   469174814331\n",
              "170       50.81  10.00  Male    Yes   Sat  Dinner     3   262086152866\n",
              "182       45.35   3.50  Male    Yes   Sun  Dinner     3   219931343583\n",
              "184       40.55   3.00  Male    Yes   Sun  Dinner     2   900295919016\n",
              "212       48.33   9.00  Male     No   Sat  Dinner     4   181663571451"
            ]
          },
          "metadata": {
            "tags": []
          },
          "execution_count": 14
        }
      ]
    },
    {
      "cell_type": "markdown",
      "metadata": {
        "id": "KjTs43jD6ucY"
      },
      "source": [
        "###Check against multiple possible values"
      ]
    },
    {
      "cell_type": "code",
      "metadata": {
        "colab": {
          "base_uri": "https://localhost:8080/",
          "height": 203
        },
        "id": "_pQk_Uxd8W4q",
        "outputId": "bbab3a0e-8a0e-43f6-faaa-753286592ac6"
      },
      "source": [
        "df.head()"
      ],
      "execution_count": 15,
      "outputs": [
        {
          "output_type": "execute_result",
          "data": {
            "text/html": [
              "<div>\n",
              "<style scoped>\n",
              "    .dataframe tbody tr th:only-of-type {\n",
              "        vertical-align: middle;\n",
              "    }\n",
              "\n",
              "    .dataframe tbody tr th {\n",
              "        vertical-align: top;\n",
              "    }\n",
              "\n",
              "    .dataframe thead th {\n",
              "        text-align: right;\n",
              "    }\n",
              "</style>\n",
              "<table border=\"1\" class=\"dataframe\">\n",
              "  <thead>\n",
              "    <tr style=\"text-align: right;\">\n",
              "      <th></th>\n",
              "      <th>total_bill</th>\n",
              "      <th>tip</th>\n",
              "      <th>sex</th>\n",
              "      <th>smoker</th>\n",
              "      <th>day</th>\n",
              "      <th>time</th>\n",
              "      <th>size</th>\n",
              "      <th>Aadhar_Number</th>\n",
              "    </tr>\n",
              "  </thead>\n",
              "  <tbody>\n",
              "    <tr>\n",
              "      <th>0</th>\n",
              "      <td>16.99</td>\n",
              "      <td>1.01</td>\n",
              "      <td>Female</td>\n",
              "      <td>No</td>\n",
              "      <td>Sun</td>\n",
              "      <td>Dinner</td>\n",
              "      <td>2</td>\n",
              "      <td>988570798439</td>\n",
              "    </tr>\n",
              "    <tr>\n",
              "      <th>1</th>\n",
              "      <td>10.34</td>\n",
              "      <td>1.66</td>\n",
              "      <td>Male</td>\n",
              "      <td>No</td>\n",
              "      <td>Sun</td>\n",
              "      <td>Dinner</td>\n",
              "      <td>3</td>\n",
              "      <td>704978009810</td>\n",
              "    </tr>\n",
              "    <tr>\n",
              "      <th>2</th>\n",
              "      <td>21.01</td>\n",
              "      <td>3.50</td>\n",
              "      <td>Male</td>\n",
              "      <td>No</td>\n",
              "      <td>Sun</td>\n",
              "      <td>Dinner</td>\n",
              "      <td>3</td>\n",
              "      <td>247681557945</td>\n",
              "    </tr>\n",
              "    <tr>\n",
              "      <th>3</th>\n",
              "      <td>23.68</td>\n",
              "      <td>3.31</td>\n",
              "      <td>Male</td>\n",
              "      <td>No</td>\n",
              "      <td>Sun</td>\n",
              "      <td>Dinner</td>\n",
              "      <td>2</td>\n",
              "      <td>264536142568</td>\n",
              "    </tr>\n",
              "    <tr>\n",
              "      <th>4</th>\n",
              "      <td>24.59</td>\n",
              "      <td>3.61</td>\n",
              "      <td>Female</td>\n",
              "      <td>No</td>\n",
              "      <td>Sun</td>\n",
              "      <td>Dinner</td>\n",
              "      <td>4</td>\n",
              "      <td>435259271933</td>\n",
              "    </tr>\n",
              "  </tbody>\n",
              "</table>\n",
              "</div>"
            ],
            "text/plain": [
              "   total_bill   tip     sex smoker  day    time  size  Aadhar_Number\n",
              "0       16.99  1.01  Female     No  Sun  Dinner     2   988570798439\n",
              "1       10.34  1.66    Male     No  Sun  Dinner     3   704978009810\n",
              "2       21.01  3.50    Male     No  Sun  Dinner     3   247681557945\n",
              "3       23.68  3.31    Male     No  Sun  Dinner     2   264536142568\n",
              "4       24.59  3.61  Female     No  Sun  Dinner     4   435259271933"
            ]
          },
          "metadata": {
            "tags": []
          },
          "execution_count": 15
        }
      ]
    },
    {
      "cell_type": "code",
      "metadata": {
        "colab": {
          "base_uri": "https://localhost:8080/",
          "height": 417
        },
        "id": "rnPQKH_V8aU7",
        "outputId": "7027267c-84f5-4e05-c4ac-89d0929352f1"
      },
      "source": [
        "#Return rows where day is Sat or Sun or Fri\n",
        "df[(df['day'] == 'Sat') | (df['day'] == 'Sun') | (df['day'] == 'Fri')]"
      ],
      "execution_count": 16,
      "outputs": [
        {
          "output_type": "execute_result",
          "data": {
            "text/html": [
              "<div>\n",
              "<style scoped>\n",
              "    .dataframe tbody tr th:only-of-type {\n",
              "        vertical-align: middle;\n",
              "    }\n",
              "\n",
              "    .dataframe tbody tr th {\n",
              "        vertical-align: top;\n",
              "    }\n",
              "\n",
              "    .dataframe thead th {\n",
              "        text-align: right;\n",
              "    }\n",
              "</style>\n",
              "<table border=\"1\" class=\"dataframe\">\n",
              "  <thead>\n",
              "    <tr style=\"text-align: right;\">\n",
              "      <th></th>\n",
              "      <th>total_bill</th>\n",
              "      <th>tip</th>\n",
              "      <th>sex</th>\n",
              "      <th>smoker</th>\n",
              "      <th>day</th>\n",
              "      <th>time</th>\n",
              "      <th>size</th>\n",
              "      <th>Aadhar_Number</th>\n",
              "    </tr>\n",
              "  </thead>\n",
              "  <tbody>\n",
              "    <tr>\n",
              "      <th>0</th>\n",
              "      <td>16.99</td>\n",
              "      <td>1.01</td>\n",
              "      <td>Female</td>\n",
              "      <td>No</td>\n",
              "      <td>Sun</td>\n",
              "      <td>Dinner</td>\n",
              "      <td>2</td>\n",
              "      <td>988570798439</td>\n",
              "    </tr>\n",
              "    <tr>\n",
              "      <th>1</th>\n",
              "      <td>10.34</td>\n",
              "      <td>1.66</td>\n",
              "      <td>Male</td>\n",
              "      <td>No</td>\n",
              "      <td>Sun</td>\n",
              "      <td>Dinner</td>\n",
              "      <td>3</td>\n",
              "      <td>704978009810</td>\n",
              "    </tr>\n",
              "    <tr>\n",
              "      <th>2</th>\n",
              "      <td>21.01</td>\n",
              "      <td>3.50</td>\n",
              "      <td>Male</td>\n",
              "      <td>No</td>\n",
              "      <td>Sun</td>\n",
              "      <td>Dinner</td>\n",
              "      <td>3</td>\n",
              "      <td>247681557945</td>\n",
              "    </tr>\n",
              "    <tr>\n",
              "      <th>3</th>\n",
              "      <td>23.68</td>\n",
              "      <td>3.31</td>\n",
              "      <td>Male</td>\n",
              "      <td>No</td>\n",
              "      <td>Sun</td>\n",
              "      <td>Dinner</td>\n",
              "      <td>2</td>\n",
              "      <td>264536142568</td>\n",
              "    </tr>\n",
              "    <tr>\n",
              "      <th>4</th>\n",
              "      <td>24.59</td>\n",
              "      <td>3.61</td>\n",
              "      <td>Female</td>\n",
              "      <td>No</td>\n",
              "      <td>Sun</td>\n",
              "      <td>Dinner</td>\n",
              "      <td>4</td>\n",
              "      <td>435259271933</td>\n",
              "    </tr>\n",
              "    <tr>\n",
              "      <th>...</th>\n",
              "      <td>...</td>\n",
              "      <td>...</td>\n",
              "      <td>...</td>\n",
              "      <td>...</td>\n",
              "      <td>...</td>\n",
              "      <td>...</td>\n",
              "      <td>...</td>\n",
              "      <td>...</td>\n",
              "    </tr>\n",
              "    <tr>\n",
              "      <th>238</th>\n",
              "      <td>35.83</td>\n",
              "      <td>4.67</td>\n",
              "      <td>Female</td>\n",
              "      <td>No</td>\n",
              "      <td>Sat</td>\n",
              "      <td>Dinner</td>\n",
              "      <td>3</td>\n",
              "      <td>942880169005</td>\n",
              "    </tr>\n",
              "    <tr>\n",
              "      <th>239</th>\n",
              "      <td>29.03</td>\n",
              "      <td>5.92</td>\n",
              "      <td>Male</td>\n",
              "      <td>No</td>\n",
              "      <td>Sat</td>\n",
              "      <td>Dinner</td>\n",
              "      <td>3</td>\n",
              "      <td>375401151059</td>\n",
              "    </tr>\n",
              "    <tr>\n",
              "      <th>240</th>\n",
              "      <td>27.18</td>\n",
              "      <td>2.00</td>\n",
              "      <td>Female</td>\n",
              "      <td>Yes</td>\n",
              "      <td>Sat</td>\n",
              "      <td>Dinner</td>\n",
              "      <td>2</td>\n",
              "      <td>125866245699</td>\n",
              "    </tr>\n",
              "    <tr>\n",
              "      <th>241</th>\n",
              "      <td>22.67</td>\n",
              "      <td>2.00</td>\n",
              "      <td>Male</td>\n",
              "      <td>Yes</td>\n",
              "      <td>Sat</td>\n",
              "      <td>Dinner</td>\n",
              "      <td>2</td>\n",
              "      <td>309704363004</td>\n",
              "    </tr>\n",
              "    <tr>\n",
              "      <th>242</th>\n",
              "      <td>17.82</td>\n",
              "      <td>1.75</td>\n",
              "      <td>Male</td>\n",
              "      <td>No</td>\n",
              "      <td>Sat</td>\n",
              "      <td>Dinner</td>\n",
              "      <td>2</td>\n",
              "      <td>907962982031</td>\n",
              "    </tr>\n",
              "  </tbody>\n",
              "</table>\n",
              "<p>182 rows × 8 columns</p>\n",
              "</div>"
            ],
            "text/plain": [
              "     total_bill   tip     sex smoker  day    time  size  Aadhar_Number\n",
              "0         16.99  1.01  Female     No  Sun  Dinner     2   988570798439\n",
              "1         10.34  1.66    Male     No  Sun  Dinner     3   704978009810\n",
              "2         21.01  3.50    Male     No  Sun  Dinner     3   247681557945\n",
              "3         23.68  3.31    Male     No  Sun  Dinner     2   264536142568\n",
              "4         24.59  3.61  Female     No  Sun  Dinner     4   435259271933\n",
              "..          ...   ...     ...    ...  ...     ...   ...            ...\n",
              "238       35.83  4.67  Female     No  Sat  Dinner     3   942880169005\n",
              "239       29.03  5.92    Male     No  Sat  Dinner     3   375401151059\n",
              "240       27.18  2.00  Female    Yes  Sat  Dinner     2   125866245699\n",
              "241       22.67  2.00    Male    Yes  Sat  Dinner     2   309704363004\n",
              "242       17.82  1.75    Male     No  Sat  Dinner     2   907962982031\n",
              "\n",
              "[182 rows x 8 columns]"
            ]
          },
          "metadata": {
            "tags": []
          },
          "execution_count": 16
        }
      ]
    },
    {
      "cell_type": "code",
      "metadata": {
        "colab": {
          "base_uri": "https://localhost:8080/"
        },
        "id": "dms8Eaih842b",
        "outputId": "855f97d6-1a91-4bbf-ad49-a995bca40721"
      },
      "source": [
        "#When column is same, isin technique can be useful\n",
        "options = ['Fri', 'Sat', 'Sun']\n",
        "df['day'].isin(options)\n",
        "#df[df['day'].isin(options)]"
      ],
      "execution_count": 17,
      "outputs": [
        {
          "output_type": "execute_result",
          "data": {
            "text/plain": [
              "0       True\n",
              "1       True\n",
              "2       True\n",
              "3       True\n",
              "4       True\n",
              "       ...  \n",
              "239     True\n",
              "240     True\n",
              "241     True\n",
              "242     True\n",
              "243    False\n",
              "Name: day, Length: 244, dtype: bool"
            ]
          },
          "metadata": {
            "tags": []
          },
          "execution_count": 17
        }
      ]
    },
    {
      "cell_type": "markdown",
      "metadata": {
        "id": "RP1L-z1j9v7D"
      },
      "source": [
        "##Method Calls in Pandas\n",
        "\n",
        "Documentation Link: https://pandas.pydata.org/pandas-docs/stable/reference/index.html"
      ]
    },
    {
      "cell_type": "markdown",
      "metadata": {
        "id": "zz_c2iCx-MQS"
      },
      "source": [
        "###Apply Function .apply()\n",
        "Apply any custom python function of our own to every row in a Series"
      ]
    },
    {
      "cell_type": "markdown",
      "metadata": {
        "id": "fr5MzB9QELFe"
      },
      "source": [
        "####Apply on single column"
      ]
    },
    {
      "cell_type": "code",
      "metadata": {
        "colab": {
          "base_uri": "https://localhost:8080/"
        },
        "id": "CJIiTDjO9Yri",
        "outputId": "53f20e24-9d08-4430-b203-ef29990180a9"
      },
      "source": [
        "df.info()"
      ],
      "execution_count": 18,
      "outputs": [
        {
          "output_type": "stream",
          "text": [
            "<class 'pandas.core.frame.DataFrame'>\n",
            "RangeIndex: 244 entries, 0 to 243\n",
            "Data columns (total 8 columns):\n",
            " #   Column         Non-Null Count  Dtype  \n",
            "---  ------         --------------  -----  \n",
            " 0   total_bill     244 non-null    float64\n",
            " 1   tip            244 non-null    float64\n",
            " 2   sex            244 non-null    object \n",
            " 3   smoker         244 non-null    object \n",
            " 4   day            244 non-null    object \n",
            " 5   time           244 non-null    object \n",
            " 6   size           244 non-null    int64  \n",
            " 7   Aadhar_Number  244 non-null    int64  \n",
            "dtypes: float64(2), int64(2), object(4)\n",
            "memory usage: 15.4+ KB\n"
          ],
          "name": "stdout"
        }
      ]
    },
    {
      "cell_type": "code",
      "metadata": {
        "colab": {
          "base_uri": "https://localhost:8080/",
          "height": 35
        },
        "id": "ItqtNHiO5pHc",
        "outputId": "69c5a2fd-6085-4824-a102-d2647e188a10"
      },
      "source": [
        "#Aadhar_Number[0][0]\n",
        "str(Aadhar_Number[0])[0]"
      ],
      "execution_count": 19,
      "outputs": [
        {
          "output_type": "execute_result",
          "data": {
            "application/vnd.google.colaboratory.intrinsic+json": {
              "type": "string"
            },
            "text/plain": [
              "'9'"
            ]
          },
          "metadata": {
            "tags": []
          },
          "execution_count": 19
        }
      ]
    },
    {
      "cell_type": "code",
      "metadata": {
        "colab": {
          "base_uri": "https://localhost:8080/",
          "height": 35
        },
        "id": "RK_GCOg5A1-h",
        "outputId": "96a8045c-6506-4131-97a9-01d647009af1"
      },
      "source": [
        "str(Aadhar_Number[0])[:4]"
      ],
      "execution_count": 20,
      "outputs": [
        {
          "output_type": "execute_result",
          "data": {
            "application/vnd.google.colaboratory.intrinsic+json": {
              "type": "string"
            },
            "text/plain": [
              "'9885'"
            ]
          },
          "metadata": {
            "tags": []
          },
          "execution_count": 20
        }
      ]
    },
    {
      "cell_type": "code",
      "metadata": {
        "id": "0RCaDWNiBNm_"
      },
      "source": [
        "def Aadhar_series(num):\n",
        "  return str(num)[0]"
      ],
      "execution_count": 21,
      "outputs": []
    },
    {
      "cell_type": "code",
      "metadata": {
        "colab": {
          "base_uri": "https://localhost:8080/",
          "height": 35
        },
        "id": "0O6iE4CfBvOX",
        "outputId": "86aa02b3-cf30-4d52-e373-8b8c2c085333"
      },
      "source": [
        "Aadhar_series(213421352643)"
      ],
      "execution_count": 22,
      "outputs": [
        {
          "output_type": "execute_result",
          "data": {
            "application/vnd.google.colaboratory.intrinsic+json": {
              "type": "string"
            },
            "text/plain": [
              "'2'"
            ]
          },
          "metadata": {
            "tags": []
          },
          "execution_count": 22
        }
      ]
    },
    {
      "cell_type": "code",
      "metadata": {
        "colab": {
          "base_uri": "https://localhost:8080/"
        },
        "id": "Pok0yYpIByhw",
        "outputId": "6880dcf0-08da-4a24-b0f0-bb2505f66b72"
      },
      "source": [
        "df['Aadhar_Number'].apply(Aadhar_series)"
      ],
      "execution_count": 23,
      "outputs": [
        {
          "output_type": "execute_result",
          "data": {
            "text/plain": [
              "0      9\n",
              "1      7\n",
              "2      2\n",
              "3      2\n",
              "4      4\n",
              "      ..\n",
              "239    3\n",
              "240    1\n",
              "241    3\n",
              "242    9\n",
              "243    9\n",
              "Name: Aadhar_Number, Length: 244, dtype: object"
            ]
          },
          "metadata": {
            "tags": []
          },
          "execution_count": 23
        }
      ]
    },
    {
      "cell_type": "code",
      "metadata": {
        "colab": {
          "base_uri": "https://localhost:8080/",
          "height": 203
        },
        "id": "BxNnkcroB9h9",
        "outputId": "6817c6f7-6ec7-4409-fee4-5d18ed38c29c"
      },
      "source": [
        "df['Aadhar_Series'] = df['Aadhar_Number'].apply(Aadhar_series)\n",
        "df.head()"
      ],
      "execution_count": 24,
      "outputs": [
        {
          "output_type": "execute_result",
          "data": {
            "text/html": [
              "<div>\n",
              "<style scoped>\n",
              "    .dataframe tbody tr th:only-of-type {\n",
              "        vertical-align: middle;\n",
              "    }\n",
              "\n",
              "    .dataframe tbody tr th {\n",
              "        vertical-align: top;\n",
              "    }\n",
              "\n",
              "    .dataframe thead th {\n",
              "        text-align: right;\n",
              "    }\n",
              "</style>\n",
              "<table border=\"1\" class=\"dataframe\">\n",
              "  <thead>\n",
              "    <tr style=\"text-align: right;\">\n",
              "      <th></th>\n",
              "      <th>total_bill</th>\n",
              "      <th>tip</th>\n",
              "      <th>sex</th>\n",
              "      <th>smoker</th>\n",
              "      <th>day</th>\n",
              "      <th>time</th>\n",
              "      <th>size</th>\n",
              "      <th>Aadhar_Number</th>\n",
              "      <th>Aadhar_Series</th>\n",
              "    </tr>\n",
              "  </thead>\n",
              "  <tbody>\n",
              "    <tr>\n",
              "      <th>0</th>\n",
              "      <td>16.99</td>\n",
              "      <td>1.01</td>\n",
              "      <td>Female</td>\n",
              "      <td>No</td>\n",
              "      <td>Sun</td>\n",
              "      <td>Dinner</td>\n",
              "      <td>2</td>\n",
              "      <td>988570798439</td>\n",
              "      <td>9</td>\n",
              "    </tr>\n",
              "    <tr>\n",
              "      <th>1</th>\n",
              "      <td>10.34</td>\n",
              "      <td>1.66</td>\n",
              "      <td>Male</td>\n",
              "      <td>No</td>\n",
              "      <td>Sun</td>\n",
              "      <td>Dinner</td>\n",
              "      <td>3</td>\n",
              "      <td>704978009810</td>\n",
              "      <td>7</td>\n",
              "    </tr>\n",
              "    <tr>\n",
              "      <th>2</th>\n",
              "      <td>21.01</td>\n",
              "      <td>3.50</td>\n",
              "      <td>Male</td>\n",
              "      <td>No</td>\n",
              "      <td>Sun</td>\n",
              "      <td>Dinner</td>\n",
              "      <td>3</td>\n",
              "      <td>247681557945</td>\n",
              "      <td>2</td>\n",
              "    </tr>\n",
              "    <tr>\n",
              "      <th>3</th>\n",
              "      <td>23.68</td>\n",
              "      <td>3.31</td>\n",
              "      <td>Male</td>\n",
              "      <td>No</td>\n",
              "      <td>Sun</td>\n",
              "      <td>Dinner</td>\n",
              "      <td>2</td>\n",
              "      <td>264536142568</td>\n",
              "      <td>2</td>\n",
              "    </tr>\n",
              "    <tr>\n",
              "      <th>4</th>\n",
              "      <td>24.59</td>\n",
              "      <td>3.61</td>\n",
              "      <td>Female</td>\n",
              "      <td>No</td>\n",
              "      <td>Sun</td>\n",
              "      <td>Dinner</td>\n",
              "      <td>4</td>\n",
              "      <td>435259271933</td>\n",
              "      <td>4</td>\n",
              "    </tr>\n",
              "  </tbody>\n",
              "</table>\n",
              "</div>"
            ],
            "text/plain": [
              "   total_bill   tip     sex smoker  ...    time size  Aadhar_Number  Aadhar_Series\n",
              "0       16.99  1.01  Female     No  ...  Dinner    2   988570798439              9\n",
              "1       10.34  1.66    Male     No  ...  Dinner    3   704978009810              7\n",
              "2       21.01  3.50    Male     No  ...  Dinner    3   247681557945              2\n",
              "3       23.68  3.31    Male     No  ...  Dinner    2   264536142568              2\n",
              "4       24.59  3.61  Female     No  ...  Dinner    4   435259271933              4\n",
              "\n",
              "[5 rows x 9 columns]"
            ]
          },
          "metadata": {
            "tags": []
          },
          "execution_count": 24
        }
      ]
    },
    {
      "cell_type": "code",
      "metadata": {
        "colab": {
          "base_uri": "https://localhost:8080/"
        },
        "id": "SbNsYiM9CJEs",
        "outputId": "18fb6188-cd20-4e7e-ec78-496ce891ede2"
      },
      "source": [
        "#df['total_bill']\n",
        "df['total_bill'].mean()"
      ],
      "execution_count": 25,
      "outputs": [
        {
          "output_type": "execute_result",
          "data": {
            "text/plain": [
              "19.785942622950824"
            ]
          },
          "metadata": {
            "tags": []
          },
          "execution_count": 25
        }
      ]
    },
    {
      "cell_type": "markdown",
      "metadata": {
        "id": "lHhRQ8MECsHE"
      },
      "source": [
        "Defining function to know how costly the restaurant is."
      ]
    },
    {
      "cell_type": "code",
      "metadata": {
        "id": "ymqnHhlsCXU1"
      },
      "source": [
        "def Pricy(price):\n",
        "  if price < 10:\n",
        "    return '$'\n",
        "  elif price >= 10 and price < 30:\n",
        "    return '$$'\n",
        "  else:\n",
        "    return '$$$'"
      ],
      "execution_count": 26,
      "outputs": []
    },
    {
      "cell_type": "code",
      "metadata": {
        "colab": {
          "base_uri": "https://localhost:8080/",
          "height": 203
        },
        "id": "E7ni8zL1DE0S",
        "outputId": "a4f93f36-11e9-40b2-a9ea-7adbdaf6f5fc"
      },
      "source": [
        "df['Costly'] = df['total_bill'].apply(Pricy)\n",
        "df.head()"
      ],
      "execution_count": 27,
      "outputs": [
        {
          "output_type": "execute_result",
          "data": {
            "text/html": [
              "<div>\n",
              "<style scoped>\n",
              "    .dataframe tbody tr th:only-of-type {\n",
              "        vertical-align: middle;\n",
              "    }\n",
              "\n",
              "    .dataframe tbody tr th {\n",
              "        vertical-align: top;\n",
              "    }\n",
              "\n",
              "    .dataframe thead th {\n",
              "        text-align: right;\n",
              "    }\n",
              "</style>\n",
              "<table border=\"1\" class=\"dataframe\">\n",
              "  <thead>\n",
              "    <tr style=\"text-align: right;\">\n",
              "      <th></th>\n",
              "      <th>total_bill</th>\n",
              "      <th>tip</th>\n",
              "      <th>sex</th>\n",
              "      <th>smoker</th>\n",
              "      <th>day</th>\n",
              "      <th>time</th>\n",
              "      <th>size</th>\n",
              "      <th>Aadhar_Number</th>\n",
              "      <th>Aadhar_Series</th>\n",
              "      <th>Costly</th>\n",
              "    </tr>\n",
              "  </thead>\n",
              "  <tbody>\n",
              "    <tr>\n",
              "      <th>0</th>\n",
              "      <td>16.99</td>\n",
              "      <td>1.01</td>\n",
              "      <td>Female</td>\n",
              "      <td>No</td>\n",
              "      <td>Sun</td>\n",
              "      <td>Dinner</td>\n",
              "      <td>2</td>\n",
              "      <td>988570798439</td>\n",
              "      <td>9</td>\n",
              "      <td>$$</td>\n",
              "    </tr>\n",
              "    <tr>\n",
              "      <th>1</th>\n",
              "      <td>10.34</td>\n",
              "      <td>1.66</td>\n",
              "      <td>Male</td>\n",
              "      <td>No</td>\n",
              "      <td>Sun</td>\n",
              "      <td>Dinner</td>\n",
              "      <td>3</td>\n",
              "      <td>704978009810</td>\n",
              "      <td>7</td>\n",
              "      <td>$$</td>\n",
              "    </tr>\n",
              "    <tr>\n",
              "      <th>2</th>\n",
              "      <td>21.01</td>\n",
              "      <td>3.50</td>\n",
              "      <td>Male</td>\n",
              "      <td>No</td>\n",
              "      <td>Sun</td>\n",
              "      <td>Dinner</td>\n",
              "      <td>3</td>\n",
              "      <td>247681557945</td>\n",
              "      <td>2</td>\n",
              "      <td>$$</td>\n",
              "    </tr>\n",
              "    <tr>\n",
              "      <th>3</th>\n",
              "      <td>23.68</td>\n",
              "      <td>3.31</td>\n",
              "      <td>Male</td>\n",
              "      <td>No</td>\n",
              "      <td>Sun</td>\n",
              "      <td>Dinner</td>\n",
              "      <td>2</td>\n",
              "      <td>264536142568</td>\n",
              "      <td>2</td>\n",
              "      <td>$$</td>\n",
              "    </tr>\n",
              "    <tr>\n",
              "      <th>4</th>\n",
              "      <td>24.59</td>\n",
              "      <td>3.61</td>\n",
              "      <td>Female</td>\n",
              "      <td>No</td>\n",
              "      <td>Sun</td>\n",
              "      <td>Dinner</td>\n",
              "      <td>4</td>\n",
              "      <td>435259271933</td>\n",
              "      <td>4</td>\n",
              "      <td>$$</td>\n",
              "    </tr>\n",
              "  </tbody>\n",
              "</table>\n",
              "</div>"
            ],
            "text/plain": [
              "   total_bill   tip     sex smoker  ... size Aadhar_Number  Aadhar_Series  Costly\n",
              "0       16.99  1.01  Female     No  ...    2  988570798439              9      $$\n",
              "1       10.34  1.66    Male     No  ...    3  704978009810              7      $$\n",
              "2       21.01  3.50    Male     No  ...    3  247681557945              2      $$\n",
              "3       23.68  3.31    Male     No  ...    2  264536142568              2      $$\n",
              "4       24.59  3.61  Female     No  ...    4  435259271933              4      $$\n",
              "\n",
              "[5 rows x 10 columns]"
            ]
          },
          "metadata": {
            "tags": []
          },
          "execution_count": 27
        }
      ]
    },
    {
      "cell_type": "markdown",
      "metadata": {
        "id": "3lpGgpwqEEjF"
      },
      "source": [
        "####Apply on multiple columns\n",
        "\n",
        "- using Lambda Function\n",
        "- using NumPy Vectorize"
      ]
    },
    {
      "cell_type": "markdown",
      "metadata": {
        "id": "zeRSmJPhEiq1"
      },
      "source": [
        "Reviewing Lambda Function"
      ]
    },
    {
      "cell_type": "code",
      "metadata": {
        "id": "iBRAbrnvDdni"
      },
      "source": [
        "def simple(num):\n",
        "  return num*2"
      ],
      "execution_count": 28,
      "outputs": []
    },
    {
      "cell_type": "code",
      "metadata": {
        "colab": {
          "base_uri": "https://localhost:8080/"
        },
        "id": "jlGqdQNSEuS3",
        "outputId": "de9bc633-235b-4585-f2ac-f59f64e0e111"
      },
      "source": [
        "simple(3)"
      ],
      "execution_count": 29,
      "outputs": [
        {
          "output_type": "execute_result",
          "data": {
            "text/plain": [
              "6"
            ]
          },
          "metadata": {
            "tags": []
          },
          "execution_count": 29
        }
      ]
    },
    {
      "cell_type": "markdown",
      "metadata": {
        "id": "HX1qdtOXEzsI"
      },
      "source": [
        "Lambda is an anonymous function. Hence no name."
      ]
    },
    {
      "cell_type": "code",
      "metadata": {
        "colab": {
          "base_uri": "https://localhost:8080/"
        },
        "id": "-di52U5JEvdS",
        "outputId": "cda41d95-de76-4e4d-ade9-242c432c2898"
      },
      "source": [
        "lambda num: num * 2"
      ],
      "execution_count": 30,
      "outputs": [
        {
          "output_type": "execute_result",
          "data": {
            "text/plain": [
              "<function __main__.<lambda>>"
            ]
          },
          "metadata": {
            "tags": []
          },
          "execution_count": 30
        }
      ]
    },
    {
      "cell_type": "code",
      "metadata": {
        "colab": {
          "base_uri": "https://localhost:8080/"
        },
        "id": "kV0uW11SE8un",
        "outputId": "341a606b-3d64-47e1-b354-affab524c68e"
      },
      "source": [
        "df['total_bill'].apply(lambda bill: bill * 2)"
      ],
      "execution_count": 31,
      "outputs": [
        {
          "output_type": "execute_result",
          "data": {
            "text/plain": [
              "0      33.98\n",
              "1      20.68\n",
              "2      42.02\n",
              "3      47.36\n",
              "4      49.18\n",
              "       ...  \n",
              "239    58.06\n",
              "240    54.36\n",
              "241    45.34\n",
              "242    35.64\n",
              "243    37.56\n",
              "Name: total_bill, Length: 244, dtype: float64"
            ]
          },
          "metadata": {
            "tags": []
          },
          "execution_count": 31
        }
      ]
    },
    {
      "cell_type": "markdown",
      "metadata": {
        "id": "TNR4PCf0Fz2d"
      },
      "source": [
        "https://stackoverflow.com/questions/19914937/applying-function-with-multiple-arguments-to-create-a-new-pandas-column"
      ]
    },
    {
      "cell_type": "code",
      "metadata": {
        "colab": {
          "base_uri": "https://localhost:8080/",
          "height": 203
        },
        "id": "IYk-Nrh6FK74",
        "outputId": "48efb6d9-0d18-49a4-f9cc-a7804eea2b68"
      },
      "source": [
        "df.head()"
      ],
      "execution_count": 32,
      "outputs": [
        {
          "output_type": "execute_result",
          "data": {
            "text/html": [
              "<div>\n",
              "<style scoped>\n",
              "    .dataframe tbody tr th:only-of-type {\n",
              "        vertical-align: middle;\n",
              "    }\n",
              "\n",
              "    .dataframe tbody tr th {\n",
              "        vertical-align: top;\n",
              "    }\n",
              "\n",
              "    .dataframe thead th {\n",
              "        text-align: right;\n",
              "    }\n",
              "</style>\n",
              "<table border=\"1\" class=\"dataframe\">\n",
              "  <thead>\n",
              "    <tr style=\"text-align: right;\">\n",
              "      <th></th>\n",
              "      <th>total_bill</th>\n",
              "      <th>tip</th>\n",
              "      <th>sex</th>\n",
              "      <th>smoker</th>\n",
              "      <th>day</th>\n",
              "      <th>time</th>\n",
              "      <th>size</th>\n",
              "      <th>Aadhar_Number</th>\n",
              "      <th>Aadhar_Series</th>\n",
              "      <th>Costly</th>\n",
              "    </tr>\n",
              "  </thead>\n",
              "  <tbody>\n",
              "    <tr>\n",
              "      <th>0</th>\n",
              "      <td>16.99</td>\n",
              "      <td>1.01</td>\n",
              "      <td>Female</td>\n",
              "      <td>No</td>\n",
              "      <td>Sun</td>\n",
              "      <td>Dinner</td>\n",
              "      <td>2</td>\n",
              "      <td>988570798439</td>\n",
              "      <td>9</td>\n",
              "      <td>$$</td>\n",
              "    </tr>\n",
              "    <tr>\n",
              "      <th>1</th>\n",
              "      <td>10.34</td>\n",
              "      <td>1.66</td>\n",
              "      <td>Male</td>\n",
              "      <td>No</td>\n",
              "      <td>Sun</td>\n",
              "      <td>Dinner</td>\n",
              "      <td>3</td>\n",
              "      <td>704978009810</td>\n",
              "      <td>7</td>\n",
              "      <td>$$</td>\n",
              "    </tr>\n",
              "    <tr>\n",
              "      <th>2</th>\n",
              "      <td>21.01</td>\n",
              "      <td>3.50</td>\n",
              "      <td>Male</td>\n",
              "      <td>No</td>\n",
              "      <td>Sun</td>\n",
              "      <td>Dinner</td>\n",
              "      <td>3</td>\n",
              "      <td>247681557945</td>\n",
              "      <td>2</td>\n",
              "      <td>$$</td>\n",
              "    </tr>\n",
              "    <tr>\n",
              "      <th>3</th>\n",
              "      <td>23.68</td>\n",
              "      <td>3.31</td>\n",
              "      <td>Male</td>\n",
              "      <td>No</td>\n",
              "      <td>Sun</td>\n",
              "      <td>Dinner</td>\n",
              "      <td>2</td>\n",
              "      <td>264536142568</td>\n",
              "      <td>2</td>\n",
              "      <td>$$</td>\n",
              "    </tr>\n",
              "    <tr>\n",
              "      <th>4</th>\n",
              "      <td>24.59</td>\n",
              "      <td>3.61</td>\n",
              "      <td>Female</td>\n",
              "      <td>No</td>\n",
              "      <td>Sun</td>\n",
              "      <td>Dinner</td>\n",
              "      <td>4</td>\n",
              "      <td>435259271933</td>\n",
              "      <td>4</td>\n",
              "      <td>$$</td>\n",
              "    </tr>\n",
              "  </tbody>\n",
              "</table>\n",
              "</div>"
            ],
            "text/plain": [
              "   total_bill   tip     sex smoker  ... size Aadhar_Number  Aadhar_Series  Costly\n",
              "0       16.99  1.01  Female     No  ...    2  988570798439              9      $$\n",
              "1       10.34  1.66    Male     No  ...    3  704978009810              7      $$\n",
              "2       21.01  3.50    Male     No  ...    3  247681557945              2      $$\n",
              "3       23.68  3.31    Male     No  ...    2  264536142568              2      $$\n",
              "4       24.59  3.61  Female     No  ...    4  435259271933              4      $$\n",
              "\n",
              "[5 rows x 10 columns]"
            ]
          },
          "metadata": {
            "tags": []
          },
          "execution_count": 32
        }
      ]
    },
    {
      "cell_type": "markdown",
      "metadata": {
        "id": "hZMMqZC1GMzW"
      },
      "source": [
        "Is tip generous or not?"
      ]
    },
    {
      "cell_type": "code",
      "metadata": {
        "id": "3pjY_4yLGKgI"
      },
      "source": [
        "def quality(total_bill, tip):\n",
        "  if tip/total_bill > 0.2:\n",
        "    return 'Generous'\n",
        "  else:\n",
        "    return 'Other'"
      ],
      "execution_count": 33,
      "outputs": []
    },
    {
      "cell_type": "code",
      "metadata": {
        "colab": {
          "base_uri": "https://localhost:8080/",
          "height": 35
        },
        "id": "EovFzB3fGhbg",
        "outputId": "d7a78560-2a43-4529-e584-eb45dfe27414"
      },
      "source": [
        "quality(20,6)"
      ],
      "execution_count": 34,
      "outputs": [
        {
          "output_type": "execute_result",
          "data": {
            "application/vnd.google.colaboratory.intrinsic+json": {
              "type": "string"
            },
            "text/plain": [
              "'Generous'"
            ]
          },
          "metadata": {
            "tags": []
          },
          "execution_count": 34
        }
      ]
    },
    {
      "cell_type": "markdown",
      "metadata": {
        "id": "onpo7U6EHzl3"
      },
      "source": [
        "Apply function on df using Lambda Function"
      ]
    },
    {
      "cell_type": "code",
      "metadata": {
        "colab": {
          "base_uri": "https://localhost:8080/"
        },
        "id": "00U3EADXGj6e",
        "outputId": "d2f9116c-40e2-4ab5-a878-34cf2271940a"
      },
      "source": [
        "df[['total_bill', 'tip']].apply(lambda df: quality(df['total_bill'], df['tip']), axis = 1)"
      ],
      "execution_count": 35,
      "outputs": [
        {
          "output_type": "execute_result",
          "data": {
            "text/plain": [
              "0         Other\n",
              "1         Other\n",
              "2         Other\n",
              "3         Other\n",
              "4         Other\n",
              "         ...   \n",
              "239    Generous\n",
              "240       Other\n",
              "241       Other\n",
              "242       Other\n",
              "243       Other\n",
              "Length: 244, dtype: object"
            ]
          },
          "metadata": {
            "tags": []
          },
          "execution_count": 35
        }
      ]
    },
    {
      "cell_type": "code",
      "metadata": {
        "colab": {
          "base_uri": "https://localhost:8080/",
          "height": 203
        },
        "id": "UiBujjm9G7pS",
        "outputId": "d2e8f878-04d4-4984-c367-ae10083afb97"
      },
      "source": [
        "df['Quality_of_tip'] = df[['total_bill', 'tip']].apply(lambda df: quality(df['total_bill'], df['tip']), axis = 1)\n",
        "df.head()"
      ],
      "execution_count": 36,
      "outputs": [
        {
          "output_type": "execute_result",
          "data": {
            "text/html": [
              "<div>\n",
              "<style scoped>\n",
              "    .dataframe tbody tr th:only-of-type {\n",
              "        vertical-align: middle;\n",
              "    }\n",
              "\n",
              "    .dataframe tbody tr th {\n",
              "        vertical-align: top;\n",
              "    }\n",
              "\n",
              "    .dataframe thead th {\n",
              "        text-align: right;\n",
              "    }\n",
              "</style>\n",
              "<table border=\"1\" class=\"dataframe\">\n",
              "  <thead>\n",
              "    <tr style=\"text-align: right;\">\n",
              "      <th></th>\n",
              "      <th>total_bill</th>\n",
              "      <th>tip</th>\n",
              "      <th>sex</th>\n",
              "      <th>smoker</th>\n",
              "      <th>day</th>\n",
              "      <th>time</th>\n",
              "      <th>size</th>\n",
              "      <th>Aadhar_Number</th>\n",
              "      <th>Aadhar_Series</th>\n",
              "      <th>Costly</th>\n",
              "      <th>Quality_of_tip</th>\n",
              "    </tr>\n",
              "  </thead>\n",
              "  <tbody>\n",
              "    <tr>\n",
              "      <th>0</th>\n",
              "      <td>16.99</td>\n",
              "      <td>1.01</td>\n",
              "      <td>Female</td>\n",
              "      <td>No</td>\n",
              "      <td>Sun</td>\n",
              "      <td>Dinner</td>\n",
              "      <td>2</td>\n",
              "      <td>988570798439</td>\n",
              "      <td>9</td>\n",
              "      <td>$$</td>\n",
              "      <td>Other</td>\n",
              "    </tr>\n",
              "    <tr>\n",
              "      <th>1</th>\n",
              "      <td>10.34</td>\n",
              "      <td>1.66</td>\n",
              "      <td>Male</td>\n",
              "      <td>No</td>\n",
              "      <td>Sun</td>\n",
              "      <td>Dinner</td>\n",
              "      <td>3</td>\n",
              "      <td>704978009810</td>\n",
              "      <td>7</td>\n",
              "      <td>$$</td>\n",
              "      <td>Other</td>\n",
              "    </tr>\n",
              "    <tr>\n",
              "      <th>2</th>\n",
              "      <td>21.01</td>\n",
              "      <td>3.50</td>\n",
              "      <td>Male</td>\n",
              "      <td>No</td>\n",
              "      <td>Sun</td>\n",
              "      <td>Dinner</td>\n",
              "      <td>3</td>\n",
              "      <td>247681557945</td>\n",
              "      <td>2</td>\n",
              "      <td>$$</td>\n",
              "      <td>Other</td>\n",
              "    </tr>\n",
              "    <tr>\n",
              "      <th>3</th>\n",
              "      <td>23.68</td>\n",
              "      <td>3.31</td>\n",
              "      <td>Male</td>\n",
              "      <td>No</td>\n",
              "      <td>Sun</td>\n",
              "      <td>Dinner</td>\n",
              "      <td>2</td>\n",
              "      <td>264536142568</td>\n",
              "      <td>2</td>\n",
              "      <td>$$</td>\n",
              "      <td>Other</td>\n",
              "    </tr>\n",
              "    <tr>\n",
              "      <th>4</th>\n",
              "      <td>24.59</td>\n",
              "      <td>3.61</td>\n",
              "      <td>Female</td>\n",
              "      <td>No</td>\n",
              "      <td>Sun</td>\n",
              "      <td>Dinner</td>\n",
              "      <td>4</td>\n",
              "      <td>435259271933</td>\n",
              "      <td>4</td>\n",
              "      <td>$$</td>\n",
              "      <td>Other</td>\n",
              "    </tr>\n",
              "  </tbody>\n",
              "</table>\n",
              "</div>"
            ],
            "text/plain": [
              "   total_bill   tip     sex  ... Aadhar_Series Costly Quality_of_tip\n",
              "0       16.99  1.01  Female  ...             9     $$          Other\n",
              "1       10.34  1.66    Male  ...             7     $$          Other\n",
              "2       21.01  3.50    Male  ...             2     $$          Other\n",
              "3       23.68  3.31    Male  ...             2     $$          Other\n",
              "4       24.59  3.61  Female  ...             4     $$          Other\n",
              "\n",
              "[5 rows x 11 columns]"
            ]
          },
          "metadata": {
            "tags": []
          },
          "execution_count": 36
        }
      ]
    },
    {
      "cell_type": "markdown",
      "metadata": {
        "id": "LhMAY_0IIA9h"
      },
      "source": [
        "Apply function on df using NumPy Vectorize"
      ]
    },
    {
      "cell_type": "code",
      "metadata": {
        "colab": {
          "base_uri": "https://localhost:8080/",
          "height": 203
        },
        "id": "BySvhpl8HNoQ",
        "outputId": "9569a461-9918-47d3-b7d6-d764ad344e26"
      },
      "source": [
        "df['Quality_of_tip'] = np.vectorize(quality)(df['total_bill'], df['tip'])\n",
        "df.head()"
      ],
      "execution_count": 37,
      "outputs": [
        {
          "output_type": "execute_result",
          "data": {
            "text/html": [
              "<div>\n",
              "<style scoped>\n",
              "    .dataframe tbody tr th:only-of-type {\n",
              "        vertical-align: middle;\n",
              "    }\n",
              "\n",
              "    .dataframe tbody tr th {\n",
              "        vertical-align: top;\n",
              "    }\n",
              "\n",
              "    .dataframe thead th {\n",
              "        text-align: right;\n",
              "    }\n",
              "</style>\n",
              "<table border=\"1\" class=\"dataframe\">\n",
              "  <thead>\n",
              "    <tr style=\"text-align: right;\">\n",
              "      <th></th>\n",
              "      <th>total_bill</th>\n",
              "      <th>tip</th>\n",
              "      <th>sex</th>\n",
              "      <th>smoker</th>\n",
              "      <th>day</th>\n",
              "      <th>time</th>\n",
              "      <th>size</th>\n",
              "      <th>Aadhar_Number</th>\n",
              "      <th>Aadhar_Series</th>\n",
              "      <th>Costly</th>\n",
              "      <th>Quality_of_tip</th>\n",
              "    </tr>\n",
              "  </thead>\n",
              "  <tbody>\n",
              "    <tr>\n",
              "      <th>0</th>\n",
              "      <td>16.99</td>\n",
              "      <td>1.01</td>\n",
              "      <td>Female</td>\n",
              "      <td>No</td>\n",
              "      <td>Sun</td>\n",
              "      <td>Dinner</td>\n",
              "      <td>2</td>\n",
              "      <td>988570798439</td>\n",
              "      <td>9</td>\n",
              "      <td>$$</td>\n",
              "      <td>Other</td>\n",
              "    </tr>\n",
              "    <tr>\n",
              "      <th>1</th>\n",
              "      <td>10.34</td>\n",
              "      <td>1.66</td>\n",
              "      <td>Male</td>\n",
              "      <td>No</td>\n",
              "      <td>Sun</td>\n",
              "      <td>Dinner</td>\n",
              "      <td>3</td>\n",
              "      <td>704978009810</td>\n",
              "      <td>7</td>\n",
              "      <td>$$</td>\n",
              "      <td>Other</td>\n",
              "    </tr>\n",
              "    <tr>\n",
              "      <th>2</th>\n",
              "      <td>21.01</td>\n",
              "      <td>3.50</td>\n",
              "      <td>Male</td>\n",
              "      <td>No</td>\n",
              "      <td>Sun</td>\n",
              "      <td>Dinner</td>\n",
              "      <td>3</td>\n",
              "      <td>247681557945</td>\n",
              "      <td>2</td>\n",
              "      <td>$$</td>\n",
              "      <td>Other</td>\n",
              "    </tr>\n",
              "    <tr>\n",
              "      <th>3</th>\n",
              "      <td>23.68</td>\n",
              "      <td>3.31</td>\n",
              "      <td>Male</td>\n",
              "      <td>No</td>\n",
              "      <td>Sun</td>\n",
              "      <td>Dinner</td>\n",
              "      <td>2</td>\n",
              "      <td>264536142568</td>\n",
              "      <td>2</td>\n",
              "      <td>$$</td>\n",
              "      <td>Other</td>\n",
              "    </tr>\n",
              "    <tr>\n",
              "      <th>4</th>\n",
              "      <td>24.59</td>\n",
              "      <td>3.61</td>\n",
              "      <td>Female</td>\n",
              "      <td>No</td>\n",
              "      <td>Sun</td>\n",
              "      <td>Dinner</td>\n",
              "      <td>4</td>\n",
              "      <td>435259271933</td>\n",
              "      <td>4</td>\n",
              "      <td>$$</td>\n",
              "      <td>Other</td>\n",
              "    </tr>\n",
              "  </tbody>\n",
              "</table>\n",
              "</div>"
            ],
            "text/plain": [
              "   total_bill   tip     sex  ... Aadhar_Series Costly Quality_of_tip\n",
              "0       16.99  1.01  Female  ...             9     $$          Other\n",
              "1       10.34  1.66    Male  ...             7     $$          Other\n",
              "2       21.01  3.50    Male  ...             2     $$          Other\n",
              "3       23.68  3.31    Male  ...             2     $$          Other\n",
              "4       24.59  3.61  Female  ...             4     $$          Other\n",
              "\n",
              "[5 rows x 11 columns]"
            ]
          },
          "metadata": {
            "tags": []
          },
          "execution_count": 37
        }
      ]
    },
    {
      "cell_type": "markdown",
      "metadata": {
        "id": "3XUbmHIvI8Ex"
      },
      "source": [
        "What is NumPy Vectorize and how fast is it?\n",
        "\n",
        "https://stackoverflow.com/questions/3379301/using-numpy-vectorize-on-functions-that-return-vectors\n",
        "\n",
        "np.vectorize is just a convenience function. It doesn't actually make code run any faster. If it isn't convenient to use np.vectorize, simply write your own function that works as you wish.\n",
        "\n",
        "The purpose of np.vectorize is to transform functions which are not numpy-aware (e.g. take floats as input and return floats as output) into functions that can operate on (and return) numpy arrays."
      ]
    },
    {
      "cell_type": "markdown",
      "metadata": {
        "id": "03QR59-jJ9EC"
      },
      "source": [
        "Checking time difference between lambda and vectorize method"
      ]
    },
    {
      "cell_type": "code",
      "metadata": {
        "id": "YmwGIekjKuDh"
      },
      "source": [
        "import time"
      ],
      "execution_count": 38,
      "outputs": []
    },
    {
      "cell_type": "code",
      "metadata": {
        "colab": {
          "base_uri": "https://localhost:8080/"
        },
        "id": "8e8NpU69IiUg",
        "outputId": "c9bcc53f-be64-4019-8102-0d68ea08202b"
      },
      "source": [
        "tic = time.time()\n",
        "df['Quality_of_tip'] = df[['total_bill', 'tip']].apply(lambda df: quality(df['total_bill'], df['tip']), axis = 1)\n",
        "toc = time.time()\n",
        "df.head()\n",
        "print(\"Lambda Version:\"+str(1000*(toc-tic))+\"ms\")\n",
        "tic = time.time()\n",
        "df['Quality_of_tip'] = np.vectorize(quality)(df['total_bill'], df['tip'])\n",
        "toc = time.time()\n",
        "df.head()\n",
        "print(\"Vectorize Version:\"+str(1000*(toc-tic))+\"ms\")"
      ],
      "execution_count": 39,
      "outputs": [
        {
          "output_type": "stream",
          "text": [
            "Lambda Version:9.551763534545898ms\n",
            "Vectorize Version:1.0654926300048828ms\n"
          ],
          "name": "stdout"
        }
      ]
    }
  ]
}