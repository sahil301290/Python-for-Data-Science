{
  "nbformat": 4,
  "nbformat_minor": 0,
  "metadata": {
    "colab": {
      "name": "01_Basics_of_Python.ipynb",
      "provenance": [],
      "collapsed_sections": [],
      "authorship_tag": "ABX9TyNM9JIlyQH5GhM5lAAK5tzv",
      "include_colab_link": true
    },
    "kernelspec": {
      "name": "python3",
      "display_name": "Python 3"
    },
    "language_info": {
      "name": "python"
    }
  },
  "cells": [
    {
      "cell_type": "markdown",
      "metadata": {
        "id": "view-in-github",
        "colab_type": "text"
      },
      "source": [
        "<a href=\"https://colab.research.google.com/github/sahil301290/Python-for-Data-Science/blob/main/01_Basics_of_Python.ipynb\" target=\"_parent\"><img src=\"https://colab.research.google.com/assets/colab-badge.svg\" alt=\"Open In Colab\"/></a>"
      ]
    },
    {
      "cell_type": "markdown",
      "metadata": {
        "id": "3LOd1KANxpKE"
      },
      "source": [
        "#Checking the Python Version"
      ]
    },
    {
      "cell_type": "code",
      "metadata": {
        "id": "dgMzqQ1Zkrq0",
        "colab": {
          "base_uri": "https://localhost:8080/"
        },
        "outputId": "5220e43c-ce25-4cd7-f51e-2281611de4f7"
      },
      "source": [
        "!python --version"
      ],
      "execution_count": 1,
      "outputs": [
        {
          "output_type": "stream",
          "text": [
            "Python 3.7.10\n"
          ],
          "name": "stdout"
        }
      ]
    },
    {
      "cell_type": "markdown",
      "metadata": {
        "id": "ggIL62S4xtw-"
      },
      "source": [
        "### Printing the Hello World equivalent"
      ]
    },
    {
      "cell_type": "code",
      "metadata": {
        "colab": {
          "base_uri": "https://localhost:8080/"
        },
        "id": "plLpt7hAd0YM",
        "outputId": "393cfd3f-c3e2-471d-c7e3-a9398df17ec5"
      },
      "source": [
        "print(\"I love python\")"
      ],
      "execution_count": 2,
      "outputs": [
        {
          "output_type": "stream",
          "text": [
            "I love python\n"
          ],
          "name": "stdout"
        }
      ]
    },
    {
      "cell_type": "markdown",
      "metadata": {
        "id": "IaZjgoG2x17K"
      },
      "source": [
        "###Playing with numbers"
      ]
    },
    {
      "cell_type": "code",
      "metadata": {
        "colab": {
          "base_uri": "https://localhost:8080/"
        },
        "id": "codvV1Rfd3_C",
        "outputId": "1dbb0c0c-ab74-4e6f-a69a-202c604fe33b"
      },
      "source": [
        "x = 1\n",
        "x"
      ],
      "execution_count": 3,
      "outputs": [
        {
          "output_type": "execute_result",
          "data": {
            "text/plain": [
              "1"
            ]
          },
          "metadata": {
            "tags": []
          },
          "execution_count": 3
        }
      ]
    },
    {
      "cell_type": "code",
      "metadata": {
        "colab": {
          "base_uri": "https://localhost:8080/"
        },
        "id": "YDaCw_29fB84",
        "outputId": "1109c379-86a7-4da6-8308-777b2353057b"
      },
      "source": [
        "x = x + 1\n",
        "x"
      ],
      "execution_count": 4,
      "outputs": [
        {
          "output_type": "execute_result",
          "data": {
            "text/plain": [
              "2"
            ]
          },
          "metadata": {
            "tags": []
          },
          "execution_count": 4
        }
      ]
    },
    {
      "cell_type": "markdown",
      "metadata": {
        "id": "jUi1WTEogJks"
      },
      "source": [
        "### Use of Variable, Constant, Function, and Operator using Sentences/Lines in Python"
      ]
    },
    {
      "cell_type": "code",
      "metadata": {
        "colab": {
          "base_uri": "https://localhost:8080/"
        },
        "id": "oKAD1D6sfEtl",
        "outputId": "c1575a24-5b6e-439e-e8f4-07989f345695"
      },
      "source": [
        "x = 2\n",
        "x = x + 2\n",
        "print(x)"
      ],
      "execution_count": 5,
      "outputs": [
        {
          "output_type": "stream",
          "text": [
            "4\n"
          ],
          "name": "stdout"
        }
      ]
    },
    {
      "cell_type": "markdown",
      "metadata": {
        "id": "Nj-O8XN0gkf6"
      },
      "source": [
        "###Difference between .py and .ipynb\n",
        "\n",
        ".py is used for python script\n",
        "\n",
        ".ipynb is interactive script running code line by line"
      ]
    },
    {
      "cell_type": "markdown",
      "metadata": {
        "id": "heSRSCiQg6IU"
      },
      "source": [
        "###Difference between Sequential and Conditional\n",
        "\n",
        "Code line by line is sequential\n",
        "\n",
        "Code in which conditions are being checked to be true or false is conditional"
      ]
    },
    {
      "cell_type": "markdown",
      "metadata": {
        "id": "W8PJOoGXhQOE"
      },
      "source": [
        "###Sequential Steps"
      ]
    },
    {
      "cell_type": "code",
      "metadata": {
        "colab": {
          "base_uri": "https://localhost:8080/"
        },
        "id": "Gw8QZZI2gRI8",
        "outputId": "d00bff13-9461-4753-acfa-9342deece96a"
      },
      "source": [
        "x = 2\n",
        "print(x)\n",
        "x = x + 2\n",
        "print(x)"
      ],
      "execution_count": 6,
      "outputs": [
        {
          "output_type": "stream",
          "text": [
            "2\n",
            "4\n"
          ],
          "name": "stdout"
        }
      ]
    },
    {
      "cell_type": "markdown",
      "metadata": {
        "id": "Z2IK2-l7hfod"
      },
      "source": [
        "###Conditional Steps"
      ]
    },
    {
      "cell_type": "code",
      "metadata": {
        "colab": {
          "base_uri": "https://localhost:8080/"
        },
        "id": "z3abmVGehXI5",
        "outputId": "aa1fb1b5-e900-4b15-a1e9-a34c71c386b1"
      },
      "source": [
        "x = 5\n",
        "if x < 10:\n",
        "  print('smaller')\n",
        "if x > 20:\n",
        "  print('bigger')\n",
        "print('End')"
      ],
      "execution_count": 7,
      "outputs": [
        {
          "output_type": "stream",
          "text": [
            "smaller\n",
            "End\n"
          ],
          "name": "stdout"
        }
      ]
    },
    {
      "cell_type": "markdown",
      "metadata": {
        "id": "9YLAcjHViB3Q"
      },
      "source": [
        "###Repeated Steps"
      ]
    },
    {
      "cell_type": "code",
      "metadata": {
        "colab": {
          "base_uri": "https://localhost:8080/"
        },
        "id": "cp1GLS12hxv2",
        "outputId": "87df4a20-4c70-4a21-fa85-44555726e43a"
      },
      "source": [
        "x = 5\n",
        "while x > 1:\n",
        "  print(x)\n",
        "  x = x - 2     #x here is working as iteration variable changing everytime loop runs\n",
        "print('End of while')"
      ],
      "execution_count": 8,
      "outputs": [
        {
          "output_type": "stream",
          "text": [
            "5\n",
            "3\n",
            "End of while\n"
          ],
          "name": "stdout"
        }
      ]
    },
    {
      "cell_type": "markdown",
      "metadata": {
        "id": "0aGzt7FxjOwD"
      },
      "source": [
        "#Constants\n",
        "\n",
        "###Fixed values such as numbers, characters, and string are called constants"
      ]
    },
    {
      "cell_type": "code",
      "metadata": {
        "colab": {
          "base_uri": "https://localhost:8080/"
        },
        "id": "eGiiGJtaiRk0",
        "outputId": "cc44cb55-1c59-4fc4-b681-db7f1071d122"
      },
      "source": [
        "print(321)\n",
        "print(3.142)\n",
        "print('a')\n",
        "print('my name is sahil')   #you can use any of the \" and ' quote"
      ],
      "execution_count": 9,
      "outputs": [
        {
          "output_type": "stream",
          "text": [
            "321\n",
            "3.142\n",
            "a\n",
            "my name is sahil\n"
          ],
          "name": "stdout"
        }
      ]
    },
    {
      "cell_type": "markdown",
      "metadata": {
        "id": "XsMt4dw3j5ED"
      },
      "source": [
        "#Reserved Words"
      ]
    },
    {
      "cell_type": "markdown",
      "metadata": {
        "id": "gbzVQimOkva3"
      },
      "source": [
        "![reserved words in python.PNG](data:image/png;base64,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)"
      ]
    },
    {
      "cell_type": "markdown",
      "metadata": {
        "id": "vtecRyjZkLt3"
      },
      "source": [
        "#Variables"
      ]
    },
    {
      "cell_type": "code",
      "metadata": {
        "id": "p2TLs8iNjmAA"
      },
      "source": [
        "x = 12.2\n",
        "y = 14"
      ],
      "execution_count": 10,
      "outputs": []
    },
    {
      "cell_type": "markdown",
      "metadata": {
        "id": "wrhqcL9HkcKP"
      },
      "source": [
        "![variables.PNG](data:image/png;base64,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)"
      ]
    },
    {
      "cell_type": "code",
      "metadata": {
        "id": "lTRMBDRikOYI"
      },
      "source": [
        "x = 100"
      ],
      "execution_count": 11,
      "outputs": []
    },
    {
      "cell_type": "markdown",
      "metadata": {
        "id": "k-RvonTolNwN"
      },
      "source": [
        "![variables1.PNG](data:image/png;base64,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)"
      ]
    },
    {
      "cell_type": "markdown",
      "metadata": {
        "id": "u8gMCAO5lacS"
      },
      "source": [
        "###Python Variable Name Rules\n",
        "1. Must start with a letter or underscore\n",
        "\n",
        "2. Must consist of letters, numbers, and underscores\n",
        "\n",
        "3. Case sensitivity\n",
        "\n",
        "4. Cannot start variable name with number, special character (except _ ), or . inside variable name such as sahil.10"
      ]
    },
    {
      "cell_type": "code",
      "metadata": {
        "colab": {
          "base_uri": "https://localhost:8080/"
        },
        "id": "zbXlA3ZXlM-L",
        "outputId": "fd1b57d7-821b-4e49-e9c1-27fa34b63f59"
      },
      "source": [
        "_abc = 10\n",
        "abc = 20\n",
        "abc9 = 30\n",
        "Abc = 40\n",
        "ABc = 50\n",
        "print(_abc)\n",
        "print(abc)\n",
        "print(abc9)\n",
        "print(Abc)\n",
        "print(ABc)"
      ],
      "execution_count": 12,
      "outputs": [
        {
          "output_type": "stream",
          "text": [
            "10\n",
            "20\n",
            "30\n",
            "40\n",
            "50\n"
          ],
          "name": "stdout"
        }
      ]
    },
    {
      "cell_type": "markdown",
      "metadata": {
        "id": "ycyqfYiUnE8q"
      },
      "source": [
        "#Mnemonics for Humans\n",
        "\n",
        "Friend v/s Friends are two different variables for Python. \n",
        "\n",
        "However, these words have plurality behind them for Humans."
      ]
    },
    {
      "cell_type": "code",
      "metadata": {
        "colab": {
          "base_uri": "https://localhost:8080/"
        },
        "id": "XsBiVZkMl6rE",
        "outputId": "09ccfc1b-1927-4efb-8c7b-d924e80851e4"
      },
      "source": [
        "afasfasfd = 10\n",
        "htehegegr = 20\n",
        "erignrnhb = afasfasfd * htehegegr\n",
        "print (erignrnhb)"
      ],
      "execution_count": 13,
      "outputs": [
        {
          "output_type": "stream",
          "text": [
            "200\n"
          ],
          "name": "stdout"
        }
      ]
    },
    {
      "cell_type": "code",
      "metadata": {
        "colab": {
          "base_uri": "https://localhost:8080/"
        },
        "id": "kXBUS8VunQAT",
        "outputId": "97a255b0-e91e-4f2f-bdfe-a58c68fa63a2"
      },
      "source": [
        "a = 10\n",
        "b = 20\n",
        "c = a * b\n",
        "print(c)"
      ],
      "execution_count": 14,
      "outputs": [
        {
          "output_type": "stream",
          "text": [
            "200\n"
          ],
          "name": "stdout"
        }
      ]
    },
    {
      "cell_type": "code",
      "metadata": {
        "colab": {
          "base_uri": "https://localhost:8080/"
        },
        "id": "V3wCSe8YnVVh",
        "outputId": "5ec33bdd-ede8-4278-9700-b47bc1667908"
      },
      "source": [
        "hours = 10\n",
        "rate = 20\n",
        "pay = hours * rate\n",
        "print(pay)"
      ],
      "execution_count": 15,
      "outputs": [
        {
          "output_type": "stream",
          "text": [
            "200\n"
          ],
          "name": "stdout"
        }
      ]
    },
    {
      "cell_type": "markdown",
      "metadata": {
        "id": "E5J55FcroNI1"
      },
      "source": [
        "#Assignment Statements\n",
        "\n",
        "An assignment statement consists of an expression on the right-hand side and a variable on the left-hand side to store the result of the expression."
      ]
    },
    {
      "cell_type": "code",
      "metadata": {
        "colab": {
          "base_uri": "https://localhost:8080/"
        },
        "id": "iaRtU5R6o3BN",
        "outputId": "3e65576b-4c57-4cfc-f87e-32870e44bc0c"
      },
      "source": [
        "print(x)\n",
        "print(rate)\n",
        "print(hours)\n",
        "x = 3.142 * x * (rate - hours)\n",
        "print(x)"
      ],
      "execution_count": 16,
      "outputs": [
        {
          "output_type": "stream",
          "text": [
            "100\n",
            "20\n",
            "10\n",
            "3142.0\n"
          ],
          "name": "stdout"
        }
      ]
    },
    {
      "cell_type": "markdown",
      "metadata": {
        "id": "1Ea85Mu3pcOi"
      },
      "source": [
        "#Operators"
      ]
    },
    {
      "cell_type": "markdown",
      "metadata": {
        "id": "jOEMM5RUpqAj"
      },
      "source": [
        "![Operators.PNG](data:image/png;base64,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)"
      ]
    },
    {
      "cell_type": "code",
      "metadata": {
        "colab": {
          "base_uri": "https://localhost:8080/"
        },
        "id": "Wv1pUh8voiOH",
        "outputId": "38ca3254-31ad-4bf7-b670-da16bb015846"
      },
      "source": [
        "5**2"
      ],
      "execution_count": 17,
      "outputs": [
        {
          "output_type": "execute_result",
          "data": {
            "text/plain": [
              "25"
            ]
          },
          "metadata": {
            "tags": []
          },
          "execution_count": 17
        }
      ]
    },
    {
      "cell_type": "code",
      "metadata": {
        "colab": {
          "base_uri": "https://localhost:8080/"
        },
        "id": "nHw0teChp7Qh",
        "outputId": "5a446394-4590-4866-8c9c-51f158139984"
      },
      "source": [
        "23%5"
      ],
      "execution_count": 18,
      "outputs": [
        {
          "output_type": "execute_result",
          "data": {
            "text/plain": [
              "3"
            ]
          },
          "metadata": {
            "tags": []
          },
          "execution_count": 18
        }
      ]
    },
    {
      "cell_type": "code",
      "metadata": {
        "colab": {
          "base_uri": "https://localhost:8080/"
        },
        "id": "FhUx034qp9HS",
        "outputId": "7a7da0fe-8242-4e28-86ee-d6411e9817dc"
      },
      "source": [
        "23/5"
      ],
      "execution_count": 19,
      "outputs": [
        {
          "output_type": "execute_result",
          "data": {
            "text/plain": [
              "4.6"
            ]
          },
          "metadata": {
            "tags": []
          },
          "execution_count": 19
        }
      ]
    },
    {
      "cell_type": "markdown",
      "metadata": {
        "id": "X9VSk5yTq__6"
      },
      "source": [
        "#Operator Precedence Rules\n",
        "\n",
        "![precedence.PNG](data:image/png;base64,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)"
      ]
    },
    {
      "cell_type": "code",
      "metadata": {
        "id": "zvdEcM_dqApF"
      },
      "source": [
        "x = 1 + 2 * 3 - 4 / 5 ** 6\n",
        "y = 1 + (2 * 3) - (4 / (5 ** 6))"
      ],
      "execution_count": 20,
      "outputs": []
    },
    {
      "cell_type": "code",
      "metadata": {
        "colab": {
          "base_uri": "https://localhost:8080/"
        },
        "id": "40xHAvmtqjYv",
        "outputId": "f3f19b60-54b8-44e8-a37d-e78f6ee0a61a"
      },
      "source": [
        "print(x)\n",
        "print(y)"
      ],
      "execution_count": 21,
      "outputs": [
        {
          "output_type": "stream",
          "text": [
            "6.999744\n",
            "6.999744\n"
          ],
          "name": "stdout"
        }
      ]
    },
    {
      "cell_type": "markdown",
      "metadata": {
        "id": "6dIcCqF0rmj5"
      },
      "source": [
        "#Type of Variable"
      ]
    },
    {
      "cell_type": "code",
      "metadata": {
        "colab": {
          "base_uri": "https://localhost:8080/"
        },
        "id": "jjpKFibaqmhN",
        "outputId": "7be7030e-a930-4eee-f574-58f0f9f02218"
      },
      "source": [
        "5 + 2"
      ],
      "execution_count": 22,
      "outputs": [
        {
          "output_type": "execute_result",
          "data": {
            "text/plain": [
              "7"
            ]
          },
          "metadata": {
            "tags": []
          },
          "execution_count": 22
        }
      ]
    },
    {
      "cell_type": "code",
      "metadata": {
        "colab": {
          "base_uri": "https://localhost:8080/",
          "height": 35
        },
        "id": "1J-JltAlrqb_",
        "outputId": "5bd183ce-5abb-4eb0-8afb-66843c4cec99"
      },
      "source": [
        "'sahil ' + 'sharma'"
      ],
      "execution_count": 23,
      "outputs": [
        {
          "output_type": "execute_result",
          "data": {
            "application/vnd.google.colaboratory.intrinsic+json": {
              "type": "string"
            },
            "text/plain": [
              "'sahil sharma'"
            ]
          },
          "metadata": {
            "tags": []
          },
          "execution_count": 23
        }
      ]
    },
    {
      "cell_type": "markdown",
      "metadata": {
        "id": "HQhK0YHwr0sp"
      },
      "source": [
        "###Type Matters"
      ]
    },
    {
      "cell_type": "code",
      "metadata": {
        "id": "ybPPzRphrsTA"
      },
      "source": [
        "#'sahil' + 5"
      ],
      "execution_count": 24,
      "outputs": []
    },
    {
      "cell_type": "code",
      "metadata": {
        "colab": {
          "base_uri": "https://localhost:8080/"
        },
        "id": "PmLcGsPpr5Lg",
        "outputId": "159fc69a-8b44-4819-eba3-a9cec1fe5e23"
      },
      "source": [
        "type('sahil')"
      ],
      "execution_count": 25,
      "outputs": [
        {
          "output_type": "execute_result",
          "data": {
            "text/plain": [
              "str"
            ]
          },
          "metadata": {
            "tags": []
          },
          "execution_count": 25
        }
      ]
    },
    {
      "cell_type": "code",
      "metadata": {
        "colab": {
          "base_uri": "https://localhost:8080/"
        },
        "id": "pUkLkm_Yr93W",
        "outputId": "29fe0ccb-1ebc-40ac-e737-3096ec543c43"
      },
      "source": [
        "type(5)"
      ],
      "execution_count": 26,
      "outputs": [
        {
          "output_type": "execute_result",
          "data": {
            "text/plain": [
              "int"
            ]
          },
          "metadata": {
            "tags": []
          },
          "execution_count": 26
        }
      ]
    },
    {
      "cell_type": "code",
      "metadata": {
        "colab": {
          "base_uri": "https://localhost:8080/",
          "height": 35
        },
        "id": "EkKvTresryPf",
        "outputId": "8cf2ab7a-9f32-4b2b-c160-404c39d2d6fe"
      },
      "source": [
        "'sahil' + '5'"
      ],
      "execution_count": 27,
      "outputs": [
        {
          "output_type": "execute_result",
          "data": {
            "application/vnd.google.colaboratory.intrinsic+json": {
              "type": "string"
            },
            "text/plain": [
              "'sahil5'"
            ]
          },
          "metadata": {
            "tags": []
          },
          "execution_count": 27
        }
      ]
    },
    {
      "cell_type": "code",
      "metadata": {
        "colab": {
          "base_uri": "https://localhost:8080/"
        },
        "id": "hL0fpt5Er_Gg",
        "outputId": "6dfdfe0d-7ff6-4dfc-c046-7f433f83998a"
      },
      "source": [
        "type(5.0)"
      ],
      "execution_count": 28,
      "outputs": [
        {
          "output_type": "execute_result",
          "data": {
            "text/plain": [
              "float"
            ]
          },
          "metadata": {
            "tags": []
          },
          "execution_count": 28
        }
      ]
    },
    {
      "cell_type": "markdown",
      "metadata": {
        "id": "ighq0e-VsvV0"
      },
      "source": [
        "#Type Conversions"
      ]
    },
    {
      "cell_type": "code",
      "metadata": {
        "colab": {
          "base_uri": "https://localhost:8080/"
        },
        "id": "fZTPxSZ9sglp",
        "outputId": "3f0fd6ef-cbd8-4950-8781-d0656bfa87a4"
      },
      "source": [
        "float(99)+100"
      ],
      "execution_count": 29,
      "outputs": [
        {
          "output_type": "execute_result",
          "data": {
            "text/plain": [
              "199.0"
            ]
          },
          "metadata": {
            "tags": []
          },
          "execution_count": 29
        }
      ]
    },
    {
      "cell_type": "code",
      "metadata": {
        "colab": {
          "base_uri": "https://localhost:8080/"
        },
        "id": "iXfgEWObszxv",
        "outputId": "8bc3cb79-eaa5-4e1b-d900-b730f2143e3a"
      },
      "source": [
        "a = 10\n",
        "print(type(a))\n",
        "b = float(a)\n",
        "print(b)\n",
        "print(type(b))"
      ],
      "execution_count": 30,
      "outputs": [
        {
          "output_type": "stream",
          "text": [
            "<class 'int'>\n",
            "10.0\n",
            "<class 'float'>\n"
          ],
          "name": "stdout"
        }
      ]
    },
    {
      "cell_type": "code",
      "metadata": {
        "colab": {
          "base_uri": "https://localhost:8080/"
        },
        "id": "GpLLqHR2tSl2",
        "outputId": "134008ec-e99a-46c5-cf6e-03f6dddacbf3"
      },
      "source": [
        "print(9/2)    #Integer Division"
      ],
      "execution_count": 31,
      "outputs": [
        {
          "output_type": "stream",
          "text": [
            "4.5\n"
          ],
          "name": "stdout"
        }
      ]
    },
    {
      "cell_type": "code",
      "metadata": {
        "colab": {
          "base_uri": "https://localhost:8080/"
        },
        "id": "uuEqT3oKtbht",
        "outputId": "b36b9e0b-4cad-4516-f71e-e6d3d5baadd8"
      },
      "source": [
        "print(99/100)   #In Python 2.x, this was 0"
      ],
      "execution_count": 32,
      "outputs": [
        {
          "output_type": "stream",
          "text": [
            "0.99\n"
          ],
          "name": "stdout"
        }
      ]
    },
    {
      "cell_type": "markdown",
      "metadata": {
        "id": "1-NT9T-Xt5V8"
      },
      "source": [
        "#String Conversions"
      ]
    },
    {
      "cell_type": "code",
      "metadata": {
        "id": "cM_qHDIjtmjK"
      },
      "source": [
        "string = '321'\n",
        "#string + 1"
      ],
      "execution_count": 33,
      "outputs": []
    },
    {
      "cell_type": "code",
      "metadata": {
        "colab": {
          "base_uri": "https://localhost:8080/"
        },
        "id": "UqZx00OnuHJq",
        "outputId": "0e8ede19-a0f3-450f-c8c3-bdc2c0aafcdc"
      },
      "source": [
        "int(string) + 1"
      ],
      "execution_count": 34,
      "outputs": [
        {
          "output_type": "execute_result",
          "data": {
            "text/plain": [
              "322"
            ]
          },
          "metadata": {
            "tags": []
          },
          "execution_count": 34
        }
      ]
    },
    {
      "cell_type": "code",
      "metadata": {
        "id": "8rLoFR-nuLE5"
      },
      "source": [
        "string = 'sahil'\n",
        "#print(int(string))"
      ],
      "execution_count": 35,
      "outputs": []
    },
    {
      "cell_type": "markdown",
      "metadata": {
        "id": "o0KSZb7dutO9"
      },
      "source": [
        "#User Input"
      ]
    },
    {
      "cell_type": "code",
      "metadata": {
        "colab": {
          "base_uri": "https://localhost:8080/"
        },
        "id": "N653PTqCuchs",
        "outputId": "15a6f5ec-fc88-4234-f681-64f3b7d9a805"
      },
      "source": [
        "name = input('Who are you? ')\n",
        "print('Welcome', name)"
      ],
      "execution_count": 36,
      "outputs": [
        {
          "output_type": "stream",
          "text": [
            "Who are you? sahil\n",
            "Welcome sahil\n"
          ],
          "name": "stdout"
        }
      ]
    },
    {
      "cell_type": "markdown",
      "metadata": {
        "id": "nV_8mQSQvNnD"
      },
      "source": [
        "#Comments in Python"
      ]
    },
    {
      "cell_type": "code",
      "metadata": {
        "id": "sIjMkAR_u7dT"
      },
      "source": [
        "# This is a comment in a code block\n",
        "# Multiple line comments are not supported by Python"
      ],
      "execution_count": 37,
      "outputs": []
    },
    {
      "cell_type": "code",
      "metadata": {
        "id": "YU4Hl0j2vcJC"
      },
      "source": [
        "# Why do we need comments?\n",
        "# 1. Describe what is going on with in the code\n",
        "# 2. Documentation about the code writer and other theorectical stuff\n",
        "# 3. Turn off a line of the code, temporarily"
      ],
      "execution_count": 38,
      "outputs": []
    },
    {
      "cell_type": "markdown",
      "metadata": {
        "id": "mHB_IQrLwmcS"
      },
      "source": [
        "# Make a program to convert Fahrenheit temperature to Celsius"
      ]
    },
    {
      "cell_type": "code",
      "metadata": {
        "colab": {
          "base_uri": "https://localhost:8080/"
        },
        "id": "Yl6ml157wuq3",
        "outputId": "9f36fd42-323a-4304-b2cf-0dd29239f079"
      },
      "source": [
        "#Enter temperature as Fahrenheit\n",
        "fahrenheit = input(\"What is the Fahrenheit Temperature? \")\n",
        "celsius    = (5/9)*(float(fahrenheit) - 32)\n",
        "print(\"\\nEquivalent Celsius Temperature is \", celsius)"
      ],
      "execution_count": 39,
      "outputs": [
        {
          "output_type": "stream",
          "text": [
            "What is the Fahrenheit Temperature? 98.6\n",
            "\n",
            "Equivalent Celsius Temperature is  37.0\n"
          ],
          "name": "stdout"
        }
      ]
    },
    {
      "cell_type": "markdown",
      "metadata": {
        "id": "CShvbazJ5POX"
      },
      "source": [
        "#Basics of Python - Continued"
      ]
    },
    {
      "cell_type": "markdown",
      "metadata": {
        "id": "h4R3pNiYx8fx"
      },
      "source": [
        "Basic Data Types"
      ]
    },
    {
      "cell_type": "code",
      "metadata": {
        "id": "iVw5ZFLWZIfx",
        "colab": {
          "base_uri": "https://localhost:8080/"
        },
        "outputId": "a3047168-3c2d-4513-8c69-2d6675dbf2e3"
      },
      "source": [
        "#Integer\n",
        "1\n",
        "38\n",
        "363\n",
        "46356"
      ],
      "execution_count": 40,
      "outputs": [
        {
          "output_type": "execute_result",
          "data": {
            "text/plain": [
              "46356"
            ]
          },
          "metadata": {
            "tags": []
          },
          "execution_count": 40
        }
      ]
    },
    {
      "cell_type": "code",
      "metadata": {
        "colab": {
          "base_uri": "https://localhost:8080/"
        },
        "id": "ZGCQ32lNzMOa",
        "outputId": "96bc8091-28e2-4d39-a175-10b2cbe196ff"
      },
      "source": [
        "#Float\n",
        "3.142857\n",
        "10.10\n",
        "23324.235234"
      ],
      "execution_count": 41,
      "outputs": [
        {
          "output_type": "execute_result",
          "data": {
            "text/plain": [
              "23324.235234"
            ]
          },
          "metadata": {
            "tags": []
          },
          "execution_count": 41
        }
      ]
    },
    {
      "cell_type": "code",
      "metadata": {
        "colab": {
          "base_uri": "https://localhost:8080/",
          "height": 35
        },
        "id": "dUPry0TQzRab",
        "outputId": "1caa8dce-b7e0-44b3-8fa1-f61d5fafc158"
      },
      "source": [
        "#String\n",
        "'sahil'\n",
        "'chandigarh'"
      ],
      "execution_count": 42,
      "outputs": [
        {
          "output_type": "execute_result",
          "data": {
            "application/vnd.google.colaboratory.intrinsic+json": {
              "type": "string"
            },
            "text/plain": [
              "'chandigarh'"
            ]
          },
          "metadata": {
            "tags": []
          },
          "execution_count": 42
        }
      ]
    },
    {
      "cell_type": "code",
      "metadata": {
        "colab": {
          "base_uri": "https://localhost:8080/",
          "height": 35
        },
        "id": "C0Te20vRzhdz",
        "outputId": "1a37711a-7f30-4d2b-b4fd-b6ab2a1a4565"
      },
      "source": [
        "'123.45'"
      ],
      "execution_count": 43,
      "outputs": [
        {
          "output_type": "execute_result",
          "data": {
            "application/vnd.google.colaboratory.intrinsic+json": {
              "type": "string"
            },
            "text/plain": [
              "'123.45'"
            ]
          },
          "metadata": {
            "tags": []
          },
          "execution_count": 43
        }
      ]
    },
    {
      "cell_type": "code",
      "metadata": {
        "colab": {
          "base_uri": "https://localhost:8080/",
          "height": 35
        },
        "id": "-EELs_A0zkvv",
        "outputId": "b264d3c3-9ec5-470f-e7da-4726d0c3e933"
      },
      "source": [
        "'Rs. 1,25,000/- only'"
      ],
      "execution_count": 44,
      "outputs": [
        {
          "output_type": "execute_result",
          "data": {
            "application/vnd.google.colaboratory.intrinsic+json": {
              "type": "string"
            },
            "text/plain": [
              "'Rs. 1,25,000/- only'"
            ]
          },
          "metadata": {
            "tags": []
          },
          "execution_count": 44
        }
      ]
    },
    {
      "cell_type": "code",
      "metadata": {
        "colab": {
          "base_uri": "https://localhost:8080/",
          "height": 35
        },
        "id": "7drFmcQxzv-6",
        "outputId": "d6d40904-0c16-436a-f55c-57479c6e18f5"
      },
      "source": [
        "''"
      ],
      "execution_count": 45,
      "outputs": [
        {
          "output_type": "execute_result",
          "data": {
            "application/vnd.google.colaboratory.intrinsic+json": {
              "type": "string"
            },
            "text/plain": [
              "''"
            ]
          },
          "metadata": {
            "tags": []
          },
          "execution_count": 45
        }
      ]
    },
    {
      "cell_type": "code",
      "metadata": {
        "colab": {
          "base_uri": "https://localhost:8080/"
        },
        "id": "GCVZ1zjWz0KT",
        "outputId": "ad04d3c0-294e-44f6-92fc-1abce3fff2d3"
      },
      "source": [
        "#Boolean\n",
        "True\n",
        "False"
      ],
      "execution_count": 46,
      "outputs": [
        {
          "output_type": "execute_result",
          "data": {
            "text/plain": [
              "False"
            ]
          },
          "metadata": {
            "tags": []
          },
          "execution_count": 46
        }
      ]
    },
    {
      "cell_type": "code",
      "metadata": {
        "colab": {
          "base_uri": "https://localhost:8080/"
        },
        "id": "Cb-QrsZH0J2G",
        "outputId": "7251b6ef-c40d-4d99-9b5b-ed5a24186c7f"
      },
      "source": [
        "10<20"
      ],
      "execution_count": 47,
      "outputs": [
        {
          "output_type": "execute_result",
          "data": {
            "text/plain": [
              "True"
            ]
          },
          "metadata": {
            "tags": []
          },
          "execution_count": 47
        }
      ]
    },
    {
      "cell_type": "code",
      "metadata": {
        "colab": {
          "base_uri": "https://localhost:8080/"
        },
        "id": "1U0wy1lt0P-6",
        "outputId": "ab0d8f11-da19-4fb3-8a3c-664ba385405d"
      },
      "source": [
        "20<10"
      ],
      "execution_count": 48,
      "outputs": [
        {
          "output_type": "execute_result",
          "data": {
            "text/plain": [
              "False"
            ]
          },
          "metadata": {
            "tags": []
          },
          "execution_count": 48
        }
      ]
    },
    {
      "cell_type": "code",
      "metadata": {
        "id": "nEakzaSs0UyP"
      },
      "source": [
        "#Placeholder to represent Nothing\n",
        "None #Nothing to print"
      ],
      "execution_count": 49,
      "outputs": []
    },
    {
      "cell_type": "markdown",
      "metadata": {
        "id": "e42F4FuW1RmL"
      },
      "source": [
        "### Arithmetic Operators\n",
        "Addition, Subtraction, Multiplication, Division, Floor Division, Exponent, Remainder"
      ]
    },
    {
      "cell_type": "code",
      "metadata": {
        "colab": {
          "base_uri": "https://localhost:8080/"
        },
        "id": "By1Ie51D0fhK",
        "outputId": "0b2591ac-0e09-4e6b-a3ec-b4cd145d9b91"
      },
      "source": [
        "10 + 2"
      ],
      "execution_count": 50,
      "outputs": [
        {
          "output_type": "execute_result",
          "data": {
            "text/plain": [
              "12"
            ]
          },
          "metadata": {
            "tags": []
          },
          "execution_count": 50
        }
      ]
    },
    {
      "cell_type": "code",
      "metadata": {
        "colab": {
          "base_uri": "https://localhost:8080/"
        },
        "id": "rXxrlpBG02aB",
        "outputId": "7d9e0325-c176-4f10-f113-322a789e1dad"
      },
      "source": [
        "3.14 + 3"
      ],
      "execution_count": 51,
      "outputs": [
        {
          "output_type": "execute_result",
          "data": {
            "text/plain": [
              "6.140000000000001"
            ]
          },
          "metadata": {
            "tags": []
          },
          "execution_count": 51
        }
      ]
    },
    {
      "cell_type": "code",
      "metadata": {
        "colab": {
          "base_uri": "https://localhost:8080/",
          "height": 35
        },
        "id": "zZKU_6eg08n_",
        "outputId": "9821143d-fe7e-4808-9bf5-9067e581cfb6"
      },
      "source": [
        "#concatenation\n",
        "'sahil ' + 'sharma'"
      ],
      "execution_count": 52,
      "outputs": [
        {
          "output_type": "execute_result",
          "data": {
            "application/vnd.google.colaboratory.intrinsic+json": {
              "type": "string"
            },
            "text/plain": [
              "'sahil sharma'"
            ]
          },
          "metadata": {
            "tags": []
          },
          "execution_count": 52
        }
      ]
    },
    {
      "cell_type": "code",
      "metadata": {
        "colab": {
          "base_uri": "https://localhost:8080/"
        },
        "id": "WYOKbc4r1A7d",
        "outputId": "b5466b20-4373-4c00-bfa5-5b60a9461f1b"
      },
      "source": [
        "#Subtraction\n",
        "10 - 2"
      ],
      "execution_count": 53,
      "outputs": [
        {
          "output_type": "execute_result",
          "data": {
            "text/plain": [
              "8"
            ]
          },
          "metadata": {
            "tags": []
          },
          "execution_count": 53
        }
      ]
    },
    {
      "cell_type": "code",
      "metadata": {
        "colab": {
          "base_uri": "https://localhost:8080/"
        },
        "id": "M_R29Pwz1Ev9",
        "outputId": "e8141651-4bc9-40b6-fc10-7e796702c792"
      },
      "source": [
        "#Multiplication\n",
        "3 * 2"
      ],
      "execution_count": 54,
      "outputs": [
        {
          "output_type": "execute_result",
          "data": {
            "text/plain": [
              "6"
            ]
          },
          "metadata": {
            "tags": []
          },
          "execution_count": 54
        }
      ]
    },
    {
      "cell_type": "code",
      "metadata": {
        "colab": {
          "base_uri": "https://localhost:8080/",
          "height": 35
        },
        "id": "5eRyYtyX1G6U",
        "outputId": "0c6757a1-66bc-419a-8629-c75cecd50bf6"
      },
      "source": [
        "'sahil' * 5"
      ],
      "execution_count": 55,
      "outputs": [
        {
          "output_type": "execute_result",
          "data": {
            "application/vnd.google.colaboratory.intrinsic+json": {
              "type": "string"
            },
            "text/plain": [
              "'sahilsahilsahilsahilsahil'"
            ]
          },
          "metadata": {
            "tags": []
          },
          "execution_count": 55
        }
      ]
    },
    {
      "cell_type": "code",
      "metadata": {
        "colab": {
          "base_uri": "https://localhost:8080/"
        },
        "id": "uI_48K1fgiX5",
        "outputId": "b1187c2e-f7b5-4d93-f57e-1f7d248028f5"
      },
      "source": [
        "#Exponent\n",
        "2 ** 5"
      ],
      "execution_count": 56,
      "outputs": [
        {
          "output_type": "execute_result",
          "data": {
            "text/plain": [
              "32"
            ]
          },
          "metadata": {
            "tags": []
          },
          "execution_count": 56
        }
      ]
    },
    {
      "cell_type": "code",
      "metadata": {
        "colab": {
          "base_uri": "https://localhost:8080/"
        },
        "id": "mO0KwQ5i1Lmx",
        "outputId": "658cfff1-5f60-48d6-a91b-212a1ea0100c"
      },
      "source": [
        "#PEMDAS\n",
        "2 - 1 + 5/1 * 2 ** 2"
      ],
      "execution_count": 57,
      "outputs": [
        {
          "output_type": "execute_result",
          "data": {
            "text/plain": [
              "21.0"
            ]
          },
          "metadata": {
            "tags": []
          },
          "execution_count": 57
        }
      ]
    },
    {
      "cell_type": "code",
      "metadata": {
        "colab": {
          "base_uri": "https://localhost:8080/"
        },
        "id": "9S6O4Hha1sl7",
        "outputId": "ac016862-fdb3-408e-b034-dd8679b105fc"
      },
      "source": [
        "#Division\n",
        "23 / 5"
      ],
      "execution_count": 58,
      "outputs": [
        {
          "output_type": "execute_result",
          "data": {
            "text/plain": [
              "4.6"
            ]
          },
          "metadata": {
            "tags": []
          },
          "execution_count": 58
        }
      ]
    },
    {
      "cell_type": "code",
      "metadata": {
        "colab": {
          "base_uri": "https://localhost:8080/"
        },
        "id": "uuLBLOhT2J0W",
        "outputId": "d8ce8d70-3177-4559-8ddc-5bc439691cd4"
      },
      "source": [
        "#Floor Division\n",
        "23 // 5"
      ],
      "execution_count": 59,
      "outputs": [
        {
          "output_type": "execute_result",
          "data": {
            "text/plain": [
              "4"
            ]
          },
          "metadata": {
            "tags": []
          },
          "execution_count": 59
        }
      ]
    },
    {
      "cell_type": "markdown",
      "metadata": {
        "id": "vH5_p4VLhMhi"
      },
      "source": [
        "####Assignment Operators\n",
        "Equal(=)\n",
        "\n",
        "####Compound Assignment operator\n",
        "Addition Assignment (+=), Subtraction Assignment (-=) "
      ]
    },
    {
      "cell_type": "code",
      "metadata": {
        "colab": {
          "base_uri": "https://localhost:8080/"
        },
        "id": "dFVZPD_-2LBN",
        "outputId": "1dd7cc58-96cf-43ff-a231-4830c6b24d96"
      },
      "source": [
        "#Equality Operator   ==\n",
        "3 == 2"
      ],
      "execution_count": 60,
      "outputs": [
        {
          "output_type": "execute_result",
          "data": {
            "text/plain": [
              "False"
            ]
          },
          "metadata": {
            "tags": []
          },
          "execution_count": 60
        }
      ]
    },
    {
      "cell_type": "code",
      "metadata": {
        "colab": {
          "base_uri": "https://localhost:8080/"
        },
        "id": "DHLBjrlE2Y0c",
        "outputId": "b7b41694-4c74-45a2-fa74-1f1053859897"
      },
      "source": [
        "5 == (10/2)"
      ],
      "execution_count": 61,
      "outputs": [
        {
          "output_type": "execute_result",
          "data": {
            "text/plain": [
              "True"
            ]
          },
          "metadata": {
            "tags": []
          },
          "execution_count": 61
        }
      ]
    },
    {
      "cell_type": "code",
      "metadata": {
        "colab": {
          "base_uri": "https://localhost:8080/"
        },
        "id": "ncfwyURelgpx",
        "outputId": "a24292c7-b4d7-4011-a76e-e318689c2ad2"
      },
      "source": [
        "x = 1\n",
        "x += 1  #x = x + 1\n",
        "x"
      ],
      "execution_count": 62,
      "outputs": [
        {
          "output_type": "execute_result",
          "data": {
            "text/plain": [
              "2"
            ]
          },
          "metadata": {
            "tags": []
          },
          "execution_count": 62
        }
      ]
    },
    {
      "cell_type": "code",
      "metadata": {
        "colab": {
          "base_uri": "https://localhost:8080/"
        },
        "id": "phhhgNCO2bV4",
        "outputId": "e9c341ca-12f2-4d5d-ace6-73bc4d20c735"
      },
      "source": [
        "'sahil' == 'sahil'"
      ],
      "execution_count": 63,
      "outputs": [
        {
          "output_type": "execute_result",
          "data": {
            "text/plain": [
              "True"
            ]
          },
          "metadata": {
            "tags": []
          },
          "execution_count": 63
        }
      ]
    },
    {
      "cell_type": "code",
      "metadata": {
        "colab": {
          "base_uri": "https://localhost:8080/"
        },
        "id": "4CS5-DW92u9c",
        "outputId": "fad2d725-2c84-4e03-ffbe-1c31e5b4e777"
      },
      "source": [
        "'sahil' == 'Sahil'"
      ],
      "execution_count": 64,
      "outputs": [
        {
          "output_type": "execute_result",
          "data": {
            "text/plain": [
              "False"
            ]
          },
          "metadata": {
            "tags": []
          },
          "execution_count": 64
        }
      ]
    },
    {
      "cell_type": "code",
      "metadata": {
        "colab": {
          "base_uri": "https://localhost:8080/"
        },
        "id": "pMYwHmnm2wfP",
        "outputId": "8e68c9ae-d7fc-45a9-c778-c5ba8426c740"
      },
      "source": [
        "print(True == True)\n",
        "print(False == False)\n",
        "print(True == False)\n",
        "print(False == True)"
      ],
      "execution_count": 65,
      "outputs": [
        {
          "output_type": "stream",
          "text": [
            "True\n",
            "True\n",
            "False\n",
            "False\n"
          ],
          "name": "stdout"
        }
      ]
    },
    {
      "cell_type": "code",
      "metadata": {
        "colab": {
          "base_uri": "https://localhost:8080/"
        },
        "id": "k3w0b5FK4ZzT",
        "outputId": "71a7eb2f-d46e-4bca-e055-315626dad940"
      },
      "source": [
        "x = 5\n",
        "print(5 == x)"
      ],
      "execution_count": 66,
      "outputs": [
        {
          "output_type": "stream",
          "text": [
            "True\n"
          ],
          "name": "stdout"
        }
      ]
    },
    {
      "cell_type": "code",
      "metadata": {
        "colab": {
          "base_uri": "https://localhost:8080/"
        },
        "id": "ZaO7WqGpd7nm",
        "outputId": "81a0e505-2b3f-4709-da12-ba6c652e91a4"
      },
      "source": [
        "(10 == 10) and ('aa' == 'aa')"
      ],
      "execution_count": 67,
      "outputs": [
        {
          "output_type": "execute_result",
          "data": {
            "text/plain": [
              "True"
            ]
          },
          "metadata": {
            "tags": []
          },
          "execution_count": 67
        }
      ]
    },
    {
      "cell_type": "code",
      "metadata": {
        "colab": {
          "base_uri": "https://localhost:8080/"
        },
        "id": "cOiP9E4L23QM",
        "outputId": "e2a5de57-ff45-4ef4-edfa-6a6f94c1b052"
      },
      "source": [
        "# Inequality Operator   !=\n",
        "'sahil' != 'Sahil'"
      ],
      "execution_count": 68,
      "outputs": [
        {
          "output_type": "execute_result",
          "data": {
            "text/plain": [
              "True"
            ]
          },
          "metadata": {
            "tags": []
          },
          "execution_count": 68
        }
      ]
    },
    {
      "cell_type": "code",
      "metadata": {
        "colab": {
          "base_uri": "https://localhost:8080/"
        },
        "id": "UEea2gGV3MU1",
        "outputId": "3163b417-9d57-42db-dd3d-423946006b80"
      },
      "source": [
        "1 != 1"
      ],
      "execution_count": 69,
      "outputs": [
        {
          "output_type": "execute_result",
          "data": {
            "text/plain": [
              "False"
            ]
          },
          "metadata": {
            "tags": []
          },
          "execution_count": 69
        }
      ]
    },
    {
      "cell_type": "code",
      "metadata": {
        "colab": {
          "base_uri": "https://localhost:8080/"
        },
        "id": "t6B9rs0-3Ovr",
        "outputId": "c297767e-e190-4dfa-cb10-81eab4a8739a"
      },
      "source": [
        "print(10 > 0)\n",
        "print(1 >= 10)\n",
        "print(1 < 0)\n",
        "print(1 <= 0)"
      ],
      "execution_count": 70,
      "outputs": [
        {
          "output_type": "stream",
          "text": [
            "True\n",
            "False\n",
            "False\n",
            "False\n"
          ],
          "name": "stdout"
        }
      ]
    },
    {
      "cell_type": "code",
      "metadata": {
        "colab": {
          "base_uri": "https://localhost:8080/"
        },
        "id": "TrPApKF9e2lF",
        "outputId": "8e86bf0e-120c-4e8e-9051-5ce8e4347baa"
      },
      "source": [
        "'''\n",
        "Logical Operators\n",
        "and : True if all the operands are true\n",
        "or  : True if one of the operands is true\n",
        "not : True if the operand is false\n",
        "'''\n",
        "age = 30\n",
        "salary = 50000\n",
        "result = age>25 and salary > 50000\n",
        "print(result)\n",
        "result = age>25 or salary > 50000\n",
        "print(result)\n",
        "result = True\n",
        "print(not result)\n"
      ],
      "execution_count": 71,
      "outputs": [
        {
          "output_type": "stream",
          "text": [
            "False\n",
            "True\n",
            "False\n"
          ],
          "name": "stdout"
        }
      ]
    },
    {
      "cell_type": "markdown",
      "metadata": {
        "id": "UJKYlLkG3qDZ"
      },
      "source": [
        "###Built-in Functions\n",
        "\n",
        "It is a recipe to get the work done!\n",
        "\n",
        "Keywords: Call/Invoke, Arguments, Return Value"
      ]
    },
    {
      "cell_type": "code",
      "metadata": {
        "colab": {
          "base_uri": "https://localhost:8080/",
          "height": 35
        },
        "id": "KuiN4zBe3mD0",
        "outputId": "fe9d9678-0a0f-4655-943f-4af1689cd20f"
      },
      "source": [
        "\"I am an Indian\""
      ],
      "execution_count": 72,
      "outputs": [
        {
          "output_type": "execute_result",
          "data": {
            "application/vnd.google.colaboratory.intrinsic+json": {
              "type": "string"
            },
            "text/plain": [
              "'I am an Indian'"
            ]
          },
          "metadata": {
            "tags": []
          },
          "execution_count": 72
        }
      ]
    },
    {
      "cell_type": "code",
      "metadata": {
        "colab": {
          "base_uri": "https://localhost:8080/"
        },
        "id": "EcB3hcGR6AW_",
        "outputId": "6d3ec9af-27f7-40af-b9ba-f5da3c4cae65"
      },
      "source": [
        "len(\"I am an Indian\")"
      ],
      "execution_count": 73,
      "outputs": [
        {
          "output_type": "execute_result",
          "data": {
            "text/plain": [
              "14"
            ]
          },
          "metadata": {
            "tags": []
          },
          "execution_count": 73
        }
      ]
    },
    {
      "cell_type": "code",
      "metadata": {
        "colab": {
          "base_uri": "https://localhost:8080/",
          "height": 35
        },
        "id": "GQwHYnL06CFb",
        "outputId": "b478b5a6-8ca7-4146-c328-f7173dac312c"
      },
      "source": [
        "str(30)"
      ],
      "execution_count": 74,
      "outputs": [
        {
          "output_type": "execute_result",
          "data": {
            "application/vnd.google.colaboratory.intrinsic+json": {
              "type": "string"
            },
            "text/plain": [
              "'30'"
            ]
          },
          "metadata": {
            "tags": []
          },
          "execution_count": 74
        }
      ]
    },
    {
      "cell_type": "code",
      "metadata": {
        "colab": {
          "base_uri": "https://localhost:8080/"
        },
        "id": "IJfllFti6eIR",
        "outputId": "14e60fad-ef8f-4098-e4f3-0c9bb4444b61"
      },
      "source": [
        "int('10')"
      ],
      "execution_count": 75,
      "outputs": [
        {
          "output_type": "execute_result",
          "data": {
            "text/plain": [
              "10"
            ]
          },
          "metadata": {
            "tags": []
          },
          "execution_count": 75
        }
      ]
    },
    {
      "cell_type": "code",
      "metadata": {
        "colab": {
          "base_uri": "https://localhost:8080/"
        },
        "id": "ivqHp5mT6mAh",
        "outputId": "05e98b5a-1a9b-4607-db03-4c88c872c510"
      },
      "source": [
        "print(float(10))\n",
        "print(float(\"10\"))"
      ],
      "execution_count": 76,
      "outputs": [
        {
          "output_type": "stream",
          "text": [
            "10.0\n",
            "10.0\n"
          ],
          "name": "stdout"
        }
      ]
    },
    {
      "cell_type": "code",
      "metadata": {
        "colab": {
          "base_uri": "https://localhost:8080/"
        },
        "id": "u3FjHQjM6rwP",
        "outputId": "3532efa0-aac4-40bf-83ce-ef3da4a43e8a"
      },
      "source": [
        "print(type(10))\n",
        "print(type(10.5))\n",
        "print(type('sahil'))"
      ],
      "execution_count": 77,
      "outputs": [
        {
          "output_type": "stream",
          "text": [
            "<class 'int'>\n",
            "<class 'float'>\n",
            "<class 'str'>\n"
          ],
          "name": "stdout"
        }
      ]
    },
    {
      "cell_type": "code",
      "metadata": {
        "colab": {
          "base_uri": "https://localhost:8080/"
        },
        "id": "xjjcIcKx64u4",
        "outputId": "76da0f81-5ad5-4081-8007-14436e7e0e26"
      },
      "source": [
        "type(10) == type(11)"
      ],
      "execution_count": 78,
      "outputs": [
        {
          "output_type": "execute_result",
          "data": {
            "text/plain": [
              "True"
            ]
          },
          "metadata": {
            "tags": []
          },
          "execution_count": 78
        }
      ]
    },
    {
      "cell_type": "code",
      "metadata": {
        "colab": {
          "base_uri": "https://localhost:8080/"
        },
        "id": "K2T-nOFW7KA1",
        "outputId": "7cfa38fd-7382-45d9-ada9-d8c2a7936527"
      },
      "source": [
        "type(10) == type('sahil')"
      ],
      "execution_count": 79,
      "outputs": [
        {
          "output_type": "execute_result",
          "data": {
            "text/plain": [
              "False"
            ]
          },
          "metadata": {
            "tags": []
          },
          "execution_count": 79
        }
      ]
    },
    {
      "cell_type": "markdown",
      "metadata": {
        "id": "JuapqXDL7U4y"
      },
      "source": [
        "#Custom Functions"
      ]
    },
    {
      "cell_type": "code",
      "metadata": {
        "id": "O-9i5hN27OHc"
      },
      "source": [
        "#Write a function to convert Celsius to Fahrenheit\n",
        "\n",
        "def C2F(celsius):\n",
        "  # Logic here\n",
        "  answer = celsius * 1.8\n",
        "  return answer + 32"
      ],
      "execution_count": 80,
      "outputs": []
    },
    {
      "cell_type": "code",
      "metadata": {
        "colab": {
          "base_uri": "https://localhost:8080/"
        },
        "id": "7P7dO6Oh9W7s",
        "outputId": "af4d0c51-3e72-4fcf-8c4d-60727a24f4fd"
      },
      "source": [
        "print(C2F(37))"
      ],
      "execution_count": 81,
      "outputs": [
        {
          "output_type": "stream",
          "text": [
            "98.60000000000001\n"
          ],
          "name": "stdout"
        }
      ]
    },
    {
      "cell_type": "code",
      "metadata": {
        "colab": {
          "base_uri": "https://localhost:8080/"
        },
        "id": "0UX5sr-a9cLD",
        "outputId": "46301c6d-fbc3-4fd0-c31c-8ad4bcd8cebe"
      },
      "source": [
        "print(C2F(23))"
      ],
      "execution_count": 82,
      "outputs": [
        {
          "output_type": "stream",
          "text": [
            "73.4\n"
          ],
          "name": "stdout"
        }
      ]
    },
    {
      "cell_type": "code",
      "metadata": {
        "id": "OCqbv1t-9lsK",
        "colab": {
          "base_uri": "https://localhost:8080/"
        },
        "outputId": "6815e1be-550a-46d1-8785-402762870a4c"
      },
      "source": [
        "print(C2F(celsius = 23))"
      ],
      "execution_count": 83,
      "outputs": [
        {
          "output_type": "stream",
          "text": [
            "73.4\n"
          ],
          "name": "stdout"
        }
      ]
    },
    {
      "cell_type": "code",
      "metadata": {
        "id": "8Er-wxQK9tpi"
      },
      "source": [
        "def C2F(celsius = 0):\n",
        "  answer = celsius * 1.8\n",
        "  return answer + 32"
      ],
      "execution_count": 84,
      "outputs": []
    },
    {
      "cell_type": "code",
      "metadata": {
        "colab": {
          "base_uri": "https://localhost:8080/"
        },
        "id": "Z_oBDLTh-FEc",
        "outputId": "2e53ac70-ba68-4bb9-b5fd-e1055fd4c289"
      },
      "source": [
        "C2F()"
      ],
      "execution_count": 85,
      "outputs": [
        {
          "output_type": "execute_result",
          "data": {
            "text/plain": [
              "32.0"
            ]
          },
          "metadata": {
            "tags": []
          },
          "execution_count": 85
        }
      ]
    },
    {
      "cell_type": "markdown",
      "metadata": {
        "id": "CRIj6DJc-VtE"
      },
      "source": [
        "### String Methods"
      ]
    },
    {
      "cell_type": "code",
      "metadata": {
        "id": "IIhuMrH0-HZA"
      },
      "source": [
        "profession = 'Teacher'"
      ],
      "execution_count": 86,
      "outputs": []
    },
    {
      "cell_type": "code",
      "metadata": {
        "colab": {
          "base_uri": "https://localhost:8080/",
          "height": 35
        },
        "id": "rZz1cL-X-hw-",
        "outputId": "43441302-66bd-40c8-ab3b-8cd45b682696"
      },
      "source": [
        "profession.upper()"
      ],
      "execution_count": 87,
      "outputs": [
        {
          "output_type": "execute_result",
          "data": {
            "application/vnd.google.colaboratory.intrinsic+json": {
              "type": "string"
            },
            "text/plain": [
              "'TEACHER'"
            ]
          },
          "metadata": {
            "tags": []
          },
          "execution_count": 87
        }
      ]
    },
    {
      "cell_type": "code",
      "metadata": {
        "colab": {
          "base_uri": "https://localhost:8080/",
          "height": 35
        },
        "id": "u6hGjmkq-smD",
        "outputId": "f1b14cd1-d914-4da1-a70d-4fbf1aed4f65"
      },
      "source": [
        "profession.lower()"
      ],
      "execution_count": 88,
      "outputs": [
        {
          "output_type": "execute_result",
          "data": {
            "application/vnd.google.colaboratory.intrinsic+json": {
              "type": "string"
            },
            "text/plain": [
              "'teacher'"
            ]
          },
          "metadata": {
            "tags": []
          },
          "execution_count": 88
        }
      ]
    },
    {
      "cell_type": "code",
      "metadata": {
        "colab": {
          "base_uri": "https://localhost:8080/",
          "height": 35
        },
        "id": "h_o9KttK-xTH",
        "outputId": "88852733-4e7f-44e1-8b00-8b0edb9c379b"
      },
      "source": [
        "profession.swapcase()"
      ],
      "execution_count": 89,
      "outputs": [
        {
          "output_type": "execute_result",
          "data": {
            "application/vnd.google.colaboratory.intrinsic+json": {
              "type": "string"
            },
            "text/plain": [
              "'tEACHER'"
            ]
          },
          "metadata": {
            "tags": []
          },
          "execution_count": 89
        }
      ]
    },
    {
      "cell_type": "code",
      "metadata": {
        "id": "NjiSBc3b-7PD"
      },
      "source": [
        "# immutable = incapable of change\n",
        "# mutable   = capable of change\n",
        "\n",
        "# string = immutable"
      ],
      "execution_count": 90,
      "outputs": []
    },
    {
      "cell_type": "code",
      "metadata": {
        "colab": {
          "base_uri": "https://localhost:8080/",
          "height": 35
        },
        "id": "H3H80Qqf_U4f",
        "outputId": "210b5f1a-549a-4509-8309-00d1fc0421e8"
      },
      "source": [
        "profession"
      ],
      "execution_count": 91,
      "outputs": [
        {
          "output_type": "execute_result",
          "data": {
            "application/vnd.google.colaboratory.intrinsic+json": {
              "type": "string"
            },
            "text/plain": [
              "'Teacher'"
            ]
          },
          "metadata": {
            "tags": []
          },
          "execution_count": 91
        }
      ]
    },
    {
      "cell_type": "code",
      "metadata": {
        "colab": {
          "base_uri": "https://localhost:8080/",
          "height": 35
        },
        "id": "3RFLQx8J_V7X",
        "outputId": "07997004-8b84-4dae-bc18-12bbe0c5a8c6"
      },
      "source": [
        "\"my name is sahil sharma\".title()"
      ],
      "execution_count": 92,
      "outputs": [
        {
          "output_type": "execute_result",
          "data": {
            "application/vnd.google.colaboratory.intrinsic+json": {
              "type": "string"
            },
            "text/plain": [
              "'My Name Is Sahil Sharma'"
            ]
          },
          "metadata": {
            "tags": []
          },
          "execution_count": 92
        }
      ]
    },
    {
      "cell_type": "code",
      "metadata": {
        "colab": {
          "base_uri": "https://localhost:8080/",
          "height": 35
        },
        "id": "GLrH3Ihe_p4c",
        "outputId": "74b45092-016c-4eee-b957-fe7e65d60555"
      },
      "source": [
        "\"my name is sahil sharma\".capitalize()"
      ],
      "execution_count": 93,
      "outputs": [
        {
          "output_type": "execute_result",
          "data": {
            "application/vnd.google.colaboratory.intrinsic+json": {
              "type": "string"
            },
            "text/plain": [
              "'My name is sahil sharma'"
            ]
          },
          "metadata": {
            "tags": []
          },
          "execution_count": 93
        }
      ]
    },
    {
      "cell_type": "code",
      "metadata": {
        "colab": {
          "base_uri": "https://localhost:8080/",
          "height": 35
        },
        "id": "fRGvoiXw_s62",
        "outputId": "2d041bbb-24db-474d-f756-0a3320f27ca0"
      },
      "source": [
        "'sahil sharma'.title()"
      ],
      "execution_count": 94,
      "outputs": [
        {
          "output_type": "execute_result",
          "data": {
            "application/vnd.google.colaboratory.intrinsic+json": {
              "type": "string"
            },
            "text/plain": [
              "'Sahil Sharma'"
            ]
          },
          "metadata": {
            "tags": []
          },
          "execution_count": 94
        }
      ]
    },
    {
      "cell_type": "code",
      "metadata": {
        "id": "LJpyv6fQ_yYf"
      },
      "source": [
        "profession = \"          teacher            \""
      ],
      "execution_count": 95,
      "outputs": []
    },
    {
      "cell_type": "code",
      "metadata": {
        "colab": {
          "base_uri": "https://localhost:8080/",
          "height": 35
        },
        "id": "kJquJvnb_3Ml",
        "outputId": "a9be7ab4-f394-425e-e433-43e92ed90500"
      },
      "source": [
        "profession.lstrip()"
      ],
      "execution_count": 96,
      "outputs": [
        {
          "output_type": "execute_result",
          "data": {
            "application/vnd.google.colaboratory.intrinsic+json": {
              "type": "string"
            },
            "text/plain": [
              "'teacher            '"
            ]
          },
          "metadata": {
            "tags": []
          },
          "execution_count": 96
        }
      ]
    },
    {
      "cell_type": "code",
      "metadata": {
        "colab": {
          "base_uri": "https://localhost:8080/",
          "height": 35
        },
        "id": "OFvH5kNs_5y_",
        "outputId": "696f7bf0-3924-4584-af26-63566496014d"
      },
      "source": [
        "profession.rstrip()"
      ],
      "execution_count": 97,
      "outputs": [
        {
          "output_type": "execute_result",
          "data": {
            "application/vnd.google.colaboratory.intrinsic+json": {
              "type": "string"
            },
            "text/plain": [
              "'          teacher'"
            ]
          },
          "metadata": {
            "tags": []
          },
          "execution_count": 97
        }
      ]
    },
    {
      "cell_type": "code",
      "metadata": {
        "colab": {
          "base_uri": "https://localhost:8080/",
          "height": 35
        },
        "id": "kPTwALB0_9Je",
        "outputId": "c05093b9-ff56-4c82-9e4e-d24df092a354"
      },
      "source": [
        "profession.strip()"
      ],
      "execution_count": 98,
      "outputs": [
        {
          "output_type": "execute_result",
          "data": {
            "application/vnd.google.colaboratory.intrinsic+json": {
              "type": "string"
            },
            "text/plain": [
              "'teacher'"
            ]
          },
          "metadata": {
            "tags": []
          },
          "execution_count": 98
        }
      ]
    },
    {
      "cell_type": "code",
      "metadata": {
        "colab": {
          "base_uri": "https://localhost:8080/",
          "height": 35
        },
        "id": "k0l9XwG5AAyc",
        "outputId": "dc308d2e-7950-4eda-9ca2-c7a5f2e5a7ed"
      },
      "source": [
        "profession.replace('e', '*')"
      ],
      "execution_count": 99,
      "outputs": [
        {
          "output_type": "execute_result",
          "data": {
            "application/vnd.google.colaboratory.intrinsic+json": {
              "type": "string"
            },
            "text/plain": [
              "'          t*ach*r            '"
            ]
          },
          "metadata": {
            "tags": []
          },
          "execution_count": 99
        }
      ]
    },
    {
      "cell_type": "code",
      "metadata": {
        "colab": {
          "base_uri": "https://localhost:8080/",
          "height": 35
        },
        "id": "FOn1FGltAPbt",
        "outputId": "0d1bc6b9-d60e-40a2-fe73-ba3220885de8"
      },
      "source": [
        "#Method Chaining\n",
        "profession.replace('e', '*').strip()"
      ],
      "execution_count": 100,
      "outputs": [
        {
          "output_type": "execute_result",
          "data": {
            "application/vnd.google.colaboratory.intrinsic+json": {
              "type": "string"
            },
            "text/plain": [
              "'t*ach*r'"
            ]
          },
          "metadata": {
            "tags": []
          },
          "execution_count": 100
        }
      ]
    },
    {
      "cell_type": "code",
      "metadata": {
        "id": "bbLrqhuWAigq"
      },
      "source": [
        "city = 'chandigarh'"
      ],
      "execution_count": 101,
      "outputs": []
    },
    {
      "cell_type": "code",
      "metadata": {
        "colab": {
          "base_uri": "https://localhost:8080/"
        },
        "id": "HCXFKeQBAqxD",
        "outputId": "7f056a39-7ec9-4176-b6f9-89be387f995b"
      },
      "source": [
        "city.startswith('ch')"
      ],
      "execution_count": 102,
      "outputs": [
        {
          "output_type": "execute_result",
          "data": {
            "text/plain": [
              "True"
            ]
          },
          "metadata": {
            "tags": []
          },
          "execution_count": 102
        }
      ]
    },
    {
      "cell_type": "code",
      "metadata": {
        "colab": {
          "base_uri": "https://localhost:8080/"
        },
        "id": "I2UvjnlaAt1I",
        "outputId": "f2792206-2133-45ac-f9d2-013e7d263467"
      },
      "source": [
        "city.startswith('sdgad')"
      ],
      "execution_count": 103,
      "outputs": [
        {
          "output_type": "execute_result",
          "data": {
            "text/plain": [
              "False"
            ]
          },
          "metadata": {
            "tags": []
          },
          "execution_count": 103
        }
      ]
    },
    {
      "cell_type": "code",
      "metadata": {
        "colab": {
          "base_uri": "https://localhost:8080/"
        },
        "id": "ztFfsu2JAxTi",
        "outputId": "c75fea99-4705-4db9-96b2-3e64dc207ba3"
      },
      "source": [
        "  city.startswith('Ch')"
      ],
      "execution_count": 104,
      "outputs": [
        {
          "output_type": "execute_result",
          "data": {
            "text/plain": [
              "False"
            ]
          },
          "metadata": {
            "tags": []
          },
          "execution_count": 104
        }
      ]
    },
    {
      "cell_type": "code",
      "metadata": {
        "colab": {
          "base_uri": "https://localhost:8080/"
        },
        "id": "isDAAusDA147",
        "outputId": "8a140a9d-1130-4254-e993-5b8313185ec0"
      },
      "source": [
        "city.endswith('garh')"
      ],
      "execution_count": 105,
      "outputs": [
        {
          "output_type": "execute_result",
          "data": {
            "text/plain": [
              "True"
            ]
          },
          "metadata": {
            "tags": []
          },
          "execution_count": 105
        }
      ]
    },
    {
      "cell_type": "code",
      "metadata": {
        "colab": {
          "base_uri": "https://localhost:8080/"
        },
        "id": "fT0sNQlhA7ZU",
        "outputId": "199431c6-515f-43ea-b4fd-a230ee7737e1"
      },
      "source": [
        "city.endswith('sdfa')"
      ],
      "execution_count": 106,
      "outputs": [
        {
          "output_type": "execute_result",
          "data": {
            "text/plain": [
              "False"
            ]
          },
          "metadata": {
            "tags": []
          },
          "execution_count": 106
        }
      ]
    },
    {
      "cell_type": "code",
      "metadata": {
        "colab": {
          "base_uri": "https://localhost:8080/"
        },
        "id": "8pA7LBJaA_W5",
        "outputId": "d1e70820-8acc-4a6c-ff15-0f1bd1defad9"
      },
      "source": [
        "\"and\" in city"
      ],
      "execution_count": 107,
      "outputs": [
        {
          "output_type": "execute_result",
          "data": {
            "text/plain": [
              "True"
            ]
          },
          "metadata": {
            "tags": []
          },
          "execution_count": 107
        }
      ]
    },
    {
      "cell_type": "code",
      "metadata": {
        "colab": {
          "base_uri": "https://localhost:8080/"
        },
        "id": "O_JzBF0rBNNl",
        "outputId": "5000f42b-90e3-473c-9ac3-7b953292fc84"
      },
      "source": [
        "\"dd\" in city"
      ],
      "execution_count": 108,
      "outputs": [
        {
          "output_type": "execute_result",
          "data": {
            "text/plain": [
              "False"
            ]
          },
          "metadata": {
            "tags": []
          },
          "execution_count": 108
        }
      ]
    },
    {
      "cell_type": "code",
      "metadata": {
        "colab": {
          "base_uri": "https://localhost:8080/"
        },
        "id": "ZUx0RT6zBQXT",
        "outputId": "3cdadfc7-4452-46f4-f06b-a60a785d60d5"
      },
      "source": [
        "\"z\" not in city"
      ],
      "execution_count": 109,
      "outputs": [
        {
          "output_type": "execute_result",
          "data": {
            "text/plain": [
              "True"
            ]
          },
          "metadata": {
            "tags": []
          },
          "execution_count": 109
        }
      ]
    },
    {
      "cell_type": "code",
      "metadata": {
        "colab": {
          "base_uri": "https://localhost:8080/"
        },
        "id": "YXItzR2eBU1x",
        "outputId": "1988b36b-0238-4e60-a609-748026f86a99"
      },
      "source": [
        "\"ch\" not in city"
      ],
      "execution_count": 110,
      "outputs": [
        {
          "output_type": "execute_result",
          "data": {
            "text/plain": [
              "False"
            ]
          },
          "metadata": {
            "tags": []
          },
          "execution_count": 110
        }
      ]
    },
    {
      "cell_type": "markdown",
      "metadata": {
        "id": "3wVJbvV5diyR"
      },
      "source": [
        "###if, elif, and else"
      ]
    },
    {
      "cell_type": "code",
      "metadata": {
        "colab": {
          "base_uri": "https://localhost:8080/"
        },
        "id": "Be6ATCpDls-5",
        "outputId": "aa49923f-2d62-4cab-f76d-fff147c5ad95"
      },
      "source": [
        "if 1 == 1:\n",
        "  print('Yes')"
      ],
      "execution_count": 111,
      "outputs": [
        {
          "output_type": "stream",
          "text": [
            "Yes\n"
          ],
          "name": "stdout"
        }
      ]
    },
    {
      "cell_type": "code",
      "metadata": {
        "colab": {
          "base_uri": "https://localhost:8080/"
        },
        "id": "eT631ixQmh0g",
        "outputId": "1a0356b9-2d3e-4734-8ccd-0e602ec118d4"
      },
      "source": [
        "if 1 == 2:\n",
        "  print('1 is equal to 2')\n",
        "elif 2 == 3:\n",
        "  print('2 is equal to 3')\n",
        "else:\n",
        "  print('both conditions are false')"
      ],
      "execution_count": 112,
      "outputs": [
        {
          "output_type": "stream",
          "text": [
            "both conditions are false\n"
          ],
          "name": "stdout"
        }
      ]
    },
    {
      "cell_type": "markdown",
      "metadata": {
        "id": "c7_ChPR6m43O"
      },
      "source": [
        "###Loops\n",
        "for and while"
      ]
    },
    {
      "cell_type": "code",
      "metadata": {
        "id": "MrWxrQONm0TK"
      },
      "source": [
        "seq = [1,2,3,4,5]"
      ],
      "execution_count": 113,
      "outputs": []
    },
    {
      "cell_type": "code",
      "metadata": {
        "colab": {
          "base_uri": "https://localhost:8080/"
        },
        "id": "xHvbbPwdUCj3",
        "outputId": "7326482f-9c3e-43c1-a66c-14f83555b588"
      },
      "source": [
        "for i in seq:\n",
        "  print(i+i)"
      ],
      "execution_count": 114,
      "outputs": [
        {
          "output_type": "stream",
          "text": [
            "2\n",
            "4\n",
            "6\n",
            "8\n",
            "10\n"
          ],
          "name": "stdout"
        }
      ]
    },
    {
      "cell_type": "code",
      "metadata": {
        "colab": {
          "base_uri": "https://localhost:8080/"
        },
        "id": "gTC3dFdOUGfr",
        "outputId": "42459205-bc23-415c-dfe2-8c88e38f9d59"
      },
      "source": [
        "i = 1\n",
        "while i < 5:\n",
        "  print('i is '+str(i))\n",
        "  i = i + 1"
      ],
      "execution_count": 115,
      "outputs": [
        {
          "output_type": "stream",
          "text": [
            "i is 1\n",
            "i is 2\n",
            "i is 3\n",
            "i is 4\n"
          ],
          "name": "stdout"
        }
      ]
    },
    {
      "cell_type": "code",
      "metadata": {
        "colab": {
          "base_uri": "https://localhost:8080/"
        },
        "id": "TrhRXKFrUcBx",
        "outputId": "5d49bcde-1128-47c2-e67c-5d5f122f74fa"
      },
      "source": [
        "x = [0, 1, 2, 3, 4]\n",
        "x"
      ],
      "execution_count": 116,
      "outputs": [
        {
          "output_type": "execute_result",
          "data": {
            "text/plain": [
              "[0, 1, 2, 3, 4]"
            ]
          },
          "metadata": {
            "tags": []
          },
          "execution_count": 116
        }
      ]
    },
    {
      "cell_type": "code",
      "metadata": {
        "colab": {
          "base_uri": "https://localhost:8080/"
        },
        "id": "aBZwxCudUlnK",
        "outputId": "e6ff47b2-d564-4878-b60b-06363d43ddd8"
      },
      "source": [
        "list(range(5))"
      ],
      "execution_count": 117,
      "outputs": [
        {
          "output_type": "execute_result",
          "data": {
            "text/plain": [
              "[0, 1, 2, 3, 4]"
            ]
          },
          "metadata": {
            "tags": []
          },
          "execution_count": 117
        }
      ]
    },
    {
      "cell_type": "code",
      "metadata": {
        "colab": {
          "base_uri": "https://localhost:8080/"
        },
        "id": "prDZR5wVUr9S",
        "outputId": "3563de9e-0e0b-4aa0-a7e9-61c2d1bc2f1e"
      },
      "source": [
        "list(range(1,5))"
      ],
      "execution_count": 118,
      "outputs": [
        {
          "output_type": "execute_result",
          "data": {
            "text/plain": [
              "[1, 2, 3, 4]"
            ]
          },
          "metadata": {
            "tags": []
          },
          "execution_count": 118
        }
      ]
    },
    {
      "cell_type": "code",
      "metadata": {
        "colab": {
          "base_uri": "https://localhost:8080/"
        },
        "id": "6_ZzP3gNU6YH",
        "outputId": "cd83816a-da69-412c-a7f2-3db09c92c291"
      },
      "source": [
        "for i in range(5):\n",
        "  print('hi')"
      ],
      "execution_count": 119,
      "outputs": [
        {
          "output_type": "stream",
          "text": [
            "hi\n",
            "hi\n",
            "hi\n",
            "hi\n",
            "hi\n"
          ],
          "name": "stdout"
        }
      ]
    },
    {
      "cell_type": "markdown",
      "metadata": {
        "id": "ugOup6N0VDVU"
      },
      "source": [
        "List comprehension"
      ]
    },
    {
      "cell_type": "code",
      "metadata": {
        "colab": {
          "base_uri": "https://localhost:8080/"
        },
        "id": "jKNu7pL5VBzP",
        "outputId": "fb650dd7-12db-4f7b-9686-60509af48ea5"
      },
      "source": [
        "x = list(range(1,6))\n",
        "x"
      ],
      "execution_count": 120,
      "outputs": [
        {
          "output_type": "execute_result",
          "data": {
            "text/plain": [
              "[1, 2, 3, 4, 5]"
            ]
          },
          "metadata": {
            "tags": []
          },
          "execution_count": 120
        }
      ]
    },
    {
      "cell_type": "code",
      "metadata": {
        "colab": {
          "base_uri": "https://localhost:8080/"
        },
        "id": "Om_NTTWCVLA8",
        "outputId": "59989aed-6702-4159-9283-4149590f5196"
      },
      "source": [
        "output = []\n",
        "for i in x:\n",
        "  output.append(i ** 2)\n",
        "print(output)"
      ],
      "execution_count": 121,
      "outputs": [
        {
          "output_type": "stream",
          "text": [
            "[1, 4, 9, 16, 25]\n"
          ],
          "name": "stdout"
        }
      ]
    },
    {
      "cell_type": "code",
      "metadata": {
        "colab": {
          "base_uri": "https://localhost:8080/"
        },
        "id": "rCjHch1IVXRp",
        "outputId": "b5c5728b-4cb4-4585-c13f-5d7a03991f8f"
      },
      "source": [
        "#List comprehension\n",
        "[i ** 2 for i in x]"
      ],
      "execution_count": 122,
      "outputs": [
        {
          "output_type": "execute_result",
          "data": {
            "text/plain": [
              "[1, 4, 9, 16, 25]"
            ]
          },
          "metadata": {
            "tags": []
          },
          "execution_count": 122
        }
      ]
    },
    {
      "cell_type": "markdown",
      "metadata": {
        "id": "oh2eCeoBV5Q_"
      },
      "source": [
        "## -End of Basics of Python-"
      ]
    }
  ]
}