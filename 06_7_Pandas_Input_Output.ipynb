{
  "nbformat": 4,
  "nbformat_minor": 0,
  "metadata": {
    "colab": {
      "name": "06_7_Pandas_Input_Output.ipynb",
      "provenance": [],
      "collapsed_sections": [],
      "authorship_tag": "ABX9TyNpanF3xEs0qPEwgSUb5gBK",
      "include_colab_link": true
    },
    "kernelspec": {
      "name": "python3",
      "display_name": "Python 3"
    },
    "language_info": {
      "name": "python"
    }
  },
  "cells": [
    {
      "cell_type": "markdown",
      "metadata": {
        "id": "view-in-github",
        "colab_type": "text"
      },
      "source": [
        "<a href=\"https://colab.research.google.com/github/sahil301290/Python-for-Data-Science/blob/main/06_7_Pandas_Input_Output.ipynb\" target=\"_parent\"><img src=\"https://colab.research.google.com/assets/colab-badge.svg\" alt=\"Open In Colab\"/></a>"
      ]
    },
    {
      "cell_type": "markdown",
      "metadata": {
        "id": "xzWkTB5AwDIE"
      },
      "source": [
        "##Agenda\n",
        "\n",
        "- CSV Files\n",
        "\n",
        "- HTML Tables\n",
        "\n",
        "- Excel Files\n",
        "\n",
        "- SQL Databases"
      ]
    },
    {
      "cell_type": "markdown",
      "metadata": {
        "id": "FBwiH8Tsw930"
      },
      "source": [
        "NOTE: \n",
        "\n",
        "The path of the dataset should be correctly given while using the file in Pandas. \n",
        "\n",
        "Also, make sure file is not password protected."
      ]
    },
    {
      "cell_type": "markdown",
      "metadata": {
        "id": "Cnmk82XExZ7_"
      },
      "source": [
        "https://pandas.pydata.org/pandas-docs/stable/user_guide/io.html"
      ]
    },
    {
      "cell_type": "code",
      "metadata": {
        "id": "dhSnnxwpGNIZ"
      },
      "source": [
        "import pandas as pd\n",
        "import numpy as np"
      ],
      "execution_count": 1,
      "outputs": []
    },
    {
      "cell_type": "markdown",
      "metadata": {
        "id": "ddY5al_SwPG1"
      },
      "source": [
        "###CSV Files - Input and Output"
      ]
    },
    {
      "cell_type": "code",
      "metadata": {
        "id": "ITbbr5U6v7Uw",
        "colab": {
          "base_uri": "https://localhost:8080/"
        },
        "outputId": "06e47e74-bd3d-41ba-8dc0-0997d6bf3b1e"
      },
      "source": [
        "!pwd"
      ],
      "execution_count": 2,
      "outputs": [
        {
          "output_type": "stream",
          "text": [
            "/content\n"
          ],
          "name": "stdout"
        }
      ]
    },
    {
      "cell_type": "code",
      "metadata": {
        "colab": {
          "base_uri": "https://localhost:8080/"
        },
        "id": "O4qVJ6ITEkZ2",
        "outputId": "e68eb664-1266-4cf8-8d16-76412236ff5c"
      },
      "source": [
        "!ls"
      ],
      "execution_count": 3,
      "outputs": [
        {
          "output_type": "stream",
          "text": [
            "output.csv  sample_data  sample.html  saveLab.xlsx  students.xlsx\n"
          ],
          "name": "stdout"
        }
      ]
    },
    {
      "cell_type": "code",
      "metadata": {
        "colab": {
          "base_uri": "https://localhost:8080/",
          "height": 34
        },
        "id": "I8i280OmFFBU",
        "outputId": "df871a8f-4fa9-4f5d-8eae-536cbd783934"
      },
      "source": [
        "import os\n",
        "os.getcwd()"
      ],
      "execution_count": 4,
      "outputs": [
        {
          "output_type": "execute_result",
          "data": {
            "application/vnd.google.colaboratory.intrinsic+json": {
              "type": "string"
            },
            "text/plain": [
              "'/content'"
            ]
          },
          "metadata": {
            "tags": []
          },
          "execution_count": 4
        }
      ]
    },
    {
      "cell_type": "code",
      "metadata": {
        "id": "vbnNwo26F36x"
      },
      "source": [
        "df = pd.read_csv('sample_data/california_housing_train.csv')\n",
        "#df = pd.read_csv('sample_data/california_housing_train.csv', header = None)"
      ],
      "execution_count": 5,
      "outputs": []
    },
    {
      "cell_type": "code",
      "metadata": {
        "colab": {
          "base_uri": "https://localhost:8080/",
          "height": 408
        },
        "id": "8NnUabm-GVwb",
        "outputId": "de7f12cb-f6b0-4a18-8a82-a2c859da17da"
      },
      "source": [
        "df"
      ],
      "execution_count": 6,
      "outputs": [
        {
          "output_type": "execute_result",
          "data": {
            "text/html": [
              "<div>\n",
              "<style scoped>\n",
              "    .dataframe tbody tr th:only-of-type {\n",
              "        vertical-align: middle;\n",
              "    }\n",
              "\n",
              "    .dataframe tbody tr th {\n",
              "        vertical-align: top;\n",
              "    }\n",
              "\n",
              "    .dataframe thead th {\n",
              "        text-align: right;\n",
              "    }\n",
              "</style>\n",
              "<table border=\"1\" class=\"dataframe\">\n",
              "  <thead>\n",
              "    <tr style=\"text-align: right;\">\n",
              "      <th></th>\n",
              "      <th>longitude</th>\n",
              "      <th>latitude</th>\n",
              "      <th>housing_median_age</th>\n",
              "      <th>total_rooms</th>\n",
              "      <th>total_bedrooms</th>\n",
              "      <th>population</th>\n",
              "      <th>households</th>\n",
              "      <th>median_income</th>\n",
              "      <th>median_house_value</th>\n",
              "    </tr>\n",
              "  </thead>\n",
              "  <tbody>\n",
              "    <tr>\n",
              "      <th>0</th>\n",
              "      <td>-114.31</td>\n",
              "      <td>34.19</td>\n",
              "      <td>15.0</td>\n",
              "      <td>5612.0</td>\n",
              "      <td>1283.0</td>\n",
              "      <td>1015.0</td>\n",
              "      <td>472.0</td>\n",
              "      <td>1.4936</td>\n",
              "      <td>66900.0</td>\n",
              "    </tr>\n",
              "    <tr>\n",
              "      <th>1</th>\n",
              "      <td>-114.47</td>\n",
              "      <td>34.40</td>\n",
              "      <td>19.0</td>\n",
              "      <td>7650.0</td>\n",
              "      <td>1901.0</td>\n",
              "      <td>1129.0</td>\n",
              "      <td>463.0</td>\n",
              "      <td>1.8200</td>\n",
              "      <td>80100.0</td>\n",
              "    </tr>\n",
              "    <tr>\n",
              "      <th>2</th>\n",
              "      <td>-114.56</td>\n",
              "      <td>33.69</td>\n",
              "      <td>17.0</td>\n",
              "      <td>720.0</td>\n",
              "      <td>174.0</td>\n",
              "      <td>333.0</td>\n",
              "      <td>117.0</td>\n",
              "      <td>1.6509</td>\n",
              "      <td>85700.0</td>\n",
              "    </tr>\n",
              "    <tr>\n",
              "      <th>3</th>\n",
              "      <td>-114.57</td>\n",
              "      <td>33.64</td>\n",
              "      <td>14.0</td>\n",
              "      <td>1501.0</td>\n",
              "      <td>337.0</td>\n",
              "      <td>515.0</td>\n",
              "      <td>226.0</td>\n",
              "      <td>3.1917</td>\n",
              "      <td>73400.0</td>\n",
              "    </tr>\n",
              "    <tr>\n",
              "      <th>4</th>\n",
              "      <td>-114.57</td>\n",
              "      <td>33.57</td>\n",
              "      <td>20.0</td>\n",
              "      <td>1454.0</td>\n",
              "      <td>326.0</td>\n",
              "      <td>624.0</td>\n",
              "      <td>262.0</td>\n",
              "      <td>1.9250</td>\n",
              "      <td>65500.0</td>\n",
              "    </tr>\n",
              "    <tr>\n",
              "      <th>...</th>\n",
              "      <td>...</td>\n",
              "      <td>...</td>\n",
              "      <td>...</td>\n",
              "      <td>...</td>\n",
              "      <td>...</td>\n",
              "      <td>...</td>\n",
              "      <td>...</td>\n",
              "      <td>...</td>\n",
              "      <td>...</td>\n",
              "    </tr>\n",
              "    <tr>\n",
              "      <th>16995</th>\n",
              "      <td>-124.26</td>\n",
              "      <td>40.58</td>\n",
              "      <td>52.0</td>\n",
              "      <td>2217.0</td>\n",
              "      <td>394.0</td>\n",
              "      <td>907.0</td>\n",
              "      <td>369.0</td>\n",
              "      <td>2.3571</td>\n",
              "      <td>111400.0</td>\n",
              "    </tr>\n",
              "    <tr>\n",
              "      <th>16996</th>\n",
              "      <td>-124.27</td>\n",
              "      <td>40.69</td>\n",
              "      <td>36.0</td>\n",
              "      <td>2349.0</td>\n",
              "      <td>528.0</td>\n",
              "      <td>1194.0</td>\n",
              "      <td>465.0</td>\n",
              "      <td>2.5179</td>\n",
              "      <td>79000.0</td>\n",
              "    </tr>\n",
              "    <tr>\n",
              "      <th>16997</th>\n",
              "      <td>-124.30</td>\n",
              "      <td>41.84</td>\n",
              "      <td>17.0</td>\n",
              "      <td>2677.0</td>\n",
              "      <td>531.0</td>\n",
              "      <td>1244.0</td>\n",
              "      <td>456.0</td>\n",
              "      <td>3.0313</td>\n",
              "      <td>103600.0</td>\n",
              "    </tr>\n",
              "    <tr>\n",
              "      <th>16998</th>\n",
              "      <td>-124.30</td>\n",
              "      <td>41.80</td>\n",
              "      <td>19.0</td>\n",
              "      <td>2672.0</td>\n",
              "      <td>552.0</td>\n",
              "      <td>1298.0</td>\n",
              "      <td>478.0</td>\n",
              "      <td>1.9797</td>\n",
              "      <td>85800.0</td>\n",
              "    </tr>\n",
              "    <tr>\n",
              "      <th>16999</th>\n",
              "      <td>-124.35</td>\n",
              "      <td>40.54</td>\n",
              "      <td>52.0</td>\n",
              "      <td>1820.0</td>\n",
              "      <td>300.0</td>\n",
              "      <td>806.0</td>\n",
              "      <td>270.0</td>\n",
              "      <td>3.0147</td>\n",
              "      <td>94600.0</td>\n",
              "    </tr>\n",
              "  </tbody>\n",
              "</table>\n",
              "<p>17000 rows × 9 columns</p>\n",
              "</div>"
            ],
            "text/plain": [
              "       longitude  latitude  ...  median_income  median_house_value\n",
              "0        -114.31     34.19  ...         1.4936             66900.0\n",
              "1        -114.47     34.40  ...         1.8200             80100.0\n",
              "2        -114.56     33.69  ...         1.6509             85700.0\n",
              "3        -114.57     33.64  ...         3.1917             73400.0\n",
              "4        -114.57     33.57  ...         1.9250             65500.0\n",
              "...          ...       ...  ...            ...                 ...\n",
              "16995    -124.26     40.58  ...         2.3571            111400.0\n",
              "16996    -124.27     40.69  ...         2.5179             79000.0\n",
              "16997    -124.30     41.84  ...         3.0313            103600.0\n",
              "16998    -124.30     41.80  ...         1.9797             85800.0\n",
              "16999    -124.35     40.54  ...         3.0147             94600.0\n",
              "\n",
              "[17000 rows x 9 columns]"
            ]
          },
          "metadata": {
            "tags": []
          },
          "execution_count": 6
        }
      ]
    },
    {
      "cell_type": "code",
      "metadata": {
        "id": "oJF1mmbQHGQM"
      },
      "source": [
        "df = pd.read_csv('sample_data/california_housing_train.csv', index_col=0)"
      ],
      "execution_count": 7,
      "outputs": []
    },
    {
      "cell_type": "code",
      "metadata": {
        "colab": {
          "base_uri": "https://localhost:8080/",
          "height": 408
        },
        "id": "e4DzusY3HK8j",
        "outputId": "fe1d833e-b2ae-4b7b-de33-a23f47ea1475"
      },
      "source": [
        "df = df.reset_index()\n",
        "df"
      ],
      "execution_count": 8,
      "outputs": [
        {
          "output_type": "execute_result",
          "data": {
            "text/html": [
              "<div>\n",
              "<style scoped>\n",
              "    .dataframe tbody tr th:only-of-type {\n",
              "        vertical-align: middle;\n",
              "    }\n",
              "\n",
              "    .dataframe tbody tr th {\n",
              "        vertical-align: top;\n",
              "    }\n",
              "\n",
              "    .dataframe thead th {\n",
              "        text-align: right;\n",
              "    }\n",
              "</style>\n",
              "<table border=\"1\" class=\"dataframe\">\n",
              "  <thead>\n",
              "    <tr style=\"text-align: right;\">\n",
              "      <th></th>\n",
              "      <th>longitude</th>\n",
              "      <th>latitude</th>\n",
              "      <th>housing_median_age</th>\n",
              "      <th>total_rooms</th>\n",
              "      <th>total_bedrooms</th>\n",
              "      <th>population</th>\n",
              "      <th>households</th>\n",
              "      <th>median_income</th>\n",
              "      <th>median_house_value</th>\n",
              "    </tr>\n",
              "  </thead>\n",
              "  <tbody>\n",
              "    <tr>\n",
              "      <th>0</th>\n",
              "      <td>-114.31</td>\n",
              "      <td>34.19</td>\n",
              "      <td>15.0</td>\n",
              "      <td>5612.0</td>\n",
              "      <td>1283.0</td>\n",
              "      <td>1015.0</td>\n",
              "      <td>472.0</td>\n",
              "      <td>1.4936</td>\n",
              "      <td>66900.0</td>\n",
              "    </tr>\n",
              "    <tr>\n",
              "      <th>1</th>\n",
              "      <td>-114.47</td>\n",
              "      <td>34.40</td>\n",
              "      <td>19.0</td>\n",
              "      <td>7650.0</td>\n",
              "      <td>1901.0</td>\n",
              "      <td>1129.0</td>\n",
              "      <td>463.0</td>\n",
              "      <td>1.8200</td>\n",
              "      <td>80100.0</td>\n",
              "    </tr>\n",
              "    <tr>\n",
              "      <th>2</th>\n",
              "      <td>-114.56</td>\n",
              "      <td>33.69</td>\n",
              "      <td>17.0</td>\n",
              "      <td>720.0</td>\n",
              "      <td>174.0</td>\n",
              "      <td>333.0</td>\n",
              "      <td>117.0</td>\n",
              "      <td>1.6509</td>\n",
              "      <td>85700.0</td>\n",
              "    </tr>\n",
              "    <tr>\n",
              "      <th>3</th>\n",
              "      <td>-114.57</td>\n",
              "      <td>33.64</td>\n",
              "      <td>14.0</td>\n",
              "      <td>1501.0</td>\n",
              "      <td>337.0</td>\n",
              "      <td>515.0</td>\n",
              "      <td>226.0</td>\n",
              "      <td>3.1917</td>\n",
              "      <td>73400.0</td>\n",
              "    </tr>\n",
              "    <tr>\n",
              "      <th>4</th>\n",
              "      <td>-114.57</td>\n",
              "      <td>33.57</td>\n",
              "      <td>20.0</td>\n",
              "      <td>1454.0</td>\n",
              "      <td>326.0</td>\n",
              "      <td>624.0</td>\n",
              "      <td>262.0</td>\n",
              "      <td>1.9250</td>\n",
              "      <td>65500.0</td>\n",
              "    </tr>\n",
              "    <tr>\n",
              "      <th>...</th>\n",
              "      <td>...</td>\n",
              "      <td>...</td>\n",
              "      <td>...</td>\n",
              "      <td>...</td>\n",
              "      <td>...</td>\n",
              "      <td>...</td>\n",
              "      <td>...</td>\n",
              "      <td>...</td>\n",
              "      <td>...</td>\n",
              "    </tr>\n",
              "    <tr>\n",
              "      <th>16995</th>\n",
              "      <td>-124.26</td>\n",
              "      <td>40.58</td>\n",
              "      <td>52.0</td>\n",
              "      <td>2217.0</td>\n",
              "      <td>394.0</td>\n",
              "      <td>907.0</td>\n",
              "      <td>369.0</td>\n",
              "      <td>2.3571</td>\n",
              "      <td>111400.0</td>\n",
              "    </tr>\n",
              "    <tr>\n",
              "      <th>16996</th>\n",
              "      <td>-124.27</td>\n",
              "      <td>40.69</td>\n",
              "      <td>36.0</td>\n",
              "      <td>2349.0</td>\n",
              "      <td>528.0</td>\n",
              "      <td>1194.0</td>\n",
              "      <td>465.0</td>\n",
              "      <td>2.5179</td>\n",
              "      <td>79000.0</td>\n",
              "    </tr>\n",
              "    <tr>\n",
              "      <th>16997</th>\n",
              "      <td>-124.30</td>\n",
              "      <td>41.84</td>\n",
              "      <td>17.0</td>\n",
              "      <td>2677.0</td>\n",
              "      <td>531.0</td>\n",
              "      <td>1244.0</td>\n",
              "      <td>456.0</td>\n",
              "      <td>3.0313</td>\n",
              "      <td>103600.0</td>\n",
              "    </tr>\n",
              "    <tr>\n",
              "      <th>16998</th>\n",
              "      <td>-124.30</td>\n",
              "      <td>41.80</td>\n",
              "      <td>19.0</td>\n",
              "      <td>2672.0</td>\n",
              "      <td>552.0</td>\n",
              "      <td>1298.0</td>\n",
              "      <td>478.0</td>\n",
              "      <td>1.9797</td>\n",
              "      <td>85800.0</td>\n",
              "    </tr>\n",
              "    <tr>\n",
              "      <th>16999</th>\n",
              "      <td>-124.35</td>\n",
              "      <td>40.54</td>\n",
              "      <td>52.0</td>\n",
              "      <td>1820.0</td>\n",
              "      <td>300.0</td>\n",
              "      <td>806.0</td>\n",
              "      <td>270.0</td>\n",
              "      <td>3.0147</td>\n",
              "      <td>94600.0</td>\n",
              "    </tr>\n",
              "  </tbody>\n",
              "</table>\n",
              "<p>17000 rows × 9 columns</p>\n",
              "</div>"
            ],
            "text/plain": [
              "       longitude  latitude  ...  median_income  median_house_value\n",
              "0        -114.31     34.19  ...         1.4936             66900.0\n",
              "1        -114.47     34.40  ...         1.8200             80100.0\n",
              "2        -114.56     33.69  ...         1.6509             85700.0\n",
              "3        -114.57     33.64  ...         3.1917             73400.0\n",
              "4        -114.57     33.57  ...         1.9250             65500.0\n",
              "...          ...       ...  ...            ...                 ...\n",
              "16995    -124.26     40.58  ...         2.3571            111400.0\n",
              "16996    -124.27     40.69  ...         2.5179             79000.0\n",
              "16997    -124.30     41.84  ...         3.0313            103600.0\n",
              "16998    -124.30     41.80  ...         1.9797             85800.0\n",
              "16999    -124.35     40.54  ...         3.0147             94600.0\n",
              "\n",
              "[17000 rows x 9 columns]"
            ]
          },
          "metadata": {
            "tags": []
          },
          "execution_count": 8
        }
      ]
    },
    {
      "cell_type": "code",
      "metadata": {
        "id": "QSWQid7QILMk"
      },
      "source": [
        "df.to_csv('output.csv', index = False)"
      ],
      "execution_count": 9,
      "outputs": []
    },
    {
      "cell_type": "code",
      "metadata": {
        "colab": {
          "base_uri": "https://localhost:8080/",
          "height": 408
        },
        "id": "7hzt7_tqa3WE",
        "outputId": "f4f2ca49-bd29-4244-c831-2a33d10b009f"
      },
      "source": [
        "new = pd.read_csv('output.csv')\n",
        "new"
      ],
      "execution_count": 10,
      "outputs": [
        {
          "output_type": "execute_result",
          "data": {
            "text/html": [
              "<div>\n",
              "<style scoped>\n",
              "    .dataframe tbody tr th:only-of-type {\n",
              "        vertical-align: middle;\n",
              "    }\n",
              "\n",
              "    .dataframe tbody tr th {\n",
              "        vertical-align: top;\n",
              "    }\n",
              "\n",
              "    .dataframe thead th {\n",
              "        text-align: right;\n",
              "    }\n",
              "</style>\n",
              "<table border=\"1\" class=\"dataframe\">\n",
              "  <thead>\n",
              "    <tr style=\"text-align: right;\">\n",
              "      <th></th>\n",
              "      <th>longitude</th>\n",
              "      <th>latitude</th>\n",
              "      <th>housing_median_age</th>\n",
              "      <th>total_rooms</th>\n",
              "      <th>total_bedrooms</th>\n",
              "      <th>population</th>\n",
              "      <th>households</th>\n",
              "      <th>median_income</th>\n",
              "      <th>median_house_value</th>\n",
              "    </tr>\n",
              "  </thead>\n",
              "  <tbody>\n",
              "    <tr>\n",
              "      <th>0</th>\n",
              "      <td>-114.31</td>\n",
              "      <td>34.19</td>\n",
              "      <td>15.0</td>\n",
              "      <td>5612.0</td>\n",
              "      <td>1283.0</td>\n",
              "      <td>1015.0</td>\n",
              "      <td>472.0</td>\n",
              "      <td>1.4936</td>\n",
              "      <td>66900.0</td>\n",
              "    </tr>\n",
              "    <tr>\n",
              "      <th>1</th>\n",
              "      <td>-114.47</td>\n",
              "      <td>34.40</td>\n",
              "      <td>19.0</td>\n",
              "      <td>7650.0</td>\n",
              "      <td>1901.0</td>\n",
              "      <td>1129.0</td>\n",
              "      <td>463.0</td>\n",
              "      <td>1.8200</td>\n",
              "      <td>80100.0</td>\n",
              "    </tr>\n",
              "    <tr>\n",
              "      <th>2</th>\n",
              "      <td>-114.56</td>\n",
              "      <td>33.69</td>\n",
              "      <td>17.0</td>\n",
              "      <td>720.0</td>\n",
              "      <td>174.0</td>\n",
              "      <td>333.0</td>\n",
              "      <td>117.0</td>\n",
              "      <td>1.6509</td>\n",
              "      <td>85700.0</td>\n",
              "    </tr>\n",
              "    <tr>\n",
              "      <th>3</th>\n",
              "      <td>-114.57</td>\n",
              "      <td>33.64</td>\n",
              "      <td>14.0</td>\n",
              "      <td>1501.0</td>\n",
              "      <td>337.0</td>\n",
              "      <td>515.0</td>\n",
              "      <td>226.0</td>\n",
              "      <td>3.1917</td>\n",
              "      <td>73400.0</td>\n",
              "    </tr>\n",
              "    <tr>\n",
              "      <th>4</th>\n",
              "      <td>-114.57</td>\n",
              "      <td>33.57</td>\n",
              "      <td>20.0</td>\n",
              "      <td>1454.0</td>\n",
              "      <td>326.0</td>\n",
              "      <td>624.0</td>\n",
              "      <td>262.0</td>\n",
              "      <td>1.9250</td>\n",
              "      <td>65500.0</td>\n",
              "    </tr>\n",
              "    <tr>\n",
              "      <th>...</th>\n",
              "      <td>...</td>\n",
              "      <td>...</td>\n",
              "      <td>...</td>\n",
              "      <td>...</td>\n",
              "      <td>...</td>\n",
              "      <td>...</td>\n",
              "      <td>...</td>\n",
              "      <td>...</td>\n",
              "      <td>...</td>\n",
              "    </tr>\n",
              "    <tr>\n",
              "      <th>16995</th>\n",
              "      <td>-124.26</td>\n",
              "      <td>40.58</td>\n",
              "      <td>52.0</td>\n",
              "      <td>2217.0</td>\n",
              "      <td>394.0</td>\n",
              "      <td>907.0</td>\n",
              "      <td>369.0</td>\n",
              "      <td>2.3571</td>\n",
              "      <td>111400.0</td>\n",
              "    </tr>\n",
              "    <tr>\n",
              "      <th>16996</th>\n",
              "      <td>-124.27</td>\n",
              "      <td>40.69</td>\n",
              "      <td>36.0</td>\n",
              "      <td>2349.0</td>\n",
              "      <td>528.0</td>\n",
              "      <td>1194.0</td>\n",
              "      <td>465.0</td>\n",
              "      <td>2.5179</td>\n",
              "      <td>79000.0</td>\n",
              "    </tr>\n",
              "    <tr>\n",
              "      <th>16997</th>\n",
              "      <td>-124.30</td>\n",
              "      <td>41.84</td>\n",
              "      <td>17.0</td>\n",
              "      <td>2677.0</td>\n",
              "      <td>531.0</td>\n",
              "      <td>1244.0</td>\n",
              "      <td>456.0</td>\n",
              "      <td>3.0313</td>\n",
              "      <td>103600.0</td>\n",
              "    </tr>\n",
              "    <tr>\n",
              "      <th>16998</th>\n",
              "      <td>-124.30</td>\n",
              "      <td>41.80</td>\n",
              "      <td>19.0</td>\n",
              "      <td>2672.0</td>\n",
              "      <td>552.0</td>\n",
              "      <td>1298.0</td>\n",
              "      <td>478.0</td>\n",
              "      <td>1.9797</td>\n",
              "      <td>85800.0</td>\n",
              "    </tr>\n",
              "    <tr>\n",
              "      <th>16999</th>\n",
              "      <td>-124.35</td>\n",
              "      <td>40.54</td>\n",
              "      <td>52.0</td>\n",
              "      <td>1820.0</td>\n",
              "      <td>300.0</td>\n",
              "      <td>806.0</td>\n",
              "      <td>270.0</td>\n",
              "      <td>3.0147</td>\n",
              "      <td>94600.0</td>\n",
              "    </tr>\n",
              "  </tbody>\n",
              "</table>\n",
              "<p>17000 rows × 9 columns</p>\n",
              "</div>"
            ],
            "text/plain": [
              "       longitude  latitude  ...  median_income  median_house_value\n",
              "0        -114.31     34.19  ...         1.4936             66900.0\n",
              "1        -114.47     34.40  ...         1.8200             80100.0\n",
              "2        -114.56     33.69  ...         1.6509             85700.0\n",
              "3        -114.57     33.64  ...         3.1917             73400.0\n",
              "4        -114.57     33.57  ...         1.9250             65500.0\n",
              "...          ...       ...  ...            ...                 ...\n",
              "16995    -124.26     40.58  ...         2.3571            111400.0\n",
              "16996    -124.27     40.69  ...         2.5179             79000.0\n",
              "16997    -124.30     41.84  ...         3.0313            103600.0\n",
              "16998    -124.30     41.80  ...         1.9797             85800.0\n",
              "16999    -124.35     40.54  ...         3.0147             94600.0\n",
              "\n",
              "[17000 rows x 9 columns]"
            ]
          },
          "metadata": {
            "tags": []
          },
          "execution_count": 10
        }
      ]
    },
    {
      "cell_type": "markdown",
      "metadata": {
        "id": "bolAESsrwbm-"
      },
      "source": [
        "###HTML Files - Input and Output"
      ]
    },
    {
      "cell_type": "markdown",
      "metadata": {
        "id": "lrEH25PsbPzL"
      },
      "source": [
        "Websites present the tables using HTML table tags \\<table>\n",
        "\n",
        "Pandas can convert these \\<table> into DataFrame\n"
      ]
    },
    {
      "cell_type": "markdown",
      "metadata": {
        "id": "OyfacBHDboW-"
      },
      "source": [
        "Web Scraping is not available on all websites. Using an API is more useful in that case."
      ]
    },
    {
      "cell_type": "markdown",
      "metadata": {
        "id": "344C8T-172cG"
      },
      "source": [
        "Working on India National Cricket Team Wikipedia Page:\n",
        "\n",
        "https://en.wikipedia.org/wiki/India_national_cricket_team"
      ]
    },
    {
      "cell_type": "code",
      "metadata": {
        "id": "aI1fd-Yr7L5O"
      },
      "source": [
        "url = 'https://en.wikipedia.org/wiki/India_national_cricket_team'"
      ],
      "execution_count": 11,
      "outputs": []
    },
    {
      "cell_type": "code",
      "metadata": {
        "colab": {
          "base_uri": "https://localhost:8080/"
        },
        "id": "cNfwhFXX8sJ9",
        "outputId": "90c46147-8200-45f5-ac50-1a5157fb9ed2"
      },
      "source": [
        "tables = pd.read_html(url)\n",
        "len(tables)"
      ],
      "execution_count": 12,
      "outputs": [
        {
          "output_type": "execute_result",
          "data": {
            "text/plain": [
              "70"
            ]
          },
          "metadata": {
            "tags": []
          },
          "execution_count": 12
        }
      ]
    },
    {
      "cell_type": "code",
      "metadata": {
        "colab": {
          "base_uri": "https://localhost:8080/",
          "height": 488
        },
        "id": "BmvdZIO19Uq3",
        "outputId": "0928ed1b-3154-4539-d77b-71657f0fbc4c"
      },
      "source": [
        "tables[11].head()"
      ],
      "execution_count": 13,
      "outputs": [
        {
          "output_type": "execute_result",
          "data": {
            "text/html": [
              "<div>\n",
              "<style scoped>\n",
              "    .dataframe tbody tr th:only-of-type {\n",
              "        vertical-align: middle;\n",
              "    }\n",
              "\n",
              "    .dataframe tbody tr th {\n",
              "        vertical-align: top;\n",
              "    }\n",
              "\n",
              "    .dataframe thead tr th {\n",
              "        text-align: left;\n",
              "    }\n",
              "</style>\n",
              "<table border=\"1\" class=\"dataframe\">\n",
              "  <thead>\n",
              "    <tr>\n",
              "      <th></th>\n",
              "      <th>Name</th>\n",
              "      <th>Age</th>\n",
              "      <th>Batting style</th>\n",
              "      <th>Bowling style</th>\n",
              "      <th>Domestic team</th>\n",
              "      <th>Zone</th>\n",
              "      <th>IPL Team</th>\n",
              "      <th>C/G</th>\n",
              "      <th>Format</th>\n",
              "      <th>S/N</th>\n",
              "    </tr>\n",
              "    <tr>\n",
              "      <th></th>\n",
              "      <th>Test, ODI &amp; T20I Captain and Top-order batsman</th>\n",
              "      <th>Test, ODI &amp; T20I Captain and Top-order batsman</th>\n",
              "      <th>Test, ODI &amp; T20I Captain and Top-order batsman</th>\n",
              "      <th>Test, ODI &amp; T20I Captain and Top-order batsman</th>\n",
              "      <th>Test, ODI &amp; T20I Captain and Top-order batsman</th>\n",
              "      <th>Test, ODI &amp; T20I Captain and Top-order batsman</th>\n",
              "      <th>Test, ODI &amp; T20I Captain and Top-order batsman</th>\n",
              "      <th>Test, ODI &amp; T20I Captain and Top-order batsman</th>\n",
              "      <th>Test, ODI &amp; T20I Captain and Top-order batsman</th>\n",
              "      <th>Test, ODI &amp; T20I Captain and Top-order batsman</th>\n",
              "    </tr>\n",
              "  </thead>\n",
              "  <tbody>\n",
              "    <tr>\n",
              "      <th>0</th>\n",
              "      <td>Virat Kohli</td>\n",
              "      <td>32</td>\n",
              "      <td>Right-handed</td>\n",
              "      <td>Right-arm medium</td>\n",
              "      <td>Delhi</td>\n",
              "      <td>North</td>\n",
              "      <td>Royal Challengers Bangalore</td>\n",
              "      <td>A+</td>\n",
              "      <td>Test, ODI, T20I</td>\n",
              "      <td>18</td>\n",
              "    </tr>\n",
              "    <tr>\n",
              "      <th>1</th>\n",
              "      <td>Test Vice Captain and Middle-order batsman</td>\n",
              "      <td>Test Vice Captain and Middle-order batsman</td>\n",
              "      <td>Test Vice Captain and Middle-order batsman</td>\n",
              "      <td>Test Vice Captain and Middle-order batsman</td>\n",
              "      <td>Test Vice Captain and Middle-order batsman</td>\n",
              "      <td>Test Vice Captain and Middle-order batsman</td>\n",
              "      <td>Test Vice Captain and Middle-order batsman</td>\n",
              "      <td>Test Vice Captain and Middle-order batsman</td>\n",
              "      <td>Test Vice Captain and Middle-order batsman</td>\n",
              "      <td>Test Vice Captain and Middle-order batsman</td>\n",
              "    </tr>\n",
              "    <tr>\n",
              "      <th>2</th>\n",
              "      <td>Ajinkya Rahane</td>\n",
              "      <td>33</td>\n",
              "      <td>Right-handed</td>\n",
              "      <td>Right-arm medium</td>\n",
              "      <td>Mumbai</td>\n",
              "      <td>West</td>\n",
              "      <td>Delhi Capitals</td>\n",
              "      <td>A</td>\n",
              "      <td>Test</td>\n",
              "      <td>3</td>\n",
              "    </tr>\n",
              "    <tr>\n",
              "      <th>3</th>\n",
              "      <td>ODI &amp; T20I Vice Captain and Opening batsman</td>\n",
              "      <td>ODI &amp; T20I Vice Captain and Opening batsman</td>\n",
              "      <td>ODI &amp; T20I Vice Captain and Opening batsman</td>\n",
              "      <td>ODI &amp; T20I Vice Captain and Opening batsman</td>\n",
              "      <td>ODI &amp; T20I Vice Captain and Opening batsman</td>\n",
              "      <td>ODI &amp; T20I Vice Captain and Opening batsman</td>\n",
              "      <td>ODI &amp; T20I Vice Captain and Opening batsman</td>\n",
              "      <td>ODI &amp; T20I Vice Captain and Opening batsman</td>\n",
              "      <td>ODI &amp; T20I Vice Captain and Opening batsman</td>\n",
              "      <td>ODI &amp; T20I Vice Captain and Opening batsman</td>\n",
              "    </tr>\n",
              "    <tr>\n",
              "      <th>4</th>\n",
              "      <td>Rohit Sharma</td>\n",
              "      <td>34</td>\n",
              "      <td>Right-handed</td>\n",
              "      <td>Right-arm off break</td>\n",
              "      <td>Mumbai</td>\n",
              "      <td>West</td>\n",
              "      <td>Mumbai Indians</td>\n",
              "      <td>A+</td>\n",
              "      <td>Test, ODI, T20I</td>\n",
              "      <td>45</td>\n",
              "    </tr>\n",
              "  </tbody>\n",
              "</table>\n",
              "</div>"
            ],
            "text/plain": [
              "                                            Name  ...                                            S/N\n",
              "  Test, ODI & T20I Captain and Top-order batsman  ... Test, ODI & T20I Captain and Top-order batsman\n",
              "0                                    Virat Kohli  ...                                             18\n",
              "1     Test Vice Captain and Middle-order batsman  ...     Test Vice Captain and Middle-order batsman\n",
              "2                                 Ajinkya Rahane  ...                                              3\n",
              "3    ODI & T20I Vice Captain and Opening batsman  ...    ODI & T20I Vice Captain and Opening batsman\n",
              "4                                   Rohit Sharma  ...                                             45\n",
              "\n",
              "[5 rows x 10 columns]"
            ]
          },
          "metadata": {
            "tags": []
          },
          "execution_count": 13
        }
      ]
    },
    {
      "cell_type": "code",
      "metadata": {
        "colab": {
          "base_uri": "https://localhost:8080/"
        },
        "id": "_YHNzZsl_VU2",
        "outputId": "793eef24-b390-4402-a8dc-60bec3d13c04"
      },
      "source": [
        "tables[11].columns"
      ],
      "execution_count": 14,
      "outputs": [
        {
          "output_type": "execute_result",
          "data": {
            "text/plain": [
              "MultiIndex([(         'Name', ...),\n",
              "            (          'Age', ...),\n",
              "            ('Batting style', ...),\n",
              "            ('Bowling style', ...),\n",
              "            ('Domestic team', ...),\n",
              "            (         'Zone', ...),\n",
              "            (     'IPL Team', ...),\n",
              "            (          'C/G', ...),\n",
              "            (       'Format', ...),\n",
              "            (          'S/N', ...)],\n",
              "           )"
            ]
          },
          "metadata": {
            "tags": []
          },
          "execution_count": 14
        }
      ]
    },
    {
      "cell_type": "code",
      "metadata": {
        "colab": {
          "base_uri": "https://localhost:8080/",
          "height": 349
        },
        "id": "ODDe1jxoBks2",
        "outputId": "922af556-e1c6-4fd8-b3f2-805ed63b2620"
      },
      "source": [
        "Table1 = tables[32]\n",
        "Table1"
      ],
      "execution_count": 15,
      "outputs": [
        {
          "output_type": "execute_result",
          "data": {
            "text/html": [
              "<div>\n",
              "<style scoped>\n",
              "    .dataframe tbody tr th:only-of-type {\n",
              "        vertical-align: middle;\n",
              "    }\n",
              "\n",
              "    .dataframe tbody tr th {\n",
              "        vertical-align: top;\n",
              "    }\n",
              "\n",
              "    .dataframe thead th {\n",
              "        text-align: right;\n",
              "    }\n",
              "</style>\n",
              "<table border=\"1\" class=\"dataframe\">\n",
              "  <thead>\n",
              "    <tr style=\"text-align: right;\">\n",
              "      <th></th>\n",
              "      <th>Player</th>\n",
              "      <th>Runs</th>\n",
              "      <th>Average</th>\n",
              "    </tr>\n",
              "  </thead>\n",
              "  <tbody>\n",
              "    <tr>\n",
              "      <th>0</th>\n",
              "      <td>Virat Kohli</td>\n",
              "      <td>3159</td>\n",
              "      <td>52.65</td>\n",
              "    </tr>\n",
              "    <tr>\n",
              "      <th>1</th>\n",
              "      <td>Rohit Sharma</td>\n",
              "      <td>2864</td>\n",
              "      <td>32.54</td>\n",
              "    </tr>\n",
              "    <tr>\n",
              "      <th>2</th>\n",
              "      <td>Shikhar Dhawan</td>\n",
              "      <td>1673</td>\n",
              "      <td>27.88</td>\n",
              "    </tr>\n",
              "    <tr>\n",
              "      <th>3</th>\n",
              "      <td>MS Dhoni</td>\n",
              "      <td>1617</td>\n",
              "      <td>37.60</td>\n",
              "    </tr>\n",
              "    <tr>\n",
              "      <th>4</th>\n",
              "      <td>Suresh Raina</td>\n",
              "      <td>1605</td>\n",
              "      <td>29.18</td>\n",
              "    </tr>\n",
              "    <tr>\n",
              "      <th>5</th>\n",
              "      <td>KL Rahul</td>\n",
              "      <td>1557</td>\n",
              "      <td>39.92</td>\n",
              "    </tr>\n",
              "    <tr>\n",
              "      <th>6</th>\n",
              "      <td>Yuvraj Singh</td>\n",
              "      <td>1177</td>\n",
              "      <td>28.02</td>\n",
              "    </tr>\n",
              "    <tr>\n",
              "      <th>7</th>\n",
              "      <td>Gautam Gambhir</td>\n",
              "      <td>932</td>\n",
              "      <td>27.41</td>\n",
              "    </tr>\n",
              "    <tr>\n",
              "      <th>8</th>\n",
              "      <td>Manish Pandey</td>\n",
              "      <td>709</td>\n",
              "      <td>44.31</td>\n",
              "    </tr>\n",
              "    <tr>\n",
              "      <th>9</th>\n",
              "      <td>Shreyas Iyer</td>\n",
              "      <td>550</td>\n",
              "      <td>28.94</td>\n",
              "    </tr>\n",
              "  </tbody>\n",
              "</table>\n",
              "</div>"
            ],
            "text/plain": [
              "           Player  Runs  Average\n",
              "0     Virat Kohli  3159    52.65\n",
              "1    Rohit Sharma  2864    32.54\n",
              "2  Shikhar Dhawan  1673    27.88\n",
              "3        MS Dhoni  1617    37.60\n",
              "4    Suresh Raina  1605    29.18\n",
              "5        KL Rahul  1557    39.92\n",
              "6    Yuvraj Singh  1177    28.02\n",
              "7  Gautam Gambhir   932    27.41\n",
              "8   Manish Pandey   709    44.31\n",
              "9    Shreyas Iyer   550    28.94"
            ]
          },
          "metadata": {
            "tags": []
          },
          "execution_count": 15
        }
      ]
    },
    {
      "cell_type": "code",
      "metadata": {
        "colab": {
          "base_uri": "https://localhost:8080/",
          "height": 258
        },
        "id": "XE7liiY8CbGk",
        "outputId": "2344df5e-8fc2-4231-d425-7c5bd7c604fa"
      },
      "source": [
        "Table2 = tables[33]\n",
        "Table2"
      ],
      "execution_count": 16,
      "outputs": [
        {
          "output_type": "execute_result",
          "data": {
            "text/html": [
              "<div>\n",
              "<style scoped>\n",
              "    .dataframe tbody tr th:only-of-type {\n",
              "        vertical-align: middle;\n",
              "    }\n",
              "\n",
              "    .dataframe tbody tr th {\n",
              "        vertical-align: top;\n",
              "    }\n",
              "\n",
              "    .dataframe thead th {\n",
              "        text-align: right;\n",
              "    }\n",
              "</style>\n",
              "<table border=\"1\" class=\"dataframe\">\n",
              "  <thead>\n",
              "    <tr style=\"text-align: right;\">\n",
              "      <th></th>\n",
              "      <th>Player</th>\n",
              "      <th>Wickets</th>\n",
              "      <th>Average</th>\n",
              "    </tr>\n",
              "  </thead>\n",
              "  <tbody>\n",
              "    <tr>\n",
              "      <th>0</th>\n",
              "      <td>Yuzvendra Chahal</td>\n",
              "      <td>62</td>\n",
              "      <td>25.40</td>\n",
              "    </tr>\n",
              "    <tr>\n",
              "      <th>1</th>\n",
              "      <td>Jasprit Bumrah</td>\n",
              "      <td>59</td>\n",
              "      <td>20.25</td>\n",
              "    </tr>\n",
              "    <tr>\n",
              "      <th>2</th>\n",
              "      <td>Ravichandran Ashwin</td>\n",
              "      <td>52</td>\n",
              "      <td>22.94</td>\n",
              "    </tr>\n",
              "    <tr>\n",
              "      <th>3</th>\n",
              "      <td>Bhuvneshwar Kumar</td>\n",
              "      <td>45</td>\n",
              "      <td>26.73</td>\n",
              "    </tr>\n",
              "    <tr>\n",
              "      <th>4</th>\n",
              "      <td>Hardik Pandya</td>\n",
              "      <td>41</td>\n",
              "      <td>26.68</td>\n",
              "    </tr>\n",
              "    <tr>\n",
              "      <th>5</th>\n",
              "      <td>Kuldeep Yadav</td>\n",
              "      <td>39</td>\n",
              "      <td>13.76</td>\n",
              "    </tr>\n",
              "    <tr>\n",
              "      <th>6</th>\n",
              "      <td>Ravindra Jadeja</td>\n",
              "      <td>39</td>\n",
              "      <td>29.53</td>\n",
              "    </tr>\n",
              "  </tbody>\n",
              "</table>\n",
              "</div>"
            ],
            "text/plain": [
              "                Player  Wickets  Average\n",
              "0     Yuzvendra Chahal       62    25.40\n",
              "1       Jasprit Bumrah       59    20.25\n",
              "2  Ravichandran Ashwin       52    22.94\n",
              "3    Bhuvneshwar Kumar       45    26.73\n",
              "4        Hardik Pandya       41    26.68\n",
              "5        Kuldeep Yadav       39    13.76\n",
              "6      Ravindra Jadeja       39    29.53"
            ]
          },
          "metadata": {
            "tags": []
          },
          "execution_count": 16
        }
      ]
    },
    {
      "cell_type": "code",
      "metadata": {
        "id": "C6ZQyupGq_WR"
      },
      "source": [
        "#Saving Table1 into HTML file\n",
        "Table1.to_html('sample.html', index = False)"
      ],
      "execution_count": 17,
      "outputs": []
    },
    {
      "cell_type": "markdown",
      "metadata": {
        "id": "WJgufX5Xwdsz"
      },
      "source": [
        "###Excel Files - Input and Output"
      ]
    },
    {
      "cell_type": "markdown",
      "metadata": {
        "id": "ms4VeEUIr4d_"
      },
      "source": [
        "Pandas can only read raw data.\n",
        "\n",
        "If there are visualizations, macros, or formulas in the excel file, they cannot be read as it is."
      ]
    },
    {
      "cell_type": "markdown",
      "metadata": {
        "id": "o_PJxdRAuFi7"
      },
      "source": [
        "Pandas treats an Excel Workbook as a dictionary, with the key being the Sheet Name and the value being the DataFrame."
      ]
    },
    {
      "cell_type": "code",
      "metadata": {
        "id": "iF88OmuoM2gl"
      },
      "source": [
        "#import xlrd as xls\n",
        "#import openpyxl as xlsx"
      ],
      "execution_count": 18,
      "outputs": []
    },
    {
      "cell_type": "code",
      "metadata": {
        "id": "-vQ35WDZutKR",
        "colab": {
          "base_uri": "https://localhost:8080/",
          "height": 228
        },
        "outputId": "d4a04d0f-8bc1-4383-a6d9-28e90e3f7835"
      },
      "source": [
        "df = pd.read_excel('students.xlsx')\n",
        "df"
      ],
      "execution_count": 19,
      "outputs": [
        {
          "output_type": "execute_result",
          "data": {
            "text/html": [
              "<div>\n",
              "<style scoped>\n",
              "    .dataframe tbody tr th:only-of-type {\n",
              "        vertical-align: middle;\n",
              "    }\n",
              "\n",
              "    .dataframe tbody tr th {\n",
              "        vertical-align: top;\n",
              "    }\n",
              "\n",
              "    .dataframe thead th {\n",
              "        text-align: right;\n",
              "    }\n",
              "</style>\n",
              "<table border=\"1\" class=\"dataframe\">\n",
              "  <thead>\n",
              "    <tr style=\"text-align: right;\">\n",
              "      <th></th>\n",
              "      <th>S. No.</th>\n",
              "      <th>Name</th>\n",
              "      <th>TheoryMarks(60)</th>\n",
              "    </tr>\n",
              "  </thead>\n",
              "  <tbody>\n",
              "    <tr>\n",
              "      <th>0</th>\n",
              "      <td>1</td>\n",
              "      <td>Q</td>\n",
              "      <td>45</td>\n",
              "    </tr>\n",
              "    <tr>\n",
              "      <th>1</th>\n",
              "      <td>2</td>\n",
              "      <td>W</td>\n",
              "      <td>46</td>\n",
              "    </tr>\n",
              "    <tr>\n",
              "      <th>2</th>\n",
              "      <td>3</td>\n",
              "      <td>E</td>\n",
              "      <td>47</td>\n",
              "    </tr>\n",
              "    <tr>\n",
              "      <th>3</th>\n",
              "      <td>4</td>\n",
              "      <td>R</td>\n",
              "      <td>48</td>\n",
              "    </tr>\n",
              "    <tr>\n",
              "      <th>4</th>\n",
              "      <td>5</td>\n",
              "      <td>T</td>\n",
              "      <td>49</td>\n",
              "    </tr>\n",
              "    <tr>\n",
              "      <th>5</th>\n",
              "      <td>6</td>\n",
              "      <td>Y</td>\n",
              "      <td>50</td>\n",
              "    </tr>\n",
              "  </tbody>\n",
              "</table>\n",
              "</div>"
            ],
            "text/plain": [
              "   S. No. Name  TheoryMarks(60)\n",
              "0       1    Q               45\n",
              "1       2    W               46\n",
              "2       3    E               47\n",
              "3       4    R               48\n",
              "4       5    T               49\n",
              "5       6    Y               50"
            ]
          },
          "metadata": {
            "tags": []
          },
          "execution_count": 19
        }
      ]
    },
    {
      "cell_type": "code",
      "metadata": {
        "id": "ErnnK7gLAwWk",
        "colab": {
          "base_uri": "https://localhost:8080/"
        },
        "outputId": "7148ed86-820f-4a05-ed15-8f863d03d2e8"
      },
      "source": [
        "wb = pd.ExcelFile('students.xlsx')\n",
        "wb.sheet_names"
      ],
      "execution_count": 20,
      "outputs": [
        {
          "output_type": "execute_result",
          "data": {
            "text/plain": [
              "['TheoryMarksSheet', 'LabMarksSheet']"
            ]
          },
          "metadata": {
            "tags": []
          },
          "execution_count": 20
        }
      ]
    },
    {
      "cell_type": "code",
      "metadata": {
        "id": "qaZKdmLkBKnL"
      },
      "source": [
        "excel_sheet_dict = pd.read_excel('students.xlsx', sheet_name = None)"
      ],
      "execution_count": 21,
      "outputs": []
    },
    {
      "cell_type": "code",
      "metadata": {
        "id": "CbCoRqLlBVz-",
        "colab": {
          "base_uri": "https://localhost:8080/"
        },
        "outputId": "c7e8872e-9e00-45cc-8d9a-e760bf2b642f"
      },
      "source": [
        "type(excel_sheet_dict)"
      ],
      "execution_count": 22,
      "outputs": [
        {
          "output_type": "execute_result",
          "data": {
            "text/plain": [
              "dict"
            ]
          },
          "metadata": {
            "tags": []
          },
          "execution_count": 22
        }
      ]
    },
    {
      "cell_type": "code",
      "metadata": {
        "id": "6OKg7tItBYWR",
        "colab": {
          "base_uri": "https://localhost:8080/"
        },
        "outputId": "8381552d-3ad1-4f9d-a630-4b8002f14ada"
      },
      "source": [
        "excel_sheet_dict.keys()"
      ],
      "execution_count": 23,
      "outputs": [
        {
          "output_type": "execute_result",
          "data": {
            "text/plain": [
              "dict_keys(['TheoryMarksSheet', 'LabMarksSheet'])"
            ]
          },
          "metadata": {
            "tags": []
          },
          "execution_count": 23
        }
      ]
    },
    {
      "cell_type": "code",
      "metadata": {
        "id": "9268xk35BoYT",
        "colab": {
          "base_uri": "https://localhost:8080/"
        },
        "outputId": "8f1533f1-aad5-4386-efb7-e639099a69e6"
      },
      "source": [
        "excel_sheet_dict"
      ],
      "execution_count": 24,
      "outputs": [
        {
          "output_type": "execute_result",
          "data": {
            "text/plain": [
              "{'LabMarksSheet':    S. No. Name  LabMarks (40)\n",
              " 0       1    Q             34\n",
              " 1       2    W             35\n",
              " 2       3    E             36\n",
              " 3       4    R             37\n",
              " 4       5    T             38\n",
              " 5       6    Y             39,\n",
              " 'TheoryMarksSheet':    S. No. Name  TheoryMarks(60)\n",
              " 0       1    Q               45\n",
              " 1       2    W               46\n",
              " 2       3    E               47\n",
              " 3       4    R               48\n",
              " 4       5    T               49\n",
              " 5       6    Y               50}"
            ]
          },
          "metadata": {
            "tags": []
          },
          "execution_count": 24
        }
      ]
    },
    {
      "cell_type": "code",
      "metadata": {
        "id": "-JZr6HHmB_Aa"
      },
      "source": [
        "df_Save = excel_sheet_dict['LabMarksSheet']"
      ],
      "execution_count": 25,
      "outputs": []
    },
    {
      "cell_type": "code",
      "metadata": {
        "id": "GWcL9s_3CbOb"
      },
      "source": [
        "df_Save.to_excel('saveLab.xlsx', index = False)"
      ],
      "execution_count": 26,
      "outputs": []
    },
    {
      "cell_type": "markdown",
      "metadata": {
        "id": "BwgBuToowfrv"
      },
      "source": [
        "###SQL Databases - Input and Output"
      ]
    },
    {
      "cell_type": "markdown",
      "metadata": {
        "id": "sy6FVGMSDpZv"
      },
      "source": [
        "Pandas can read and write to various SQL engines through the use of a driver and the sqlalchemy python library\n",
        "\n",
        "Various SQL engines being MySQL, PostgreSQL, Microsoft SQL Server etc.\n",
        "\n",
        "Steps:\n",
        "\n",
        "1. Python Driver Libraries needed for various SQL engines:\n",
        "- MySQL - pymysql\n",
        "- PostgreSQL - psycopg2\n",
        "- MS SQL Server - pyodbc\n",
        "\n",
        "2. Use the sqlalchemy library to connect to SQL database with the driver.\n",
        "\n",
        "  https://docs.sqlalchemy.org/en/14/dialects/index.html\n",
        "\n",
        "3. Use the sqlalchemy driver connection with pandas read_sql method."
      ]
    },
    {
      "cell_type": "markdown",
      "metadata": {
        "id": "ivGw-e2a57w5"
      },
      "source": [
        "Useful links:\n",
        "1. How-to: Run SQL data queries with pandas (Oracle SQL + Pandas)\n",
        "\n",
        "  https://www.oracle.com/news/connect/run-sql-data-queries-with-pandas.html#:~:text=How-to%3A%20Run%20SQL%20data%20queries%20with%20pandas%201,...%207%20Conclusion.%20...%208%20Dig%20deeper.%20\n",
        "\n",
        "2. Pandas DataFrames - Writing To And Reading From MySQL Table (MySQL + Pandas)\n",
        "\n",
        "  https://www.oracle.com/news/connect/run-sql-data-queries-with-pandas.html#:~:text=How-to%3A%20Run%20SQL%20data%20queries%20with%20pandas%201,...%207%20Conclusion.%20...%208%20Dig%20deeper.%20\n",
        "\n",
        "3. Use pandas to Visualize Google Sheets Data in Python (gsheets + Pandas)\n",
        "\n",
        "  https://www.cdata.com/kb/tech/gsheets-python-pandas.rst"
      ]
    },
    {
      "cell_type": "markdown",
      "metadata": {
        "id": "oYChWgci6zA1"
      },
      "source": [
        "SQLite comes with Python"
      ]
    },
    {
      "cell_type": "code",
      "metadata": {
        "colab": {
          "base_uri": "https://localhost:8080/"
        },
        "id": "bF9d2iMN4tlZ",
        "outputId": "4bb32ef5-7b9d-4428-a6db-d99c1433bd2d"
      },
      "source": [
        "!pip install sqlalchemy"
      ],
      "execution_count": 27,
      "outputs": [
        {
          "output_type": "stream",
          "text": [
            "Requirement already satisfied: sqlalchemy in /usr/local/lib/python3.7/dist-packages (1.4.18)\n",
            "Requirement already satisfied: greenlet!=0.4.17; python_version >= \"3\" in /usr/local/lib/python3.7/dist-packages (from sqlalchemy) (1.1.0)\n",
            "Requirement already satisfied: importlib-metadata; python_version < \"3.8\" in /usr/local/lib/python3.7/dist-packages (from sqlalchemy) (4.5.0)\n",
            "Requirement already satisfied: zipp>=0.5 in /usr/local/lib/python3.7/dist-packages (from importlib-metadata; python_version < \"3.8\"->sqlalchemy) (3.4.1)\n",
            "Requirement already satisfied: typing-extensions>=3.6.4; python_version < \"3.8\" in /usr/local/lib/python3.7/dist-packages (from importlib-metadata; python_version < \"3.8\"->sqlalchemy) (3.7.4.3)\n"
          ],
          "name": "stdout"
        }
      ]
    },
    {
      "cell_type": "code",
      "metadata": {
        "id": "m8zCvlX8DorM"
      },
      "source": [
        "from sqlalchemy import create_engine"
      ],
      "execution_count": 28,
      "outputs": []
    },
    {
      "cell_type": "code",
      "metadata": {
        "id": "M1Z0Wrpp9eVP"
      },
      "source": [
        "#Engine creation string code varies for different SQL Engines\n",
        "temp_db = create_engine('sqlite:///:memory:')"
      ],
      "execution_count": 29,
      "outputs": []
    },
    {
      "cell_type": "code",
      "metadata": {
        "colab": {
          "base_uri": "https://localhost:8080/",
          "height": 198
        },
        "id": "EwYXLWE79_wV",
        "outputId": "d2085b2d-ea2b-4063-ec3e-21eed2a94b38"
      },
      "source": [
        "df = pd.DataFrame(data = np.random.randint(low = 0, high = 100, size = (5,5)), columns = ['a', 'b', 'c', 'd', 'e'])\n",
        "df"
      ],
      "execution_count": 30,
      "outputs": [
        {
          "output_type": "execute_result",
          "data": {
            "text/html": [
              "<div>\n",
              "<style scoped>\n",
              "    .dataframe tbody tr th:only-of-type {\n",
              "        vertical-align: middle;\n",
              "    }\n",
              "\n",
              "    .dataframe tbody tr th {\n",
              "        vertical-align: top;\n",
              "    }\n",
              "\n",
              "    .dataframe thead th {\n",
              "        text-align: right;\n",
              "    }\n",
              "</style>\n",
              "<table border=\"1\" class=\"dataframe\">\n",
              "  <thead>\n",
              "    <tr style=\"text-align: right;\">\n",
              "      <th></th>\n",
              "      <th>a</th>\n",
              "      <th>b</th>\n",
              "      <th>c</th>\n",
              "      <th>d</th>\n",
              "      <th>e</th>\n",
              "    </tr>\n",
              "  </thead>\n",
              "  <tbody>\n",
              "    <tr>\n",
              "      <th>0</th>\n",
              "      <td>5</td>\n",
              "      <td>84</td>\n",
              "      <td>71</td>\n",
              "      <td>63</td>\n",
              "      <td>15</td>\n",
              "    </tr>\n",
              "    <tr>\n",
              "      <th>1</th>\n",
              "      <td>50</td>\n",
              "      <td>47</td>\n",
              "      <td>12</td>\n",
              "      <td>71</td>\n",
              "      <td>80</td>\n",
              "    </tr>\n",
              "    <tr>\n",
              "      <th>2</th>\n",
              "      <td>7</td>\n",
              "      <td>88</td>\n",
              "      <td>2</td>\n",
              "      <td>92</td>\n",
              "      <td>97</td>\n",
              "    </tr>\n",
              "    <tr>\n",
              "      <th>3</th>\n",
              "      <td>1</td>\n",
              "      <td>28</td>\n",
              "      <td>29</td>\n",
              "      <td>49</td>\n",
              "      <td>16</td>\n",
              "    </tr>\n",
              "    <tr>\n",
              "      <th>4</th>\n",
              "      <td>58</td>\n",
              "      <td>22</td>\n",
              "      <td>95</td>\n",
              "      <td>83</td>\n",
              "      <td>93</td>\n",
              "    </tr>\n",
              "  </tbody>\n",
              "</table>\n",
              "</div>"
            ],
            "text/plain": [
              "    a   b   c   d   e\n",
              "0   5  84  71  63  15\n",
              "1  50  47  12  71  80\n",
              "2   7  88   2  92  97\n",
              "3   1  28  29  49  16\n",
              "4  58  22  95  83  93"
            ]
          },
          "metadata": {
            "tags": []
          },
          "execution_count": 30
        }
      ]
    },
    {
      "cell_type": "code",
      "metadata": {
        "id": "eBMJ_99J_w4A"
      },
      "source": [
        "df.to_sql(name = 'new_table', con = temp_db) #index = False"
      ],
      "execution_count": 31,
      "outputs": []
    },
    {
      "cell_type": "code",
      "metadata": {
        "id": "vlqspO7KAGCT"
      },
      "source": [
        "#df.to_sql(name = 'new_table', con = temp_db)"
      ],
      "execution_count": 32,
      "outputs": []
    },
    {
      "cell_type": "code",
      "metadata": {
        "colab": {
          "base_uri": "https://localhost:8080/",
          "height": 198
        },
        "id": "Wq8H-ZBbAOS4",
        "outputId": "5d6cb0fa-b193-4e3e-bc16-7f654c7a73c3"
      },
      "source": [
        "new_df = pd.read_sql(sql = 'new_table', con = temp_db)\n",
        "new_df"
      ],
      "execution_count": 33,
      "outputs": [
        {
          "output_type": "execute_result",
          "data": {
            "text/html": [
              "<div>\n",
              "<style scoped>\n",
              "    .dataframe tbody tr th:only-of-type {\n",
              "        vertical-align: middle;\n",
              "    }\n",
              "\n",
              "    .dataframe tbody tr th {\n",
              "        vertical-align: top;\n",
              "    }\n",
              "\n",
              "    .dataframe thead th {\n",
              "        text-align: right;\n",
              "    }\n",
              "</style>\n",
              "<table border=\"1\" class=\"dataframe\">\n",
              "  <thead>\n",
              "    <tr style=\"text-align: right;\">\n",
              "      <th></th>\n",
              "      <th>index</th>\n",
              "      <th>a</th>\n",
              "      <th>b</th>\n",
              "      <th>c</th>\n",
              "      <th>d</th>\n",
              "      <th>e</th>\n",
              "    </tr>\n",
              "  </thead>\n",
              "  <tbody>\n",
              "    <tr>\n",
              "      <th>0</th>\n",
              "      <td>0</td>\n",
              "      <td>5</td>\n",
              "      <td>84</td>\n",
              "      <td>71</td>\n",
              "      <td>63</td>\n",
              "      <td>15</td>\n",
              "    </tr>\n",
              "    <tr>\n",
              "      <th>1</th>\n",
              "      <td>1</td>\n",
              "      <td>50</td>\n",
              "      <td>47</td>\n",
              "      <td>12</td>\n",
              "      <td>71</td>\n",
              "      <td>80</td>\n",
              "    </tr>\n",
              "    <tr>\n",
              "      <th>2</th>\n",
              "      <td>2</td>\n",
              "      <td>7</td>\n",
              "      <td>88</td>\n",
              "      <td>2</td>\n",
              "      <td>92</td>\n",
              "      <td>97</td>\n",
              "    </tr>\n",
              "    <tr>\n",
              "      <th>3</th>\n",
              "      <td>3</td>\n",
              "      <td>1</td>\n",
              "      <td>28</td>\n",
              "      <td>29</td>\n",
              "      <td>49</td>\n",
              "      <td>16</td>\n",
              "    </tr>\n",
              "    <tr>\n",
              "      <th>4</th>\n",
              "      <td>4</td>\n",
              "      <td>58</td>\n",
              "      <td>22</td>\n",
              "      <td>95</td>\n",
              "      <td>83</td>\n",
              "      <td>93</td>\n",
              "    </tr>\n",
              "  </tbody>\n",
              "</table>\n",
              "</div>"
            ],
            "text/plain": [
              "   index   a   b   c   d   e\n",
              "0      0   5  84  71  63  15\n",
              "1      1  50  47  12  71  80\n",
              "2      2   7  88   2  92  97\n",
              "3      3   1  28  29  49  16\n",
              "4      4  58  22  95  83  93"
            ]
          },
          "metadata": {
            "tags": []
          },
          "execution_count": 33
        }
      ]
    },
    {
      "cell_type": "markdown",
      "metadata": {
        "id": "kPhGXYLWA85v"
      },
      "source": [
        "Running a SQL query"
      ]
    },
    {
      "cell_type": "code",
      "metadata": {
        "colab": {
          "base_uri": "https://localhost:8080/",
          "height": 198
        },
        "id": "9B8n8aUjAi2j",
        "outputId": "2ab05ef8-d2c0-44d1-c7df-ec190d12924d"
      },
      "source": [
        "result = pd.read_sql_query(sql = 'SELECT a, d FROM new_table', con = temp_db)\n",
        "result"
      ],
      "execution_count": 34,
      "outputs": [
        {
          "output_type": "execute_result",
          "data": {
            "text/html": [
              "<div>\n",
              "<style scoped>\n",
              "    .dataframe tbody tr th:only-of-type {\n",
              "        vertical-align: middle;\n",
              "    }\n",
              "\n",
              "    .dataframe tbody tr th {\n",
              "        vertical-align: top;\n",
              "    }\n",
              "\n",
              "    .dataframe thead th {\n",
              "        text-align: right;\n",
              "    }\n",
              "</style>\n",
              "<table border=\"1\" class=\"dataframe\">\n",
              "  <thead>\n",
              "    <tr style=\"text-align: right;\">\n",
              "      <th></th>\n",
              "      <th>a</th>\n",
              "      <th>d</th>\n",
              "    </tr>\n",
              "  </thead>\n",
              "  <tbody>\n",
              "    <tr>\n",
              "      <th>0</th>\n",
              "      <td>5</td>\n",
              "      <td>63</td>\n",
              "    </tr>\n",
              "    <tr>\n",
              "      <th>1</th>\n",
              "      <td>50</td>\n",
              "      <td>71</td>\n",
              "    </tr>\n",
              "    <tr>\n",
              "      <th>2</th>\n",
              "      <td>7</td>\n",
              "      <td>92</td>\n",
              "    </tr>\n",
              "    <tr>\n",
              "      <th>3</th>\n",
              "      <td>1</td>\n",
              "      <td>49</td>\n",
              "    </tr>\n",
              "    <tr>\n",
              "      <th>4</th>\n",
              "      <td>58</td>\n",
              "      <td>83</td>\n",
              "    </tr>\n",
              "  </tbody>\n",
              "</table>\n",
              "</div>"
            ],
            "text/plain": [
              "    a   d\n",
              "0   5  63\n",
              "1  50  71\n",
              "2   7  92\n",
              "3   1  49\n",
              "4  58  83"
            ]
          },
          "metadata": {
            "tags": []
          },
          "execution_count": 34
        }
      ]
    },
    {
      "cell_type": "markdown",
      "metadata": {
        "id": "ENr8_dZrBulr"
      },
      "source": [
        "End of Code"
      ]
    }
  ]
}