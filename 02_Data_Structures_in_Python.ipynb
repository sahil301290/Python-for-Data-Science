{
  "nbformat": 4,
  "nbformat_minor": 0,
  "metadata": {
    "colab": {
      "name": "02_Data_Structures_in_Python.ipynb",
      "provenance": [],
      "authorship_tag": "ABX9TyOc7Pmr64284862GIROjZKw",
      "include_colab_link": true
    },
    "kernelspec": {
      "name": "python3",
      "display_name": "Python 3"
    },
    "language_info": {
      "name": "python"
    }
  },
  "cells": [
    {
      "cell_type": "markdown",
      "metadata": {
        "id": "view-in-github",
        "colab_type": "text"
      },
      "source": [
        "<a href=\"https://colab.research.google.com/github/sahil301290/Python-for-Data-Science/blob/main/02_Data_Structures_in_Python.ipynb\" target=\"_parent\"><img src=\"https://colab.research.google.com/assets/colab-badge.svg\" alt=\"Open In Colab\"/></a>"
      ]
    },
    {
      "cell_type": "markdown",
      "metadata": {
        "id": "JG8-3Of8c4fG"
      },
      "source": [
        "#Lists, Dictionaries, Tuples, and Sets"
      ]
    },
    {
      "cell_type": "markdown",
      "metadata": {
        "id": "18Nfwwj8VZgs"
      },
      "source": [
        "###Lists\n",
        "\n",
        "Lists are mutable data structures that hold an ordered collection of elements"
      ]
    },
    {
      "cell_type": "code",
      "metadata": {
        "id": "V5m10s4glCO9",
        "colab": {
          "base_uri": "https://localhost:8080/"
        },
        "outputId": "50b47f9d-5d37-4423-806a-bc4120e45092"
      },
      "source": [
        "[1, 2, 3, 4]      #Four objects in order"
      ],
      "execution_count": 1,
      "outputs": [
        {
          "output_type": "execute_result",
          "data": {
            "text/plain": [
              "[1, 2, 3, 4]"
            ]
          },
          "metadata": {
            "tags": []
          },
          "execution_count": 1
        }
      ]
    },
    {
      "cell_type": "code",
      "metadata": {
        "colab": {
          "base_uri": "https://localhost:8080/"
        },
        "id": "H11aFix4V_AE",
        "outputId": "0a4821e8-7587-4648-b978-05178f52d8cc"
      },
      "source": [
        "[True, True, False, False]"
      ],
      "execution_count": 2,
      "outputs": [
        {
          "output_type": "execute_result",
          "data": {
            "text/plain": [
              "[True, True, False, False]"
            ]
          },
          "metadata": {
            "tags": []
          },
          "execution_count": 2
        }
      ]
    },
    {
      "cell_type": "code",
      "metadata": {
        "colab": {
          "base_uri": "https://localhost:8080/"
        },
        "id": "TDUeB05qWGze",
        "outputId": "3e8cba3d-0a3a-489d-bbf2-7af172800ce1"
      },
      "source": [
        "students_list = ['a', 'b', 'c']\n",
        "students_list"
      ],
      "execution_count": 3,
      "outputs": [
        {
          "output_type": "execute_result",
          "data": {
            "text/plain": [
              "['a', 'b', 'c']"
            ]
          },
          "metadata": {
            "tags": []
          },
          "execution_count": 3
        }
      ]
    },
    {
      "cell_type": "code",
      "metadata": {
        "colab": {
          "base_uri": "https://localhost:8080/"
        },
        "id": "IYOngzPyWS9W",
        "outputId": "0feaf41a-71a6-45e0-a458-a48b52cb0738"
      },
      "source": [
        "len(students_list)"
      ],
      "execution_count": 4,
      "outputs": [
        {
          "output_type": "execute_result",
          "data": {
            "text/plain": [
              "3"
            ]
          },
          "metadata": {
            "tags": []
          },
          "execution_count": 4
        }
      ]
    },
    {
      "cell_type": "code",
      "metadata": {
        "colab": {
          "base_uri": "https://localhost:8080/"
        },
        "id": "URjdShZcWZMQ",
        "outputId": "d88959b5-889c-4504-850b-02cdcd4c43d2"
      },
      "source": [
        "[]"
      ],
      "execution_count": 5,
      "outputs": [
        {
          "output_type": "execute_result",
          "data": {
            "text/plain": [
              "[]"
            ]
          },
          "metadata": {
            "tags": []
          },
          "execution_count": 5
        }
      ]
    },
    {
      "cell_type": "code",
      "metadata": {
        "id": "6Mo50uGFWbX5"
      },
      "source": [
        "prime_ministers = ['Dr. Manmohan Singh', 'Pt. Jawahar Lal Nehru']"
      ],
      "execution_count": 6,
      "outputs": []
    },
    {
      "cell_type": "code",
      "metadata": {
        "id": "W6cTjZ6vcA7n"
      },
      "source": [
        "prime_ministers.append('Shri. Narendra Modi')"
      ],
      "execution_count": 7,
      "outputs": []
    },
    {
      "cell_type": "code",
      "metadata": {
        "colab": {
          "base_uri": "https://localhost:8080/"
        },
        "id": "FPCdRXWkcp2P",
        "outputId": "8dc776b2-1adf-4f16-e0b2-b0cd80203db1"
      },
      "source": [
        "prime_ministers   #list has been mutated because of append function"
      ],
      "execution_count": 8,
      "outputs": [
        {
          "output_type": "execute_result",
          "data": {
            "text/plain": [
              "['Dr. Manmohan Singh', 'Pt. Jawahar Lal Nehru', 'Shri. Narendra Modi']"
            ]
          },
          "metadata": {
            "tags": []
          },
          "execution_count": 8
        }
      ]
    },
    {
      "cell_type": "code",
      "metadata": {
        "colab": {
          "base_uri": "https://localhost:8080/",
          "height": 35
        },
        "id": "RcABO1_ecrCx",
        "outputId": "194f78c9-a73d-4741-b543-5bce8645a585"
      },
      "source": [
        "prime_ministers.pop()"
      ],
      "execution_count": 9,
      "outputs": [
        {
          "output_type": "execute_result",
          "data": {
            "application/vnd.google.colaboratory.intrinsic+json": {
              "type": "string"
            },
            "text/plain": [
              "'Shri. Narendra Modi'"
            ]
          },
          "metadata": {
            "tags": []
          },
          "execution_count": 9
        }
      ]
    },
    {
      "cell_type": "code",
      "metadata": {
        "colab": {
          "base_uri": "https://localhost:8080/"
        },
        "id": "IeBsMv60gVEt",
        "outputId": "340f9c4f-41ea-4a65-edab-9e7b654ec6e8"
      },
      "source": [
        "prime_ministers"
      ],
      "execution_count": 10,
      "outputs": [
        {
          "output_type": "execute_result",
          "data": {
            "text/plain": [
              "['Dr. Manmohan Singh', 'Pt. Jawahar Lal Nehru']"
            ]
          },
          "metadata": {
            "tags": []
          },
          "execution_count": 10
        }
      ]
    },
    {
      "cell_type": "code",
      "metadata": {
        "id": "BaZ8TjJjgV7h"
      },
      "source": [
        "prime_ministers.remove('Dr. Manmohan Singh')"
      ],
      "execution_count": 11,
      "outputs": []
    },
    {
      "cell_type": "code",
      "metadata": {
        "colab": {
          "base_uri": "https://localhost:8080/"
        },
        "id": "-WZkKJEMgtRA",
        "outputId": "60030852-f0f6-4fc2-e4cb-53dc2151b7b3"
      },
      "source": [
        "prime_ministers"
      ],
      "execution_count": 12,
      "outputs": [
        {
          "output_type": "execute_result",
          "data": {
            "text/plain": [
              "['Pt. Jawahar Lal Nehru']"
            ]
          },
          "metadata": {
            "tags": []
          },
          "execution_count": 12
        }
      ]
    },
    {
      "cell_type": "code",
      "metadata": {
        "colab": {
          "base_uri": "https://localhost:8080/"
        },
        "id": "pAPHpp6Xguop",
        "outputId": "1987ac58-ef0e-43ba-8b3c-49d7b03e497b"
      },
      "source": [
        "'foo' in 'foody'"
      ],
      "execution_count": 13,
      "outputs": [
        {
          "output_type": "execute_result",
          "data": {
            "text/plain": [
              "True"
            ]
          },
          "metadata": {
            "tags": []
          },
          "execution_count": 13
        }
      ]
    },
    {
      "cell_type": "code",
      "metadata": {
        "id": "vg4IQ2jfhHZ7"
      },
      "source": [
        "days = ['sunday','monday']"
      ],
      "execution_count": 14,
      "outputs": []
    },
    {
      "cell_type": "code",
      "metadata": {
        "colab": {
          "base_uri": "https://localhost:8080/"
        },
        "id": "kQW8UfMehPEw",
        "outputId": "da1d4647-8e2a-45ff-8ee5-ab7d50c276b3"
      },
      "source": [
        "'sunday' in days"
      ],
      "execution_count": 15,
      "outputs": [
        {
          "output_type": "execute_result",
          "data": {
            "text/plain": [
              "True"
            ]
          },
          "metadata": {
            "tags": []
          },
          "execution_count": 15
        }
      ]
    },
    {
      "cell_type": "code",
      "metadata": {
        "colab": {
          "base_uri": "https://localhost:8080/"
        },
        "id": "OUTa8iGchRfI",
        "outputId": "5fd12784-8682-4681-bf76-e4ec608e35ea"
      },
      "source": [
        "'Sunday' in days"
      ],
      "execution_count": 16,
      "outputs": [
        {
          "output_type": "execute_result",
          "data": {
            "text/plain": [
              "False"
            ]
          },
          "metadata": {
            "tags": []
          },
          "execution_count": 16
        }
      ]
    },
    {
      "cell_type": "code",
      "metadata": {
        "colab": {
          "base_uri": "https://localhost:8080/"
        },
        "id": "UT_cutD7hTxF",
        "outputId": "7f76b706-cb21-4d34-9e20-b29147ac1701"
      },
      "source": [
        "'saturday' not in days"
      ],
      "execution_count": 17,
      "outputs": [
        {
          "output_type": "execute_result",
          "data": {
            "text/plain": [
              "True"
            ]
          },
          "metadata": {
            "tags": []
          },
          "execution_count": 17
        }
      ]
    },
    {
      "cell_type": "code",
      "metadata": {
        "colab": {
          "base_uri": "https://localhost:8080/"
        },
        "id": "tcpZBKAchaZU",
        "outputId": "8413b43a-5031-4df5-e10a-cf7b98df5174"
      },
      "source": [
        "'sunday' not in days"
      ],
      "execution_count": 18,
      "outputs": [
        {
          "output_type": "execute_result",
          "data": {
            "text/plain": [
              "False"
            ]
          },
          "metadata": {
            "tags": []
          },
          "execution_count": 18
        }
      ]
    },
    {
      "cell_type": "markdown",
      "metadata": {
        "id": "LiefFfsmKSdZ"
      },
      "source": [
        "Mixed datatypes in List"
      ]
    },
    {
      "cell_type": "code",
      "metadata": {
        "colab": {
          "base_uri": "https://localhost:8080/"
        },
        "id": "n3u6ph7KKYvD",
        "outputId": "f5c8608d-9412-4389-ac18-c374777540d0"
      },
      "source": [
        "[10, 'sahil']"
      ],
      "execution_count": 19,
      "outputs": [
        {
          "output_type": "execute_result",
          "data": {
            "text/plain": [
              "[10, 'sahil']"
            ]
          },
          "metadata": {
            "tags": []
          },
          "execution_count": 19
        }
      ]
    },
    {
      "cell_type": "code",
      "metadata": {
        "colab": {
          "base_uri": "https://localhost:8080/"
        },
        "id": "706nz6OgKd81",
        "outputId": "aa0b2469-df9f-431c-cb45-7d8a84990d0b"
      },
      "source": [
        "# Ideally, \"list\" cannot be a variable name \n",
        "mylist = [10, 'sahil']\n",
        "mylist"
      ],
      "execution_count": 20,
      "outputs": [
        {
          "output_type": "execute_result",
          "data": {
            "text/plain": [
              "[10, 'sahil']"
            ]
          },
          "metadata": {
            "tags": []
          },
          "execution_count": 20
        }
      ]
    },
    {
      "cell_type": "code",
      "metadata": {
        "id": "gnYvgi_fK_DZ"
      },
      "source": [
        "mylist[0] = 20"
      ],
      "execution_count": 21,
      "outputs": []
    },
    {
      "cell_type": "code",
      "metadata": {
        "colab": {
          "base_uri": "https://localhost:8080/"
        },
        "id": "ZxK8EjsuLM7o",
        "outputId": "6e4f8cea-66af-4dec-9b4f-f9d18262d3a1"
      },
      "source": [
        "mylist"
      ],
      "execution_count": 22,
      "outputs": [
        {
          "output_type": "execute_result",
          "data": {
            "text/plain": [
              "[20, 'sahil']"
            ]
          },
          "metadata": {
            "tags": []
          },
          "execution_count": 22
        }
      ]
    },
    {
      "cell_type": "markdown",
      "metadata": {
        "id": "V0L-JBZca9BP"
      },
      "source": [
        "Nesting the list"
      ]
    },
    {
      "cell_type": "code",
      "metadata": {
        "id": "l868bfWUbAoI"
      },
      "source": [
        "nest_list = [10, 20, [30, 40]]"
      ],
      "execution_count": 23,
      "outputs": []
    },
    {
      "cell_type": "code",
      "metadata": {
        "colab": {
          "base_uri": "https://localhost:8080/"
        },
        "id": "4YLlWAIGbNkV",
        "outputId": "0fd317ed-14f6-4bb2-b192-7d72f9c03167"
      },
      "source": [
        "nest_list[2][1]"
      ],
      "execution_count": 24,
      "outputs": [
        {
          "output_type": "execute_result",
          "data": {
            "text/plain": [
              "40"
            ]
          },
          "metadata": {
            "tags": []
          },
          "execution_count": 24
        }
      ]
    },
    {
      "cell_type": "markdown",
      "metadata": {
        "id": "MNK-gUrihrB-"
      },
      "source": [
        "####Index positions and slicing\n",
        "\n",
        "Applies for both lists and strings"
      ]
    },
    {
      "cell_type": "code",
      "metadata": {
        "id": "iDp4qRzxhevG"
      },
      "source": [
        "ironman = 'Ironman'"
      ],
      "execution_count": 25,
      "outputs": []
    },
    {
      "cell_type": "code",
      "metadata": {
        "id": "gaIMDQNDh5ma"
      },
      "source": [
        "# 0 1 2 3 4 5 6\n",
        "# I r o n m a n"
      ],
      "execution_count": 26,
      "outputs": []
    },
    {
      "cell_type": "code",
      "metadata": {
        "colab": {
          "base_uri": "https://localhost:8080/"
        },
        "id": "pSWR5jZkiHcY",
        "outputId": "2cc5c4ea-b436-4819-92ba-f60e19cbc7a6"
      },
      "source": [
        "len(ironman)"
      ],
      "execution_count": 27,
      "outputs": [
        {
          "output_type": "execute_result",
          "data": {
            "text/plain": [
              "7"
            ]
          },
          "metadata": {
            "tags": []
          },
          "execution_count": 27
        }
      ]
    },
    {
      "cell_type": "code",
      "metadata": {
        "colab": {
          "base_uri": "https://localhost:8080/",
          "height": 35
        },
        "id": "g6renrpQiIh7",
        "outputId": "93bfa84e-6eb0-43a6-a8df-180f352580fe"
      },
      "source": [
        "ironman[1]"
      ],
      "execution_count": 28,
      "outputs": [
        {
          "output_type": "execute_result",
          "data": {
            "application/vnd.google.colaboratory.intrinsic+json": {
              "type": "string"
            },
            "text/plain": [
              "'r'"
            ]
          },
          "metadata": {
            "tags": []
          },
          "execution_count": 28
        }
      ]
    },
    {
      "cell_type": "code",
      "metadata": {
        "colab": {
          "base_uri": "https://localhost:8080/"
        },
        "id": "e0aQ4cVmiNsP",
        "outputId": "821e8291-eabc-4bda-fd79-e6a41d482624"
      },
      "source": [
        "print(ironman[-1])\n",
        "print(ironman[6])\n",
        "print(ironman[len(ironman)-1])\n",
        "print(ironman[-7])\n",
        "print(ironman[0])"
      ],
      "execution_count": 29,
      "outputs": [
        {
          "output_type": "stream",
          "text": [
            "n\n",
            "n\n",
            "n\n",
            "I\n",
            "I\n"
          ],
          "name": "stdout"
        }
      ]
    },
    {
      "cell_type": "code",
      "metadata": {
        "id": "GycNFbSYiWve"
      },
      "source": [
        "tvseries = ['Flash', 'Arrow', 'Greys Anatomy', 'Elementary', 'Sherlock']"
      ],
      "execution_count": 30,
      "outputs": []
    },
    {
      "cell_type": "code",
      "metadata": {
        "colab": {
          "base_uri": "https://localhost:8080/"
        },
        "id": "Nfffm-5qjS-J",
        "outputId": "b31ebd22-c990-46a6-e081-01f16233ad2b"
      },
      "source": [
        "len(tvseries)"
      ],
      "execution_count": 31,
      "outputs": [
        {
          "output_type": "execute_result",
          "data": {
            "text/plain": [
              "5"
            ]
          },
          "metadata": {
            "tags": []
          },
          "execution_count": 31
        }
      ]
    },
    {
      "cell_type": "code",
      "metadata": {
        "colab": {
          "base_uri": "https://localhost:8080/"
        },
        "id": "2UMiKJ1-jVoW",
        "outputId": "f4ff4298-512e-40de-f479-0b23efac6f8c"
      },
      "source": [
        "print(tvseries[0])\n",
        "print(tvseries[-1])\n",
        "print(tvseries[-2])"
      ],
      "execution_count": 32,
      "outputs": [
        {
          "output_type": "stream",
          "text": [
            "Flash\n",
            "Sherlock\n",
            "Elementary\n"
          ],
          "name": "stdout"
        }
      ]
    },
    {
      "cell_type": "code",
      "metadata": {
        "colab": {
          "base_uri": "https://localhost:8080/"
        },
        "id": "e-P3LWkRjkEr",
        "outputId": "db42370d-759c-4292-8b65-fea13ca627c7"
      },
      "source": [
        "tvseries[1:4]"
      ],
      "execution_count": 33,
      "outputs": [
        {
          "output_type": "execute_result",
          "data": {
            "text/plain": [
              "['Arrow', 'Greys Anatomy', 'Elementary']"
            ]
          },
          "metadata": {
            "tags": []
          },
          "execution_count": 33
        }
      ]
    },
    {
      "cell_type": "code",
      "metadata": {
        "colab": {
          "base_uri": "https://localhost:8080/"
        },
        "id": "JVsQLEaKjrwv",
        "outputId": "839fb762-b870-4bf7-b32f-d84fc929f755"
      },
      "source": [
        "tvseries[3:5]"
      ],
      "execution_count": 34,
      "outputs": [
        {
          "output_type": "execute_result",
          "data": {
            "text/plain": [
              "['Elementary', 'Sherlock']"
            ]
          },
          "metadata": {
            "tags": []
          },
          "execution_count": 34
        }
      ]
    },
    {
      "cell_type": "code",
      "metadata": {
        "colab": {
          "base_uri": "https://localhost:8080/",
          "height": 35
        },
        "id": "W3uKW_p0j062",
        "outputId": "3c1a16f9-307d-45cc-9b3a-3906dedfa201"
      },
      "source": [
        "ironman[0:3]"
      ],
      "execution_count": 35,
      "outputs": [
        {
          "output_type": "execute_result",
          "data": {
            "application/vnd.google.colaboratory.intrinsic+json": {
              "type": "string"
            },
            "text/plain": [
              "'Iro'"
            ]
          },
          "metadata": {
            "tags": []
          },
          "execution_count": 35
        }
      ]
    },
    {
      "cell_type": "code",
      "metadata": {
        "colab": {
          "base_uri": "https://localhost:8080/",
          "height": 35
        },
        "id": "pCuaAJljj-ib",
        "outputId": "6f7c7eae-3481-49b2-ddab-db491b416f91"
      },
      "source": [
        "ironman[:3]"
      ],
      "execution_count": 36,
      "outputs": [
        {
          "output_type": "execute_result",
          "data": {
            "application/vnd.google.colaboratory.intrinsic+json": {
              "type": "string"
            },
            "text/plain": [
              "'Iro'"
            ]
          },
          "metadata": {
            "tags": []
          },
          "execution_count": 36
        }
      ]
    },
    {
      "cell_type": "code",
      "metadata": {
        "colab": {
          "base_uri": "https://localhost:8080/"
        },
        "id": "1dQhq9zhkJy_",
        "outputId": "f9b12793-9fd0-4595-d1f4-4f4b2bd6dd43"
      },
      "source": [
        "tvseries[:3]"
      ],
      "execution_count": 37,
      "outputs": [
        {
          "output_type": "execute_result",
          "data": {
            "text/plain": [
              "['Flash', 'Arrow', 'Greys Anatomy']"
            ]
          },
          "metadata": {
            "tags": []
          },
          "execution_count": 37
        }
      ]
    },
    {
      "cell_type": "code",
      "metadata": {
        "colab": {
          "base_uri": "https://localhost:8080/"
        },
        "id": "qAwMqc7bkM2F",
        "outputId": "b0acad83-8928-414e-c054-6ec07edcc820"
      },
      "source": [
        "tvseries[2:]"
      ],
      "execution_count": 38,
      "outputs": [
        {
          "output_type": "execute_result",
          "data": {
            "text/plain": [
              "['Greys Anatomy', 'Elementary', 'Sherlock']"
            ]
          },
          "metadata": {
            "tags": []
          },
          "execution_count": 38
        }
      ]
    },
    {
      "cell_type": "code",
      "metadata": {
        "colab": {
          "base_uri": "https://localhost:8080/"
        },
        "id": "Ei_9_IsGkQXS",
        "outputId": "d35d1f8d-0624-4744-9948-9a9808a54f9d"
      },
      "source": [
        "tvseries[:]"
      ],
      "execution_count": 39,
      "outputs": [
        {
          "output_type": "execute_result",
          "data": {
            "text/plain": [
              "['Flash', 'Arrow', 'Greys Anatomy', 'Elementary', 'Sherlock']"
            ]
          },
          "metadata": {
            "tags": []
          },
          "execution_count": 39
        }
      ]
    },
    {
      "cell_type": "code",
      "metadata": {
        "colab": {
          "base_uri": "https://localhost:8080/"
        },
        "id": "0vp6b61HkZt6",
        "outputId": "b3b28ba8-7d0b-4873-9142-4f191d2fc927"
      },
      "source": [
        "tvseries[2:-2]"
      ],
      "execution_count": 40,
      "outputs": [
        {
          "output_type": "execute_result",
          "data": {
            "text/plain": [
              "['Greys Anatomy']"
            ]
          },
          "metadata": {
            "tags": []
          },
          "execution_count": 40
        }
      ]
    },
    {
      "cell_type": "markdown",
      "metadata": {
        "id": "dsTwwCJWkwLz"
      },
      "source": [
        "###Dictionaries\n",
        "\n",
        "Dictionaries are an unordered collection of key-value pairs, i.e., creating associations between two pieces of data"
      ]
    },
    {
      "cell_type": "code",
      "metadata": {
        "id": "XUGEXB-4kfOl"
      },
      "source": [
        "# Rohit Sharma - 45    \n",
        "# This is a key-value pair\n",
        "# Keys must be unique, value may be repeated"
      ],
      "execution_count": 41,
      "outputs": []
    },
    {
      "cell_type": "code",
      "metadata": {
        "id": "rVS7xla7GuQ0"
      },
      "source": [
        "jersey_num = {\n",
        "    \"Rohit Sharma\": 45,\n",
        "    \"Virat Kohli\":  18,\n",
        "    \"Sachin Tendulkar\": 10,\n",
        "    \"MS Dhoni\": 7\n",
        "}"
      ],
      "execution_count": 42,
      "outputs": []
    },
    {
      "cell_type": "code",
      "metadata": {
        "colab": {
          "base_uri": "https://localhost:8080/"
        },
        "id": "jW_pDVI3HLIf",
        "outputId": "73fe26cc-eb3d-45f4-f326-91047f0d6363"
      },
      "source": [
        "jersey_num"
      ],
      "execution_count": 43,
      "outputs": [
        {
          "output_type": "execute_result",
          "data": {
            "text/plain": [
              "{'MS Dhoni': 7, 'Rohit Sharma': 45, 'Sachin Tendulkar': 10, 'Virat Kohli': 18}"
            ]
          },
          "metadata": {
            "tags": []
          },
          "execution_count": 43
        }
      ]
    },
    {
      "cell_type": "code",
      "metadata": {
        "colab": {
          "base_uri": "https://localhost:8080/"
        },
        "id": "pQlpYQcSHTN1",
        "outputId": "9f576f15-5788-4485-b9e6-77f39d1082fd"
      },
      "source": [
        "len(jersey_num)"
      ],
      "execution_count": 44,
      "outputs": [
        {
          "output_type": "execute_result",
          "data": {
            "text/plain": [
              "4"
            ]
          },
          "metadata": {
            "tags": []
          },
          "execution_count": 44
        }
      ]
    },
    {
      "cell_type": "code",
      "metadata": {
        "colab": {
          "base_uri": "https://localhost:8080/"
        },
        "id": "rQ1diQEzHYQx",
        "outputId": "15c2c95a-8e87-47d2-8a06-4871bbf6cd48"
      },
      "source": [
        "jersey_num['Rohit Sharma']"
      ],
      "execution_count": 45,
      "outputs": [
        {
          "output_type": "execute_result",
          "data": {
            "text/plain": [
              "45"
            ]
          },
          "metadata": {
            "tags": []
          },
          "execution_count": 45
        }
      ]
    },
    {
      "cell_type": "code",
      "metadata": {
        "id": "hiZAhc1uHrX8"
      },
      "source": [
        "#jersey_num['Yuvraj Singh']"
      ],
      "execution_count": 46,
      "outputs": []
    },
    {
      "cell_type": "code",
      "metadata": {
        "id": "tgfMbnUiHzY0"
      },
      "source": [
        "jersey_num['Yuvraj Singh'] = 11"
      ],
      "execution_count": 47,
      "outputs": []
    },
    {
      "cell_type": "code",
      "metadata": {
        "colab": {
          "base_uri": "https://localhost:8080/"
        },
        "id": "YLZ4wn42IHqp",
        "outputId": "6854b703-c787-4479-fa34-c82f94eb8b9b"
      },
      "source": [
        "#Dictionaries does not retain order while printing\n",
        "jersey_num"
      ],
      "execution_count": 48,
      "outputs": [
        {
          "output_type": "execute_result",
          "data": {
            "text/plain": [
              "{'MS Dhoni': 7,\n",
              " 'Rohit Sharma': 45,\n",
              " 'Sachin Tendulkar': 10,\n",
              " 'Virat Kohli': 18,\n",
              " 'Yuvraj Singh': 11}"
            ]
          },
          "metadata": {
            "tags": []
          },
          "execution_count": 48
        }
      ]
    },
    {
      "cell_type": "code",
      "metadata": {
        "id": "vUCveFigII8b"
      },
      "source": [
        "jersey_num['Yuvraj Singh'] = 12"
      ],
      "execution_count": 49,
      "outputs": []
    },
    {
      "cell_type": "code",
      "metadata": {
        "colab": {
          "base_uri": "https://localhost:8080/"
        },
        "id": "lRPi-ROEIWzf",
        "outputId": "83fc37dc-25c2-409a-f6d4-81ad26148d9f"
      },
      "source": [
        "jersey_num"
      ],
      "execution_count": 50,
      "outputs": [
        {
          "output_type": "execute_result",
          "data": {
            "text/plain": [
              "{'MS Dhoni': 7,\n",
              " 'Rohit Sharma': 45,\n",
              " 'Sachin Tendulkar': 10,\n",
              " 'Virat Kohli': 18,\n",
              " 'Yuvraj Singh': 12}"
            ]
          },
          "metadata": {
            "tags": []
          },
          "execution_count": 50
        }
      ]
    },
    {
      "cell_type": "code",
      "metadata": {
        "colab": {
          "base_uri": "https://localhost:8080/"
        },
        "id": "5QbmvmdZIZvV",
        "outputId": "b252791b-6d83-456f-bbda-65111888d928"
      },
      "source": [
        "jersey_num.pop('MS Dhoni')"
      ],
      "execution_count": 51,
      "outputs": [
        {
          "output_type": "execute_result",
          "data": {
            "text/plain": [
              "7"
            ]
          },
          "metadata": {
            "tags": []
          },
          "execution_count": 51
        }
      ]
    },
    {
      "cell_type": "code",
      "metadata": {
        "colab": {
          "base_uri": "https://localhost:8080/"
        },
        "id": "SloSmDqiIjVG",
        "outputId": "96e0e989-8d6b-40cc-cdb9-701664a7f2d1"
      },
      "source": [
        "jersey_num"
      ],
      "execution_count": 52,
      "outputs": [
        {
          "output_type": "execute_result",
          "data": {
            "text/plain": [
              "{'Rohit Sharma': 45,\n",
              " 'Sachin Tendulkar': 10,\n",
              " 'Virat Kohli': 18,\n",
              " 'Yuvraj Singh': 12}"
            ]
          },
          "metadata": {
            "tags": []
          },
          "execution_count": 52
        }
      ]
    },
    {
      "cell_type": "code",
      "metadata": {
        "colab": {
          "base_uri": "https://localhost:8080/"
        },
        "id": "hB8TqBGzIk7n",
        "outputId": "5de3d009-ae2d-4be7-e8f9-4a47aa8c4ef8"
      },
      "source": [
        "'Rohit Sharma' in jersey_num"
      ],
      "execution_count": 53,
      "outputs": [
        {
          "output_type": "execute_result",
          "data": {
            "text/plain": [
              "True"
            ]
          },
          "metadata": {
            "tags": []
          },
          "execution_count": 53
        }
      ]
    },
    {
      "cell_type": "code",
      "metadata": {
        "colab": {
          "base_uri": "https://localhost:8080/"
        },
        "id": "k_29kCLDIwv9",
        "outputId": "d20859f7-6654-4e31-86ad-eb19b24ad1b3"
      },
      "source": [
        "'Bumrah' in jersey_num"
      ],
      "execution_count": 54,
      "outputs": [
        {
          "output_type": "execute_result",
          "data": {
            "text/plain": [
              "False"
            ]
          },
          "metadata": {
            "tags": []
          },
          "execution_count": 54
        }
      ]
    },
    {
      "cell_type": "code",
      "metadata": {
        "colab": {
          "base_uri": "https://localhost:8080/"
        },
        "id": "7_T-0Yb9IzuN",
        "outputId": "01f8d970-3321-4940-c8c0-7a434c4a1687"
      },
      "source": [
        "'Pandya' not in jersey_num"
      ],
      "execution_count": 55,
      "outputs": [
        {
          "output_type": "execute_result",
          "data": {
            "text/plain": [
              "True"
            ]
          },
          "metadata": {
            "tags": []
          },
          "execution_count": 55
        }
      ]
    },
    {
      "cell_type": "code",
      "metadata": {
        "colab": {
          "base_uri": "https://localhost:8080/"
        },
        "id": "70lartqiI6ZT",
        "outputId": "0356810a-a4c1-4681-8241-2ccc032881d2"
      },
      "source": [
        "jersey_num.values()"
      ],
      "execution_count": 56,
      "outputs": [
        {
          "output_type": "execute_result",
          "data": {
            "text/plain": [
              "dict_values([45, 18, 10, 12])"
            ]
          },
          "metadata": {
            "tags": []
          },
          "execution_count": 56
        }
      ]
    },
    {
      "cell_type": "code",
      "metadata": {
        "colab": {
          "base_uri": "https://localhost:8080/"
        },
        "id": "q__36XdnI_ki",
        "outputId": "e9aed498-99b8-43eb-a136-53e17e88da05"
      },
      "source": [
        "45 in jersey_num.values()"
      ],
      "execution_count": 57,
      "outputs": [
        {
          "output_type": "execute_result",
          "data": {
            "text/plain": [
              "True"
            ]
          },
          "metadata": {
            "tags": []
          },
          "execution_count": 57
        }
      ]
    },
    {
      "cell_type": "markdown",
      "metadata": {
        "id": "7XzgnYs7b2t9"
      },
      "source": [
        "###Tuples"
      ]
    },
    {
      "cell_type": "code",
      "metadata": {
        "id": "RX59TBo3JFrn"
      },
      "source": [
        "t = (9,8,7,6,5,4,3,2,1,0)"
      ],
      "execution_count": 58,
      "outputs": []
    },
    {
      "cell_type": "code",
      "metadata": {
        "id": "Nrlb0TUbb_bV"
      },
      "source": [
        "#Tuples are immutable\n",
        "#t[0] = 'New'"
      ],
      "execution_count": 59,
      "outputs": []
    },
    {
      "cell_type": "markdown",
      "metadata": {
        "id": "NnUDW_uNcXCW"
      },
      "source": [
        "###Sets\n",
        "\n",
        "Unordered set of unique elements"
      ]
    },
    {
      "cell_type": "code",
      "metadata": {
        "colab": {
          "base_uri": "https://localhost:8080/"
        },
        "id": "IONiCjNgcAvB",
        "outputId": "ff385a17-89b5-43d8-efcd-e5c3c2e0625f"
      },
      "source": [
        "{1,2,3}"
      ],
      "execution_count": 60,
      "outputs": [
        {
          "output_type": "execute_result",
          "data": {
            "text/plain": [
              "{1, 2, 3}"
            ]
          },
          "metadata": {
            "tags": []
          },
          "execution_count": 60
        }
      ]
    },
    {
      "cell_type": "code",
      "metadata": {
        "colab": {
          "base_uri": "https://localhost:8080/"
        },
        "id": "0t6T3ZcUcnJA",
        "outputId": "73f02ec1-1b58-4071-fae8-ea572ae0141d"
      },
      "source": [
        "{1,1,2,2,2,2,2,4,4,4,4,5,5,5,5}"
      ],
      "execution_count": 61,
      "outputs": [
        {
          "output_type": "execute_result",
          "data": {
            "text/plain": [
              "{1, 2, 4, 5}"
            ]
          },
          "metadata": {
            "tags": []
          },
          "execution_count": 61
        }
      ]
    }
  ]
}