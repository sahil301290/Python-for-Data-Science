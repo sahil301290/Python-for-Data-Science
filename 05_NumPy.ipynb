{
  "nbformat": 4,
  "nbformat_minor": 0,
  "metadata": {
    "colab": {
      "name": "05_NumPy.ipynb",
      "provenance": [],
      "authorship_tag": "ABX9TyNkzLGLNuc2KItn2yJhjzh1",
      "include_colab_link": true
    },
    "kernelspec": {
      "name": "python3",
      "display_name": "Python 3"
    },
    "language_info": {
      "name": "python"
    }
  },
  "cells": [
    {
      "cell_type": "markdown",
      "metadata": {
        "id": "view-in-github",
        "colab_type": "text"
      },
      "source": [
        "<a href=\"https://colab.research.google.com/github/sahil301290/Python-for-Data-Science/blob/main/05_NumPy.ipynb\" target=\"_parent\"><img src=\"https://colab.research.google.com/assets/colab-badge.svg\" alt=\"Open In Colab\"/></a>"
      ]
    },
    {
      "cell_type": "markdown",
      "metadata": {
        "id": "_posdNofl6eC"
      },
      "source": [
        "NumPy library is the first data science library which we need to learn and it has helped in building libraries such as scikit-learn, Pandas, Seaborn, etc."
      ]
    },
    {
      "cell_type": "markdown",
      "metadata": {
        "id": "vpmoy72zmcZl"
      },
      "source": [
        "###Agenda\n",
        "\n",
        "1. Understand NumPy\n",
        "\n",
        "2. Create arrays with NumPy\n",
        "\n",
        "  - Transforming lists\n",
        "  - Using built-in functions\n",
        "  - Random data generation\n",
        "\n",
        "3. Retrieve information from NumPy array using slicing and indexing\n",
        "\n",
        "4. Basic NumPy Operations\n",
        "\n",
        "5. Indexing and Selection\n",
        "\n",
        "  - Grabbing single and a slice of elements\n",
        "  - Broadcasting selections\n",
        "  - Indexing and selection in 2D\n",
        "  - Conditional selection\n",
        "\n",
        "6. Numpy Operations\n",
        "\n",
        "7. Vectorization"
      ]
    },
    {
      "cell_type": "markdown",
      "metadata": {
        "id": "d3tO74Wx-gXA"
      },
      "source": [
        "NumPy is a Python library to create N-dimensional arrays.\n",
        "\n",
        "Broadcasting can be done using NumPy.\n",
        "\n",
        "It has built-in capabilities for linear algebra, trigonometry, random number generation, and statistical distributions"
      ]
    },
    {
      "cell_type": "markdown",
      "metadata": {
        "id": "cm-YGnsB_Pg8"
      },
      "source": [
        "###Numpy Arrays\n",
        "\n",
        "Three techniques are available to us for the same:\n",
        "\n",
        "1. Transforming lists\n",
        "2. Using built-in functions\n",
        "3. Random data generation"
      ]
    },
    {
      "cell_type": "code",
      "metadata": {
        "id": "Qdmtg0TglcEC"
      },
      "source": [
        "import numpy as np"
      ],
      "execution_count": 1,
      "outputs": []
    },
    {
      "cell_type": "code",
      "metadata": {
        "colab": {
          "base_uri": "https://localhost:8080/"
        },
        "id": "wGi1-PeF_tMJ",
        "outputId": "2a71f6a4-a748-40bc-a867-101f9b2bff60"
      },
      "source": [
        "A = [1, 2, 3]\n",
        "print(type(A))\n",
        "print(A)"
      ],
      "execution_count": 2,
      "outputs": [
        {
          "output_type": "stream",
          "text": [
            "<class 'list'>\n",
            "[1, 2, 3]\n"
          ],
          "name": "stdout"
        }
      ]
    },
    {
      "cell_type": "code",
      "metadata": {
        "colab": {
          "base_uri": "https://localhost:8080/"
        },
        "id": "y4qC-T8H_4mq",
        "outputId": "c11f4992-29cf-4ce8-b009-9ba3d9d53b8c"
      },
      "source": [
        "Arr_A = np.array(A)\n",
        "print(type(Arr_A))\n",
        "print(Arr_A)"
      ],
      "execution_count": 3,
      "outputs": [
        {
          "output_type": "stream",
          "text": [
            "<class 'numpy.ndarray'>\n",
            "[1 2 3]\n"
          ],
          "name": "stdout"
        }
      ]
    },
    {
      "cell_type": "code",
      "metadata": {
        "colab": {
          "base_uri": "https://localhost:8080/"
        },
        "id": "TyzzXq_XAAdJ",
        "outputId": "a6c4937a-0281-4602-f114-035e13afe176"
      },
      "source": [
        "L_o_L = [[1,1,1],[2,2,2],[3,3,3]]\n",
        "print(L_o_L)"
      ],
      "execution_count": 4,
      "outputs": [
        {
          "output_type": "stream",
          "text": [
            "[[1, 1, 1], [2, 2, 2], [3, 3, 3]]\n"
          ],
          "name": "stdout"
        }
      ]
    },
    {
      "cell_type": "code",
      "metadata": {
        "colab": {
          "base_uri": "https://localhost:8080/"
        },
        "id": "CqOYLpdyAwzt",
        "outputId": "05993149-7372-445d-84f3-4e7c815bc6be"
      },
      "source": [
        "np.array(L_o_L)"
      ],
      "execution_count": 5,
      "outputs": [
        {
          "output_type": "execute_result",
          "data": {
            "text/plain": [
              "array([[1, 1, 1],\n",
              "       [2, 2, 2],\n",
              "       [3, 3, 3]])"
            ]
          },
          "metadata": {
            "tags": []
          },
          "execution_count": 5
        }
      ]
    },
    {
      "cell_type": "code",
      "metadata": {
        "colab": {
          "base_uri": "https://localhost:8080/"
        },
        "id": "FfnzVHltBSQm",
        "outputId": "6173c2bd-5f81-420a-dc68-a7d1856f8ab7"
      },
      "source": [
        "np.arange(0,50,5)   #start, stop, step"
      ],
      "execution_count": 6,
      "outputs": [
        {
          "output_type": "execute_result",
          "data": {
            "text/plain": [
              "array([ 0,  5, 10, 15, 20, 25, 30, 35, 40, 45])"
            ]
          },
          "metadata": {
            "tags": []
          },
          "execution_count": 6
        }
      ]
    },
    {
      "cell_type": "code",
      "metadata": {
        "colab": {
          "base_uri": "https://localhost:8080/"
        },
        "id": "jVRrVc-WBglt",
        "outputId": "b5d88593-1a32-4344-9cbc-75ac8550e3e7"
      },
      "source": [
        "np.zeros(5)"
      ],
      "execution_count": 7,
      "outputs": [
        {
          "output_type": "execute_result",
          "data": {
            "text/plain": [
              "array([0., 0., 0., 0., 0.])"
            ]
          },
          "metadata": {
            "tags": []
          },
          "execution_count": 7
        }
      ]
    },
    {
      "cell_type": "code",
      "metadata": {
        "colab": {
          "base_uri": "https://localhost:8080/"
        },
        "id": "3Moqa0XKBsl9",
        "outputId": "67a294c0-6592-4f25-d242-7cdeeceac389"
      },
      "source": [
        "np.zeros((3,4))"
      ],
      "execution_count": 8,
      "outputs": [
        {
          "output_type": "execute_result",
          "data": {
            "text/plain": [
              "array([[0., 0., 0., 0.],\n",
              "       [0., 0., 0., 0.],\n",
              "       [0., 0., 0., 0.]])"
            ]
          },
          "metadata": {
            "tags": []
          },
          "execution_count": 8
        }
      ]
    },
    {
      "cell_type": "code",
      "metadata": {
        "colab": {
          "base_uri": "https://localhost:8080/"
        },
        "id": "QGXA0axNBw_F",
        "outputId": "a8d0c045-e81c-46a0-8fb5-f62394146e38"
      },
      "source": [
        "np.ones(3)"
      ],
      "execution_count": 9,
      "outputs": [
        {
          "output_type": "execute_result",
          "data": {
            "text/plain": [
              "array([1., 1., 1.])"
            ]
          },
          "metadata": {
            "tags": []
          },
          "execution_count": 9
        }
      ]
    },
    {
      "cell_type": "code",
      "metadata": {
        "colab": {
          "base_uri": "https://localhost:8080/"
        },
        "id": "7mttn5myB4ni",
        "outputId": "544c9fe1-aed2-445c-936b-e6923a95f1ae"
      },
      "source": [
        "np.ones((3,3))"
      ],
      "execution_count": 10,
      "outputs": [
        {
          "output_type": "execute_result",
          "data": {
            "text/plain": [
              "array([[1., 1., 1.],\n",
              "       [1., 1., 1.],\n",
              "       [1., 1., 1.]])"
            ]
          },
          "metadata": {
            "tags": []
          },
          "execution_count": 10
        }
      ]
    },
    {
      "cell_type": "code",
      "metadata": {
        "colab": {
          "base_uri": "https://localhost:8080/"
        },
        "id": "5_HDHjs0B51I",
        "outputId": "71d84d47-cc83-4070-a362-f9e411375a47"
      },
      "source": [
        "np.linspace(0,20,4)   #Returns evenly spaced 4 numbers from 0 to 20 including 20"
      ],
      "execution_count": 11,
      "outputs": [
        {
          "output_type": "execute_result",
          "data": {
            "text/plain": [
              "array([ 0.        ,  6.66666667, 13.33333333, 20.        ])"
            ]
          },
          "metadata": {
            "tags": []
          },
          "execution_count": 11
        }
      ]
    },
    {
      "cell_type": "code",
      "metadata": {
        "colab": {
          "base_uri": "https://localhost:8080/"
        },
        "id": "MSCVuHF3CDVX",
        "outputId": "c16e358d-b99d-4862-a5ac-72794a645bed"
      },
      "source": [
        "np.linspace(0,4,5)"
      ],
      "execution_count": 12,
      "outputs": [
        {
          "output_type": "execute_result",
          "data": {
            "text/plain": [
              "array([0., 1., 2., 3., 4.])"
            ]
          },
          "metadata": {
            "tags": []
          },
          "execution_count": 12
        }
      ]
    },
    {
      "cell_type": "code",
      "metadata": {
        "colab": {
          "base_uri": "https://localhost:8080/"
        },
        "id": "5_xrm-GvCZNG",
        "outputId": "2a93824a-cf9d-453e-a74b-18c9320bdb2f"
      },
      "source": [
        "np.eye(4)     #Identity Matrix"
      ],
      "execution_count": 13,
      "outputs": [
        {
          "output_type": "execute_result",
          "data": {
            "text/plain": [
              "array([[1., 0., 0., 0.],\n",
              "       [0., 1., 0., 0.],\n",
              "       [0., 0., 1., 0.],\n",
              "       [0., 0., 0., 1.]])"
            ]
          },
          "metadata": {
            "tags": []
          },
          "execution_count": 13
        }
      ]
    },
    {
      "cell_type": "markdown",
      "metadata": {
        "id": "wUAaWvnasxNN"
      },
      "source": [
        "Random Distributions"
      ]
    },
    {
      "cell_type": "code",
      "metadata": {
        "colab": {
          "base_uri": "https://localhost:8080/"
        },
        "id": "3v1sTOAnDC7U",
        "outputId": "a53e76b4-8954-46af-f288-a6603978e132"
      },
      "source": [
        "np.random.rand(1)      #[)"
      ],
      "execution_count": 14,
      "outputs": [
        {
          "output_type": "execute_result",
          "data": {
            "text/plain": [
              "array([0.52392159])"
            ]
          },
          "metadata": {
            "tags": []
          },
          "execution_count": 14
        }
      ]
    },
    {
      "cell_type": "code",
      "metadata": {
        "colab": {
          "base_uri": "https://localhost:8080/"
        },
        "id": "-d7SWLNHtCxe",
        "outputId": "d3742915-19f7-455a-9823-90839013ac42"
      },
      "source": [
        "np.random.rand(5,6)"
      ],
      "execution_count": 15,
      "outputs": [
        {
          "output_type": "execute_result",
          "data": {
            "text/plain": [
              "array([[0.60674279, 0.7861796 , 0.49881813, 0.22201095, 0.07666932,\n",
              "        0.48920721],\n",
              "       [0.35090118, 0.40950255, 0.70112094, 0.42630034, 0.00352198,\n",
              "        0.56201155],\n",
              "       [0.79404838, 0.81246396, 0.36931066, 0.43734333, 0.00764353,\n",
              "        0.01143257],\n",
              "       [0.17174626, 0.37243219, 0.68241662, 0.57241667, 0.50363962,\n",
              "        0.48499019],\n",
              "       [0.83224034, 0.61550596, 0.68313465, 0.1603516 , 0.29213324,\n",
              "        0.25726765]])"
            ]
          },
          "metadata": {
            "tags": []
          },
          "execution_count": 15
        }
      ]
    },
    {
      "cell_type": "code",
      "metadata": {
        "colab": {
          "base_uri": "https://localhost:8080/"
        },
        "id": "fNatSRSPtMQp",
        "outputId": "3c8747e6-220c-4c18-ee65-7bc3b00fcc25"
      },
      "source": [
        "np.random.randn(5)      #standard normal distribution, mean is 0 and variance is 1"
      ],
      "execution_count": 16,
      "outputs": [
        {
          "output_type": "execute_result",
          "data": {
            "text/plain": [
              "array([-1.32069564,  0.48113448, -0.20809592,  0.62505632,  0.7508231 ])"
            ]
          },
          "metadata": {
            "tags": []
          },
          "execution_count": 16
        }
      ]
    },
    {
      "cell_type": "code",
      "metadata": {
        "colab": {
          "base_uri": "https://localhost:8080/"
        },
        "id": "cyp2tXw8tao2",
        "outputId": "9bd361ca-af92-42c1-a4c3-3dae859fa894"
      },
      "source": [
        "np.random.randn(2,3)"
      ],
      "execution_count": 17,
      "outputs": [
        {
          "output_type": "execute_result",
          "data": {
            "text/plain": [
              "array([[-1.13852124,  0.52957366,  0.86733792],\n",
              "       [-2.11201418,  0.24923121, -0.01077554]])"
            ]
          },
          "metadata": {
            "tags": []
          },
          "execution_count": 17
        }
      ]
    },
    {
      "cell_type": "code",
      "metadata": {
        "colab": {
          "base_uri": "https://localhost:8080/"
        },
        "id": "Iuc5mN3-tr4L",
        "outputId": "f7308518-b953-45b3-fee7-350618e0ca35"
      },
      "source": [
        "np.random.randint(0,10,3)      #Random integers"
      ],
      "execution_count": 18,
      "outputs": [
        {
          "output_type": "execute_result",
          "data": {
            "text/plain": [
              "array([9, 0, 0])"
            ]
          },
          "metadata": {
            "tags": []
          },
          "execution_count": 18
        }
      ]
    },
    {
      "cell_type": "code",
      "metadata": {
        "colab": {
          "base_uri": "https://localhost:8080/"
        },
        "id": "qxuBhjD3t39b",
        "outputId": "3e21a528-1c94-4ba3-97bf-6daf34a52036"
      },
      "source": [
        "np.random.randint(0,50,(4,5))"
      ],
      "execution_count": 19,
      "outputs": [
        {
          "output_type": "execute_result",
          "data": {
            "text/plain": [
              "array([[37, 29, 28, 15, 35],\n",
              "       [28,  3, 28, 48, 29],\n",
              "       [48, 10, 29, 24, 40],\n",
              "       [44,  2, 26, 49, 16]])"
            ]
          },
          "metadata": {
            "tags": []
          },
          "execution_count": 19
        }
      ]
    },
    {
      "cell_type": "code",
      "metadata": {
        "colab": {
          "base_uri": "https://localhost:8080/"
        },
        "id": "2S3rz6Art8zf",
        "outputId": "4835ed9c-8180-4253-86f3-091fca50c850"
      },
      "source": [
        "np.random.seed(42)\n",
        "np.random.rand(4)"
      ],
      "execution_count": 20,
      "outputs": [
        {
          "output_type": "execute_result",
          "data": {
            "text/plain": [
              "array([0.37454012, 0.95071431, 0.73199394, 0.59865848])"
            ]
          },
          "metadata": {
            "tags": []
          },
          "execution_count": 20
        }
      ]
    },
    {
      "cell_type": "code",
      "metadata": {
        "colab": {
          "base_uri": "https://localhost:8080/"
        },
        "id": "ZqE_qo2JuSJ6",
        "outputId": "30b9c291-4bd1-4ecf-dc80-2d4e7ce3fd9d"
      },
      "source": [
        "np.random.rand(4)"
      ],
      "execution_count": 21,
      "outputs": [
        {
          "output_type": "execute_result",
          "data": {
            "text/plain": [
              "array([0.15601864, 0.15599452, 0.05808361, 0.86617615])"
            ]
          },
          "metadata": {
            "tags": []
          },
          "execution_count": 21
        }
      ]
    },
    {
      "cell_type": "code",
      "metadata": {
        "colab": {
          "base_uri": "https://localhost:8080/"
        },
        "id": "HtjeCalUufV5",
        "outputId": "ac98f187-60c2-46a6-d4f4-62a78a72698a"
      },
      "source": [
        "np.random.rand(4)"
      ],
      "execution_count": 22,
      "outputs": [
        {
          "output_type": "execute_result",
          "data": {
            "text/plain": [
              "array([0.60111501, 0.70807258, 0.02058449, 0.96990985])"
            ]
          },
          "metadata": {
            "tags": []
          },
          "execution_count": 22
        }
      ]
    },
    {
      "cell_type": "code",
      "metadata": {
        "id": "8mO4L2_euffj"
      },
      "source": [
        "A = np.arange(0, 25)"
      ],
      "execution_count": 23,
      "outputs": []
    },
    {
      "cell_type": "code",
      "metadata": {
        "colab": {
          "base_uri": "https://localhost:8080/"
        },
        "id": "13ccQOqsuvTz",
        "outputId": "3162dc5b-716d-48a0-c1ec-66110e98c5ae"
      },
      "source": [
        "A.reshape(5,5)"
      ],
      "execution_count": 24,
      "outputs": [
        {
          "output_type": "execute_result",
          "data": {
            "text/plain": [
              "array([[ 0,  1,  2,  3,  4],\n",
              "       [ 5,  6,  7,  8,  9],\n",
              "       [10, 11, 12, 13, 14],\n",
              "       [15, 16, 17, 18, 19],\n",
              "       [20, 21, 22, 23, 24]])"
            ]
          },
          "metadata": {
            "tags": []
          },
          "execution_count": 24
        }
      ]
    },
    {
      "cell_type": "code",
      "metadata": {
        "id": "yt7YiUq2uwcU"
      },
      "source": [
        "#A.reshape(5,3)"
      ],
      "execution_count": 25,
      "outputs": []
    },
    {
      "cell_type": "code",
      "metadata": {
        "colab": {
          "base_uri": "https://localhost:8080/"
        },
        "id": "1yljMpGJu6HH",
        "outputId": "fabc6ea2-3e99-44c9-89eb-00ed376a1565"
      },
      "source": [
        "RandArr = np.random.randint(0,51,8)\n",
        "RandArr"
      ],
      "execution_count": 26,
      "outputs": [
        {
          "output_type": "execute_result",
          "data": {
            "text/plain": [
              "array([43, 29, 37,  1, 20, 32, 11, 21])"
            ]
          },
          "metadata": {
            "tags": []
          },
          "execution_count": 26
        }
      ]
    },
    {
      "cell_type": "code",
      "metadata": {
        "colab": {
          "base_uri": "https://localhost:8080/"
        },
        "id": "SyAxb5vAvGmW",
        "outputId": "188e2a92-1839-40e1-dd12-506581aa6eab"
      },
      "source": [
        "RandArr.max()"
      ],
      "execution_count": 27,
      "outputs": [
        {
          "output_type": "execute_result",
          "data": {
            "text/plain": [
              "43"
            ]
          },
          "metadata": {
            "tags": []
          },
          "execution_count": 27
        }
      ]
    },
    {
      "cell_type": "code",
      "metadata": {
        "colab": {
          "base_uri": "https://localhost:8080/"
        },
        "id": "bS6jZvkYvIaB",
        "outputId": "b96e6733-f340-457d-c5b1-7addeb2e3944"
      },
      "source": [
        "RandArr.min()"
      ],
      "execution_count": 28,
      "outputs": [
        {
          "output_type": "execute_result",
          "data": {
            "text/plain": [
              "1"
            ]
          },
          "metadata": {
            "tags": []
          },
          "execution_count": 28
        }
      ]
    },
    {
      "cell_type": "code",
      "metadata": {
        "colab": {
          "base_uri": "https://localhost:8080/"
        },
        "id": "yErbPPuhvJqi",
        "outputId": "f67feb02-6f19-4e51-e8db-23332798b7cc"
      },
      "source": [
        "RandArr.argmax()"
      ],
      "execution_count": 29,
      "outputs": [
        {
          "output_type": "execute_result",
          "data": {
            "text/plain": [
              "0"
            ]
          },
          "metadata": {
            "tags": []
          },
          "execution_count": 29
        }
      ]
    },
    {
      "cell_type": "code",
      "metadata": {
        "colab": {
          "base_uri": "https://localhost:8080/"
        },
        "id": "jkLmZIRTvPk8",
        "outputId": "30923693-51ae-401f-a46b-09804a2e32cf"
      },
      "source": [
        "RandArr.argmin()"
      ],
      "execution_count": 30,
      "outputs": [
        {
          "output_type": "execute_result",
          "data": {
            "text/plain": [
              "3"
            ]
          },
          "metadata": {
            "tags": []
          },
          "execution_count": 30
        }
      ]
    },
    {
      "cell_type": "code",
      "metadata": {
        "colab": {
          "base_uri": "https://localhost:8080/"
        },
        "id": "7G2lIn8VvVlt",
        "outputId": "8660159d-3564-4ef7-9f11-f7a30172b009"
      },
      "source": [
        "RandArr.dtype"
      ],
      "execution_count": 31,
      "outputs": [
        {
          "output_type": "execute_result",
          "data": {
            "text/plain": [
              "dtype('int64')"
            ]
          },
          "metadata": {
            "tags": []
          },
          "execution_count": 31
        }
      ]
    },
    {
      "cell_type": "code",
      "metadata": {
        "colab": {
          "base_uri": "https://localhost:8080/"
        },
        "id": "mLJ8wz7KvXwn",
        "outputId": "c7f26576-a5d2-4820-caa9-1bd8f94de03e"
      },
      "source": [
        "A.shape"
      ],
      "execution_count": 32,
      "outputs": [
        {
          "output_type": "execute_result",
          "data": {
            "text/plain": [
              "(25,)"
            ]
          },
          "metadata": {
            "tags": []
          },
          "execution_count": 32
        }
      ]
    },
    {
      "cell_type": "code",
      "metadata": {
        "colab": {
          "base_uri": "https://localhost:8080/"
        },
        "id": "hbRKNv7mvc43",
        "outputId": "b5535b0d-cfe9-4dd1-a86f-58d2d6e3ee97"
      },
      "source": [
        "A = A.reshape(5,5)\n",
        "A"
      ],
      "execution_count": 33,
      "outputs": [
        {
          "output_type": "execute_result",
          "data": {
            "text/plain": [
              "array([[ 0,  1,  2,  3,  4],\n",
              "       [ 5,  6,  7,  8,  9],\n",
              "       [10, 11, 12, 13, 14],\n",
              "       [15, 16, 17, 18, 19],\n",
              "       [20, 21, 22, 23, 24]])"
            ]
          },
          "metadata": {
            "tags": []
          },
          "execution_count": 33
        }
      ]
    },
    {
      "cell_type": "code",
      "metadata": {
        "colab": {
          "base_uri": "https://localhost:8080/"
        },
        "id": "VUZafcmxviiV",
        "outputId": "3b700d28-c705-4e11-9b36-042c19c04f15"
      },
      "source": [
        "A.shape"
      ],
      "execution_count": 34,
      "outputs": [
        {
          "output_type": "execute_result",
          "data": {
            "text/plain": [
              "(5, 5)"
            ]
          },
          "metadata": {
            "tags": []
          },
          "execution_count": 34
        }
      ]
    },
    {
      "cell_type": "code",
      "metadata": {
        "colab": {
          "base_uri": "https://localhost:8080/"
        },
        "id": "u6CxC1QXvkH0",
        "outputId": "f8cd1ac2-008d-4446-bc47-97ea0468ae9b"
      },
      "source": [
        "A = A.reshape(1,25)\n",
        "A"
      ],
      "execution_count": 35,
      "outputs": [
        {
          "output_type": "execute_result",
          "data": {
            "text/plain": [
              "array([[ 0,  1,  2,  3,  4,  5,  6,  7,  8,  9, 10, 11, 12, 13, 14, 15,\n",
              "        16, 17, 18, 19, 20, 21, 22, 23, 24]])"
            ]
          },
          "metadata": {
            "tags": []
          },
          "execution_count": 35
        }
      ]
    },
    {
      "cell_type": "markdown",
      "metadata": {
        "id": "vQON4TW5wHNG"
      },
      "source": [
        "###Indexing and Selection\n",
        "\n",
        "- Grabbing single and a slice of elements\n",
        "- Broadcasting selections\n",
        "- Indexing and selection in 2D\n",
        "- Conditional selection"
      ]
    },
    {
      "cell_type": "markdown",
      "metadata": {
        "id": "8x7m5eBHxkdB"
      },
      "source": [
        "Grabbing elements"
      ]
    },
    {
      "cell_type": "code",
      "metadata": {
        "colab": {
          "base_uri": "https://localhost:8080/"
        },
        "id": "8Yb4POCJvvn-",
        "outputId": "ebe2da59-6d1d-4871-93c9-1c1ab52bfca6"
      },
      "source": [
        "array = np.arange(0,15)\n",
        "array"
      ],
      "execution_count": 36,
      "outputs": [
        {
          "output_type": "execute_result",
          "data": {
            "text/plain": [
              "array([ 0,  1,  2,  3,  4,  5,  6,  7,  8,  9, 10, 11, 12, 13, 14])"
            ]
          },
          "metadata": {
            "tags": []
          },
          "execution_count": 36
        }
      ]
    },
    {
      "cell_type": "code",
      "metadata": {
        "colab": {
          "base_uri": "https://localhost:8080/"
        },
        "id": "WQ9W3_kNxKSh",
        "outputId": "fd92157c-4d7d-4570-d35a-453e3d16a6f8"
      },
      "source": [
        "array[4]"
      ],
      "execution_count": 37,
      "outputs": [
        {
          "output_type": "execute_result",
          "data": {
            "text/plain": [
              "4"
            ]
          },
          "metadata": {
            "tags": []
          },
          "execution_count": 37
        }
      ]
    },
    {
      "cell_type": "code",
      "metadata": {
        "colab": {
          "base_uri": "https://localhost:8080/"
        },
        "id": "1gRXbvHCxL3g",
        "outputId": "e54575e7-c01c-4179-ef11-bd8866e85714"
      },
      "source": [
        "array[4:9]"
      ],
      "execution_count": 38,
      "outputs": [
        {
          "output_type": "execute_result",
          "data": {
            "text/plain": [
              "array([4, 5, 6, 7, 8])"
            ]
          },
          "metadata": {
            "tags": []
          },
          "execution_count": 38
        }
      ]
    },
    {
      "cell_type": "code",
      "metadata": {
        "colab": {
          "base_uri": "https://localhost:8080/"
        },
        "id": "oX0cH1WexODi",
        "outputId": "2582412b-cafd-450b-b4a1-c99b6fd5205a"
      },
      "source": [
        "array[0:4]"
      ],
      "execution_count": 39,
      "outputs": [
        {
          "output_type": "execute_result",
          "data": {
            "text/plain": [
              "array([0, 1, 2, 3])"
            ]
          },
          "metadata": {
            "tags": []
          },
          "execution_count": 39
        }
      ]
    },
    {
      "cell_type": "code",
      "metadata": {
        "colab": {
          "base_uri": "https://localhost:8080/"
        },
        "id": "ofEVaWKGxTyL",
        "outputId": "6eaf75d8-db7a-4d35-8e29-a775458e37fb"
      },
      "source": [
        "array[:4]"
      ],
      "execution_count": 40,
      "outputs": [
        {
          "output_type": "execute_result",
          "data": {
            "text/plain": [
              "array([0, 1, 2, 3])"
            ]
          },
          "metadata": {
            "tags": []
          },
          "execution_count": 40
        }
      ]
    },
    {
      "cell_type": "code",
      "metadata": {
        "colab": {
          "base_uri": "https://localhost:8080/"
        },
        "id": "bUte_sxlxVEM",
        "outputId": "2c22c4e3-e0ec-4993-8d14-47f59ac93e4a"
      },
      "source": [
        "array[9:]"
      ],
      "execution_count": 41,
      "outputs": [
        {
          "output_type": "execute_result",
          "data": {
            "text/plain": [
              "array([ 9, 10, 11, 12, 13, 14])"
            ]
          },
          "metadata": {
            "tags": []
          },
          "execution_count": 41
        }
      ]
    },
    {
      "cell_type": "markdown",
      "metadata": {
        "id": "Uuhz4hR7xmVH"
      },
      "source": [
        "Broadcasting Selections"
      ]
    },
    {
      "cell_type": "code",
      "metadata": {
        "colab": {
          "base_uri": "https://localhost:8080/"
        },
        "id": "6gtyyOtsxZ2F",
        "outputId": "7ccd536f-908a-4263-8838-e3da5ee0d901"
      },
      "source": [
        "array[9:] = 100\n",
        "array"
      ],
      "execution_count": 42,
      "outputs": [
        {
          "output_type": "execute_result",
          "data": {
            "text/plain": [
              "array([  0,   1,   2,   3,   4,   5,   6,   7,   8, 100, 100, 100, 100,\n",
              "       100, 100])"
            ]
          },
          "metadata": {
            "tags": []
          },
          "execution_count": 42
        }
      ]
    },
    {
      "cell_type": "code",
      "metadata": {
        "colab": {
          "base_uri": "https://localhost:8080/"
        },
        "id": "ic5Uim5hxx4r",
        "outputId": "5680484f-856c-4baa-c351-ddaf0ce05b37"
      },
      "source": [
        "array = np.arange(0,15)\n",
        "array"
      ],
      "execution_count": 43,
      "outputs": [
        {
          "output_type": "execute_result",
          "data": {
            "text/plain": [
              "array([ 0,  1,  2,  3,  4,  5,  6,  7,  8,  9, 10, 11, 12, 13, 14])"
            ]
          },
          "metadata": {
            "tags": []
          },
          "execution_count": 43
        }
      ]
    },
    {
      "cell_type": "code",
      "metadata": {
        "colab": {
          "base_uri": "https://localhost:8080/"
        },
        "id": "dImT2Nu0x4hR",
        "outputId": "a3aeb903-69c0-450c-fe7a-36a957442e19"
      },
      "source": [
        "slicingarray =array[1:6]\n",
        "slicingarray"
      ],
      "execution_count": 44,
      "outputs": [
        {
          "output_type": "execute_result",
          "data": {
            "text/plain": [
              "array([1, 2, 3, 4, 5])"
            ]
          },
          "metadata": {
            "tags": []
          },
          "execution_count": 44
        }
      ]
    },
    {
      "cell_type": "code",
      "metadata": {
        "colab": {
          "base_uri": "https://localhost:8080/"
        },
        "id": "z-GqjQ0myH55",
        "outputId": "fc1f536a-70a0-47e3-e2b2-ecb738a88716"
      },
      "source": [
        "array"
      ],
      "execution_count": 45,
      "outputs": [
        {
          "output_type": "execute_result",
          "data": {
            "text/plain": [
              "array([ 0,  1,  2,  3,  4,  5,  6,  7,  8,  9, 10, 11, 12, 13, 14])"
            ]
          },
          "metadata": {
            "tags": []
          },
          "execution_count": 45
        }
      ]
    },
    {
      "cell_type": "code",
      "metadata": {
        "colab": {
          "base_uri": "https://localhost:8080/"
        },
        "id": "Cj0oBUA-yKZA",
        "outputId": "4cfe4b6a-d15c-4765-fcf0-613b6e43a02e"
      },
      "source": [
        "slicingarray[:] = 100\n",
        "slicingarray"
      ],
      "execution_count": 46,
      "outputs": [
        {
          "output_type": "execute_result",
          "data": {
            "text/plain": [
              "array([100, 100, 100, 100, 100])"
            ]
          },
          "metadata": {
            "tags": []
          },
          "execution_count": 46
        }
      ]
    },
    {
      "cell_type": "code",
      "metadata": {
        "colab": {
          "base_uri": "https://localhost:8080/"
        },
        "id": "wJ7UX5mSyPRu",
        "outputId": "3761f2e2-04f7-4108-cbb0-c999693e5e7a"
      },
      "source": [
        "array"
      ],
      "execution_count": 47,
      "outputs": [
        {
          "output_type": "execute_result",
          "data": {
            "text/plain": [
              "array([  0, 100, 100, 100, 100, 100,   6,   7,   8,   9,  10,  11,  12,\n",
              "        13,  14])"
            ]
          },
          "metadata": {
            "tags": []
          },
          "execution_count": 47
        }
      ]
    },
    {
      "cell_type": "code",
      "metadata": {
        "colab": {
          "base_uri": "https://localhost:8080/"
        },
        "id": "QyVgq8fLyWaM",
        "outputId": "1464efe2-3da7-4c5c-9480-9b0b669aaa92"
      },
      "source": [
        "arraycopy = array.copy()\n",
        "arraycopy"
      ],
      "execution_count": 48,
      "outputs": [
        {
          "output_type": "execute_result",
          "data": {
            "text/plain": [
              "array([  0, 100, 100, 100, 100, 100,   6,   7,   8,   9,  10,  11,  12,\n",
              "        13,  14])"
            ]
          },
          "metadata": {
            "tags": []
          },
          "execution_count": 48
        }
      ]
    },
    {
      "cell_type": "code",
      "metadata": {
        "colab": {
          "base_uri": "https://localhost:8080/"
        },
        "id": "hpyH8DZyynrj",
        "outputId": "eb5a5da1-49ee-4de5-9ce1-62dd02a8f63e"
      },
      "source": [
        "arraycopy[:] = 100\n",
        "arraycopy"
      ],
      "execution_count": 49,
      "outputs": [
        {
          "output_type": "execute_result",
          "data": {
            "text/plain": [
              "array([100, 100, 100, 100, 100, 100, 100, 100, 100, 100, 100, 100, 100,\n",
              "       100, 100])"
            ]
          },
          "metadata": {
            "tags": []
          },
          "execution_count": 49
        }
      ]
    },
    {
      "cell_type": "code",
      "metadata": {
        "colab": {
          "base_uri": "https://localhost:8080/"
        },
        "id": "yDtFRwkbywAk",
        "outputId": "a39b1594-4b79-4888-a02b-e4dd5ad5d137"
      },
      "source": [
        "array"
      ],
      "execution_count": 50,
      "outputs": [
        {
          "output_type": "execute_result",
          "data": {
            "text/plain": [
              "array([  0, 100, 100, 100, 100, 100,   6,   7,   8,   9,  10,  11,  12,\n",
              "        13,  14])"
            ]
          },
          "metadata": {
            "tags": []
          },
          "execution_count": 50
        }
      ]
    },
    {
      "cell_type": "markdown",
      "metadata": {
        "id": "LRBjP35ry4gP"
      },
      "source": [
        "Indexing and Selection in 2D"
      ]
    },
    {
      "cell_type": "code",
      "metadata": {
        "colab": {
          "base_uri": "https://localhost:8080/"
        },
        "id": "hWmaCANaywbS",
        "outputId": "418a0f55-e106-4c04-c268-b9fc76af3b6d"
      },
      "source": [
        "array2D = np.array([[1,2,3],[4,5,6],[7,8,9]])\n",
        "array2D"
      ],
      "execution_count": 51,
      "outputs": [
        {
          "output_type": "execute_result",
          "data": {
            "text/plain": [
              "array([[1, 2, 3],\n",
              "       [4, 5, 6],\n",
              "       [7, 8, 9]])"
            ]
          },
          "metadata": {
            "tags": []
          },
          "execution_count": 51
        }
      ]
    },
    {
      "cell_type": "code",
      "metadata": {
        "colab": {
          "base_uri": "https://localhost:8080/"
        },
        "id": "guNNUrlYzi9A",
        "outputId": "4ec1e731-dc87-4f32-df7d-d3f23ea58ade"
      },
      "source": [
        "array2D.shape"
      ],
      "execution_count": 52,
      "outputs": [
        {
          "output_type": "execute_result",
          "data": {
            "text/plain": [
              "(3, 3)"
            ]
          },
          "metadata": {
            "tags": []
          },
          "execution_count": 52
        }
      ]
    },
    {
      "cell_type": "code",
      "metadata": {
        "colab": {
          "base_uri": "https://localhost:8080/"
        },
        "id": "47O-Z2Iqzt6m",
        "outputId": "a3aa512c-f6ea-44ab-c61c-f443255f0b55"
      },
      "source": [
        "array2D[0]"
      ],
      "execution_count": 53,
      "outputs": [
        {
          "output_type": "execute_result",
          "data": {
            "text/plain": [
              "array([1, 2, 3])"
            ]
          },
          "metadata": {
            "tags": []
          },
          "execution_count": 53
        }
      ]
    },
    {
      "cell_type": "code",
      "metadata": {
        "colab": {
          "base_uri": "https://localhost:8080/"
        },
        "id": "W0mXGWSyzz25",
        "outputId": "480db416-acba-40bc-ed04-57591d071882"
      },
      "source": [
        "array2D[2]"
      ],
      "execution_count": 54,
      "outputs": [
        {
          "output_type": "execute_result",
          "data": {
            "text/plain": [
              "array([7, 8, 9])"
            ]
          },
          "metadata": {
            "tags": []
          },
          "execution_count": 54
        }
      ]
    },
    {
      "cell_type": "code",
      "metadata": {
        "colab": {
          "base_uri": "https://localhost:8080/"
        },
        "id": "GR3GmlFZz1a2",
        "outputId": "a0a8d9b2-987a-49e8-8f61-2206c1857194"
      },
      "source": [
        "print(array2D[1][2])\n",
        "print(array2D[1,2])"
      ],
      "execution_count": 55,
      "outputs": [
        {
          "output_type": "stream",
          "text": [
            "6\n",
            "6\n"
          ],
          "name": "stdout"
        }
      ]
    },
    {
      "cell_type": "code",
      "metadata": {
        "colab": {
          "base_uri": "https://localhost:8080/"
        },
        "id": "ChlIxkRo0EuW",
        "outputId": "7445d612-98e0-45a9-abfe-80c8be357aab"
      },
      "source": [
        "print(array2D[0,2])"
      ],
      "execution_count": 56,
      "outputs": [
        {
          "output_type": "stream",
          "text": [
            "3\n"
          ],
          "name": "stdout"
        }
      ]
    },
    {
      "cell_type": "code",
      "metadata": {
        "colab": {
          "base_uri": "https://localhost:8080/"
        },
        "id": "XiwjpOOI0Kjd",
        "outputId": "eb75c4b7-7156-4c1c-aa39-888209cade3a"
      },
      "source": [
        "array2D[:2]"
      ],
      "execution_count": 57,
      "outputs": [
        {
          "output_type": "execute_result",
          "data": {
            "text/plain": [
              "array([[1, 2, 3],\n",
              "       [4, 5, 6]])"
            ]
          },
          "metadata": {
            "tags": []
          },
          "execution_count": 57
        }
      ]
    },
    {
      "cell_type": "code",
      "metadata": {
        "colab": {
          "base_uri": "https://localhost:8080/"
        },
        "id": "yFFEvt4e0PGh",
        "outputId": "3fafdf57-4f4a-4c91-e6e9-c6647642f4cb"
      },
      "source": [
        "array2D[:2,1:]"
      ],
      "execution_count": 58,
      "outputs": [
        {
          "output_type": "execute_result",
          "data": {
            "text/plain": [
              "array([[2, 3],\n",
              "       [5, 6]])"
            ]
          },
          "metadata": {
            "tags": []
          },
          "execution_count": 58
        }
      ]
    },
    {
      "cell_type": "markdown",
      "metadata": {
        "id": "RWExOJpL0i0n"
      },
      "source": [
        "Conditional Selection"
      ]
    },
    {
      "cell_type": "code",
      "metadata": {
        "colab": {
          "base_uri": "https://localhost:8080/"
        },
        "id": "E14AJ-EH0WF_",
        "outputId": "932ae4cf-2bd9-4873-9d03-353489aaf369"
      },
      "source": [
        "array = np.arange(1,11)\n",
        "array"
      ],
      "execution_count": 59,
      "outputs": [
        {
          "output_type": "execute_result",
          "data": {
            "text/plain": [
              "array([ 1,  2,  3,  4,  5,  6,  7,  8,  9, 10])"
            ]
          },
          "metadata": {
            "tags": []
          },
          "execution_count": 59
        }
      ]
    },
    {
      "cell_type": "code",
      "metadata": {
        "colab": {
          "base_uri": "https://localhost:8080/"
        },
        "id": "BfEGyuOI0tPQ",
        "outputId": "e815099b-094b-473d-d828-7cf1a2809cc7"
      },
      "source": [
        "array>5"
      ],
      "execution_count": 60,
      "outputs": [
        {
          "output_type": "execute_result",
          "data": {
            "text/plain": [
              "array([False, False, False, False, False,  True,  True,  True,  True,\n",
              "        True])"
            ]
          },
          "metadata": {
            "tags": []
          },
          "execution_count": 60
        }
      ]
    },
    {
      "cell_type": "code",
      "metadata": {
        "colab": {
          "base_uri": "https://localhost:8080/"
        },
        "id": "nbIxK6Nc0vRs",
        "outputId": "1588ffc7-8792-4463-aa86-6605e2e771d9"
      },
      "source": [
        "bool_array = array>5\n",
        "bool_array"
      ],
      "execution_count": 61,
      "outputs": [
        {
          "output_type": "execute_result",
          "data": {
            "text/plain": [
              "array([False, False, False, False, False,  True,  True,  True,  True,\n",
              "        True])"
            ]
          },
          "metadata": {
            "tags": []
          },
          "execution_count": 61
        }
      ]
    },
    {
      "cell_type": "code",
      "metadata": {
        "colab": {
          "base_uri": "https://localhost:8080/"
        },
        "id": "89Rf5P7-06Ij",
        "outputId": "e555a624-9955-4e21-f9dc-78f2859b52cd"
      },
      "source": [
        "array[bool_array]"
      ],
      "execution_count": 62,
      "outputs": [
        {
          "output_type": "execute_result",
          "data": {
            "text/plain": [
              "array([ 6,  7,  8,  9, 10])"
            ]
          },
          "metadata": {
            "tags": []
          },
          "execution_count": 62
        }
      ]
    },
    {
      "cell_type": "code",
      "metadata": {
        "colab": {
          "base_uri": "https://localhost:8080/"
        },
        "id": "4c9ik5xh073s",
        "outputId": "712c6ef3-db78-4228-b157-1a54c634cbe6"
      },
      "source": [
        "array[array>5]"
      ],
      "execution_count": 63,
      "outputs": [
        {
          "output_type": "execute_result",
          "data": {
            "text/plain": [
              "array([ 6,  7,  8,  9, 10])"
            ]
          },
          "metadata": {
            "tags": []
          },
          "execution_count": 63
        }
      ]
    },
    {
      "cell_type": "markdown",
      "metadata": {
        "id": "8yN8PxiV1TK3"
      },
      "source": [
        "###NumPy Operations"
      ]
    },
    {
      "cell_type": "code",
      "metadata": {
        "colab": {
          "base_uri": "https://localhost:8080/"
        },
        "id": "k8TJj9RY1D7W",
        "outputId": "1cdc1e90-1a20-483c-d135-262f938b3df7"
      },
      "source": [
        "array = np.arange(0,10)\n",
        "array"
      ],
      "execution_count": 64,
      "outputs": [
        {
          "output_type": "execute_result",
          "data": {
            "text/plain": [
              "array([0, 1, 2, 3, 4, 5, 6, 7, 8, 9])"
            ]
          },
          "metadata": {
            "tags": []
          },
          "execution_count": 64
        }
      ]
    },
    {
      "cell_type": "code",
      "metadata": {
        "colab": {
          "base_uri": "https://localhost:8080/"
        },
        "id": "w_mTnF8l1gAt",
        "outputId": "878b7a6d-89dc-4539-9e93-cc3c89d57966"
      },
      "source": [
        "array + 5"
      ],
      "execution_count": 65,
      "outputs": [
        {
          "output_type": "execute_result",
          "data": {
            "text/plain": [
              "array([ 5,  6,  7,  8,  9, 10, 11, 12, 13, 14])"
            ]
          },
          "metadata": {
            "tags": []
          },
          "execution_count": 65
        }
      ]
    },
    {
      "cell_type": "code",
      "metadata": {
        "colab": {
          "base_uri": "https://localhost:8080/"
        },
        "id": "a2R9fGjJ1jHZ",
        "outputId": "14ae075a-523c-4ab5-b090-84450c6361c2"
      },
      "source": [
        "array - 2"
      ],
      "execution_count": 66,
      "outputs": [
        {
          "output_type": "execute_result",
          "data": {
            "text/plain": [
              "array([-2, -1,  0,  1,  2,  3,  4,  5,  6,  7])"
            ]
          },
          "metadata": {
            "tags": []
          },
          "execution_count": 66
        }
      ]
    },
    {
      "cell_type": "code",
      "metadata": {
        "colab": {
          "base_uri": "https://localhost:8080/"
        },
        "id": "7L8NERZe1jzK",
        "outputId": "3e9b7dfa-596d-4f62-a25e-d5bfea9909a4"
      },
      "source": [
        "array + array"
      ],
      "execution_count": 67,
      "outputs": [
        {
          "output_type": "execute_result",
          "data": {
            "text/plain": [
              "array([ 0,  2,  4,  6,  8, 10, 12, 14, 16, 18])"
            ]
          },
          "metadata": {
            "tags": []
          },
          "execution_count": 67
        }
      ]
    },
    {
      "cell_type": "code",
      "metadata": {
        "colab": {
          "base_uri": "https://localhost:8080/"
        },
        "id": "2au7g0vA1lop",
        "outputId": "6c327aed-d9d4-49f4-e436-03a4308f7736"
      },
      "source": [
        "array * array"
      ],
      "execution_count": 68,
      "outputs": [
        {
          "output_type": "execute_result",
          "data": {
            "text/plain": [
              "array([ 0,  1,  4,  9, 16, 25, 36, 49, 64, 81])"
            ]
          },
          "metadata": {
            "tags": []
          },
          "execution_count": 68
        }
      ]
    },
    {
      "cell_type": "code",
      "metadata": {
        "colab": {
          "base_uri": "https://localhost:8080/"
        },
        "id": "sHRsNqDC1nY3",
        "outputId": "ec9f7239-2127-4433-e091-41c4422f86f5"
      },
      "source": [
        "array - array"
      ],
      "execution_count": 69,
      "outputs": [
        {
          "output_type": "execute_result",
          "data": {
            "text/plain": [
              "array([0, 0, 0, 0, 0, 0, 0, 0, 0, 0])"
            ]
          },
          "metadata": {
            "tags": []
          },
          "execution_count": 69
        }
      ]
    },
    {
      "cell_type": "code",
      "metadata": {
        "colab": {
          "base_uri": "https://localhost:8080/"
        },
        "id": "fYel936V1oTb",
        "outputId": "cb30303b-349a-42c7-9341-9d97464bdfb6"
      },
      "source": [
        "array"
      ],
      "execution_count": 70,
      "outputs": [
        {
          "output_type": "execute_result",
          "data": {
            "text/plain": [
              "array([0, 1, 2, 3, 4, 5, 6, 7, 8, 9])"
            ]
          },
          "metadata": {
            "tags": []
          },
          "execution_count": 70
        }
      ]
    },
    {
      "cell_type": "code",
      "metadata": {
        "colab": {
          "base_uri": "https://localhost:8080/"
        },
        "id": "rdp63nKE1rD0",
        "outputId": "7e283341-4ccd-4497-9e4e-5fdeaa18f418"
      },
      "source": [
        "array/array"
      ],
      "execution_count": 71,
      "outputs": [
        {
          "output_type": "stream",
          "text": [
            "/usr/local/lib/python3.7/dist-packages/ipykernel_launcher.py:1: RuntimeWarning: invalid value encountered in true_divide\n",
            "  \"\"\"Entry point for launching an IPython kernel.\n"
          ],
          "name": "stderr"
        },
        {
          "output_type": "execute_result",
          "data": {
            "text/plain": [
              "array([nan,  1.,  1.,  1.,  1.,  1.,  1.,  1.,  1.,  1.])"
            ]
          },
          "metadata": {
            "tags": []
          },
          "execution_count": 71
        }
      ]
    },
    {
      "cell_type": "code",
      "metadata": {
        "id": "k73JGdRp1tDR"
      },
      "source": [
        "#1 / 0"
      ],
      "execution_count": 72,
      "outputs": []
    },
    {
      "cell_type": "code",
      "metadata": {
        "colab": {
          "base_uri": "https://localhost:8080/"
        },
        "id": "qUr7jCVr1ybo",
        "outputId": "9fbab59b-8ba2-43d2-a345-55ead9fc8be2"
      },
      "source": [
        "1/array"
      ],
      "execution_count": 73,
      "outputs": [
        {
          "output_type": "stream",
          "text": [
            "/usr/local/lib/python3.7/dist-packages/ipykernel_launcher.py:1: RuntimeWarning: divide by zero encountered in true_divide\n",
            "  \"\"\"Entry point for launching an IPython kernel.\n"
          ],
          "name": "stderr"
        },
        {
          "output_type": "execute_result",
          "data": {
            "text/plain": [
              "array([       inf, 1.        , 0.5       , 0.33333333, 0.25      ,\n",
              "       0.2       , 0.16666667, 0.14285714, 0.125     , 0.11111111])"
            ]
          },
          "metadata": {
            "tags": []
          },
          "execution_count": 73
        }
      ]
    },
    {
      "cell_type": "code",
      "metadata": {
        "colab": {
          "base_uri": "https://localhost:8080/"
        },
        "id": "Rgy6puFp13es",
        "outputId": "45b5d90a-81c4-4817-8ba0-d1aca3cd6f5c"
      },
      "source": [
        "np.sqrt(array)"
      ],
      "execution_count": 74,
      "outputs": [
        {
          "output_type": "execute_result",
          "data": {
            "text/plain": [
              "array([0.        , 1.        , 1.41421356, 1.73205081, 2.        ,\n",
              "       2.23606798, 2.44948974, 2.64575131, 2.82842712, 3.        ])"
            ]
          },
          "metadata": {
            "tags": []
          },
          "execution_count": 74
        }
      ]
    },
    {
      "cell_type": "code",
      "metadata": {
        "colab": {
          "base_uri": "https://localhost:8080/"
        },
        "id": "XuSNAqSA2DM-",
        "outputId": "07ff0f1f-74a7-4e6d-9a46-227b3c6bab79"
      },
      "source": [
        "np.sin(array)"
      ],
      "execution_count": 75,
      "outputs": [
        {
          "output_type": "execute_result",
          "data": {
            "text/plain": [
              "array([ 0.        ,  0.84147098,  0.90929743,  0.14112001, -0.7568025 ,\n",
              "       -0.95892427, -0.2794155 ,  0.6569866 ,  0.98935825,  0.41211849])"
            ]
          },
          "metadata": {
            "tags": []
          },
          "execution_count": 75
        }
      ]
    },
    {
      "cell_type": "code",
      "metadata": {
        "colab": {
          "base_uri": "https://localhost:8080/"
        },
        "id": "BHUNECrw2Fkg",
        "outputId": "d92ce86c-f730-4d7c-9ff9-5ae041b91d47"
      },
      "source": [
        "np.log(array)"
      ],
      "execution_count": 76,
      "outputs": [
        {
          "output_type": "stream",
          "text": [
            "/usr/local/lib/python3.7/dist-packages/ipykernel_launcher.py:1: RuntimeWarning: divide by zero encountered in log\n",
            "  \"\"\"Entry point for launching an IPython kernel.\n"
          ],
          "name": "stderr"
        },
        {
          "output_type": "execute_result",
          "data": {
            "text/plain": [
              "array([      -inf, 0.        , 0.69314718, 1.09861229, 1.38629436,\n",
              "       1.60943791, 1.79175947, 1.94591015, 2.07944154, 2.19722458])"
            ]
          },
          "metadata": {
            "tags": []
          },
          "execution_count": 76
        }
      ]
    },
    {
      "cell_type": "code",
      "metadata": {
        "colab": {
          "base_uri": "https://localhost:8080/"
        },
        "id": "CMZDeVFi2GmF",
        "outputId": "b8a4521b-c324-4210-fe1c-51559b32af99"
      },
      "source": [
        " array.sum()"
      ],
      "execution_count": 77,
      "outputs": [
        {
          "output_type": "execute_result",
          "data": {
            "text/plain": [
              "45"
            ]
          },
          "metadata": {
            "tags": []
          },
          "execution_count": 77
        }
      ]
    },
    {
      "cell_type": "code",
      "metadata": {
        "colab": {
          "base_uri": "https://localhost:8080/"
        },
        "id": "SWHrHkbM2WwN",
        "outputId": "1daa668b-ffc4-4fa2-d3ee-dd896adf2836"
      },
      "source": [
        "array.mean()"
      ],
      "execution_count": 78,
      "outputs": [
        {
          "output_type": "execute_result",
          "data": {
            "text/plain": [
              "4.5"
            ]
          },
          "metadata": {
            "tags": []
          },
          "execution_count": 78
        }
      ]
    },
    {
      "cell_type": "code",
      "metadata": {
        "colab": {
          "base_uri": "https://localhost:8080/"
        },
        "id": "ra4l8RVE2Xkk",
        "outputId": "4b432c5e-33a9-4996-a26c-3fba2d49bec1"
      },
      "source": [
        "array.max()"
      ],
      "execution_count": 79,
      "outputs": [
        {
          "output_type": "execute_result",
          "data": {
            "text/plain": [
              "9"
            ]
          },
          "metadata": {
            "tags": []
          },
          "execution_count": 79
        }
      ]
    },
    {
      "cell_type": "code",
      "metadata": {
        "colab": {
          "base_uri": "https://localhost:8080/"
        },
        "id": "hlBYA6up2Ydr",
        "outputId": "db7aa925-77e4-436f-c63b-5cf5a339acfe"
      },
      "source": [
        "array.var()"
      ],
      "execution_count": 80,
      "outputs": [
        {
          "output_type": "execute_result",
          "data": {
            "text/plain": [
              "8.25"
            ]
          },
          "metadata": {
            "tags": []
          },
          "execution_count": 80
        }
      ]
    },
    {
      "cell_type": "code",
      "metadata": {
        "colab": {
          "base_uri": "https://localhost:8080/"
        },
        "id": "gjN81UxD2ZfC",
        "outputId": "6df52c33-8776-4ed0-a9d1-c041260e6814"
      },
      "source": [
        "array.std()"
      ],
      "execution_count": 81,
      "outputs": [
        {
          "output_type": "execute_result",
          "data": {
            "text/plain": [
              "2.8722813232690143"
            ]
          },
          "metadata": {
            "tags": []
          },
          "execution_count": 81
        }
      ]
    },
    {
      "cell_type": "code",
      "metadata": {
        "colab": {
          "base_uri": "https://localhost:8080/"
        },
        "id": "SHUZqMss2aht",
        "outputId": "8848bdf7-afeb-45be-e71b-ea752c49b248"
      },
      "source": [
        "array2d = np.arange(0,25).reshape(5,5)\n",
        "array2d"
      ],
      "execution_count": 82,
      "outputs": [
        {
          "output_type": "execute_result",
          "data": {
            "text/plain": [
              "array([[ 0,  1,  2,  3,  4],\n",
              "       [ 5,  6,  7,  8,  9],\n",
              "       [10, 11, 12, 13, 14],\n",
              "       [15, 16, 17, 18, 19],\n",
              "       [20, 21, 22, 23, 24]])"
            ]
          },
          "metadata": {
            "tags": []
          },
          "execution_count": 82
        }
      ]
    },
    {
      "cell_type": "code",
      "metadata": {
        "colab": {
          "base_uri": "https://localhost:8080/"
        },
        "id": "mwoPfkJG2imG",
        "outputId": "e75c0265-3f82-46d5-8519-c4fb09d888c9"
      },
      "source": [
        "array2d.shape"
      ],
      "execution_count": 83,
      "outputs": [
        {
          "output_type": "execute_result",
          "data": {
            "text/plain": [
              "(5, 5)"
            ]
          },
          "metadata": {
            "tags": []
          },
          "execution_count": 83
        }
      ]
    },
    {
      "cell_type": "code",
      "metadata": {
        "colab": {
          "base_uri": "https://localhost:8080/"
        },
        "id": "Bg93KUtx2tVu",
        "outputId": "a8ddab93-d4a4-4385-e62a-09244170d0a4"
      },
      "source": [
        "array2d.sum()"
      ],
      "execution_count": 84,
      "outputs": [
        {
          "output_type": "execute_result",
          "data": {
            "text/plain": [
              "300"
            ]
          },
          "metadata": {
            "tags": []
          },
          "execution_count": 84
        }
      ]
    },
    {
      "cell_type": "code",
      "metadata": {
        "colab": {
          "base_uri": "https://localhost:8080/"
        },
        "id": "Y5k2ydk12ygE",
        "outputId": "70cc7581-5ad6-4dde-aa99-1d7732549190"
      },
      "source": [
        "array2d.sum(axis = 0)"
      ],
      "execution_count": 85,
      "outputs": [
        {
          "output_type": "execute_result",
          "data": {
            "text/plain": [
              "array([50, 55, 60, 65, 70])"
            ]
          },
          "metadata": {
            "tags": []
          },
          "execution_count": 85
        }
      ]
    },
    {
      "cell_type": "code",
      "metadata": {
        "colab": {
          "base_uri": "https://localhost:8080/"
        },
        "id": "M0oslo7v23Ag",
        "outputId": "63cfa923-382b-4cb2-aae8-03dc1c5cea59"
      },
      "source": [
        "array2d.sum(axis = 1)"
      ],
      "execution_count": 86,
      "outputs": [
        {
          "output_type": "execute_result",
          "data": {
            "text/plain": [
              "array([ 10,  35,  60,  85, 110])"
            ]
          },
          "metadata": {
            "tags": []
          },
          "execution_count": 86
        }
      ]
    },
    {
      "cell_type": "markdown",
      "metadata": {
        "id": "N45An_yZ3tzz"
      },
      "source": [
        "###Vectorization\n",
        "\n",
        "####Agenda - Why to minimize usage of loops?\n",
        "\n",
        "Let's see the difference in time taken for execution of dot product function using a For Loop versus Vectorization in Python. \n",
        "\n",
        "Libraries needed for Vectorization: numpy and time"
      ]
    },
    {
      "cell_type": "code",
      "metadata": {
        "colab": {
          "base_uri": "https://localhost:8080/"
        },
        "id": "CHtdgK0B38d3",
        "outputId": "57cf5c6e-1e28-45e6-df80-972971140c22"
      },
      "source": [
        "a = np.array([1,2,3,4])     #This is how to declare a 1D array\n",
        "print(a)\n",
        "#numpy.random.rand() method creates array of specified shape with random values.\n",
        "b = np.random.rand(5)       #Generating 5 random values\n",
        "print(b)"
      ],
      "execution_count": 87,
      "outputs": [
        {
          "output_type": "stream",
          "text": [
            "[1 2 3 4]\n",
            "[0.00706631 0.02306243 0.52477466 0.39986097 0.04666566]\n"
          ],
          "name": "stdout"
        }
      ]
    },
    {
      "cell_type": "code",
      "metadata": {
        "id": "8G-xymAd3_G_"
      },
      "source": [
        "import time\n",
        "\n",
        "a = np.random.rand(10000000)       #a is 1D array of 10 Million Random Values\n",
        "b = np.random.rand(10000000)"
      ],
      "execution_count": 88,
      "outputs": []
    },
    {
      "cell_type": "markdown",
      "metadata": {
        "id": "u1B-MyyX4DJA"
      },
      "source": [
        "###Comparing the time taken for dot product of a and b vectors in milliseconds\n",
        "\n",
        "Background on time.time(): returns the time as a floating point number expressed in seconds since the epoch, in UTC. Literally speaking the epoch is Unix time 0 (midnight 1/1/1970)"
      ]
    },
    {
      "cell_type": "code",
      "metadata": {
        "colab": {
          "base_uri": "https://localhost:8080/"
        },
        "id": "xGpB4umc4BAP",
        "outputId": "c036f325-56ee-43a7-9df1-dc40581965a4"
      },
      "source": [
        "tic = time.time()\n",
        "c   = np.dot(a,b)\n",
        "toc = time.time()\n",
        "print(c)\n",
        "print(\"Vectorized Version:\"+str(1000*(toc-tic))+\"ms\")\n",
        "c=0\n",
        "tic = time.time()\n",
        "for i in range(10000000):\n",
        "    c += a[i]*b[i]\n",
        "toc = time.time()\n",
        "print(c)\n",
        "print(\"For Loop Version:\"+str(1000*(toc-tic))+\"ms\")"
      ],
      "execution_count": 89,
      "outputs": [
        {
          "output_type": "stream",
          "text": [
            "2499546.2026826087\n",
            "Vectorized Version:13.635873794555664ms\n",
            "2499546.2026828593\n",
            "For Loop Version:6599.217176437378ms\n"
          ],
          "name": "stdout"
        }
      ]
    }
  ]
}
